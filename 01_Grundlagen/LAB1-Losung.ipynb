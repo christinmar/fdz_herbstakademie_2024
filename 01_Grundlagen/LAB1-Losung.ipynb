{
 "cells": [
  {
   "cell_type": "markdown",
   "id": "f648aba6",
   "metadata": {},
   "source": [
    "<h1><center> 1. Übung: Grundlagen in Python"
   ]
  },
  {
   "cell_type": "markdown",
   "id": "07f080a3",
   "metadata": {},
   "source": [
    "<div class=\"alert alert-warning\"><h4> Aufgabe 1: Taschenrechner</div>"
   ]
  },
  {
   "cell_type": "markdown",
   "id": "35bf9bc7",
   "metadata": {},
   "source": [
    "Berechnen Sie\n",
    " * e^(1)\n",
    " * ln(5)\n",
    " * Quadratwurzel aus 16\n",
    " * 16 hoch 0,5\n",
    " * -3 hoch 4\n",
    " * geben Sie die Kreiszahl an und\n",
    " * runden Sie die Zahl 3.33333 auf zwei Nachkommstellen."
   ]
  },
  {
   "cell_type": "code",
   "execution_count": null,
   "id": "dbcd54f7",
   "metadata": {
    "code_folding": []
   },
   "outputs": [],
   "source": [
    "# Lösung Aufgabe 1):"
   ]
  },
  {
   "cell_type": "code",
   "execution_count": null,
   "id": "ba67b364",
   "metadata": {},
   "outputs": [],
   "source": [
    "import math as m"
   ]
  },
  {
   "cell_type": "code",
   "execution_count": null,
   "id": "ddf65f8d",
   "metadata": {},
   "outputs": [],
   "source": [
    "m.exp(1)"
   ]
  },
  {
   "cell_type": "code",
   "execution_count": null,
   "id": "b481b6f8",
   "metadata": {},
   "outputs": [],
   "source": [
    "help(m)"
   ]
  },
  {
   "cell_type": "code",
   "execution_count": null,
   "id": "c51f8471",
   "metadata": {},
   "outputs": [],
   "source": [
    "m.log(5)"
   ]
  },
  {
   "cell_type": "code",
   "execution_count": null,
   "id": "53198402",
   "metadata": {},
   "outputs": [],
   "source": [
    "m.sqrt(16)"
   ]
  },
  {
   "cell_type": "code",
   "execution_count": null,
   "id": "1b07e0ae",
   "metadata": {},
   "outputs": [],
   "source": [
    "16**0.5"
   ]
  },
  {
   "cell_type": "code",
   "execution_count": null,
   "id": "9aad50f8",
   "metadata": {},
   "outputs": [],
   "source": [
    "(-3)**4"
   ]
  },
  {
   "cell_type": "code",
   "execution_count": null,
   "id": "ef65f911",
   "metadata": {},
   "outputs": [],
   "source": [
    "m.pi"
   ]
  },
  {
   "cell_type": "code",
   "execution_count": null,
   "id": "e793a243",
   "metadata": {},
   "outputs": [],
   "source": [
    "round(3.33333)"
   ]
  },
  {
   "cell_type": "code",
   "execution_count": null,
   "id": "99f14f36",
   "metadata": {},
   "outputs": [],
   "source": [
    "round(3.33333, ndigits=2)"
   ]
  },
  {
   "cell_type": "code",
   "execution_count": null,
   "id": "15b4ab02",
   "metadata": {},
   "outputs": [],
   "source": [
    "round(3.33333, 2)"
   ]
  },
  {
   "cell_type": "markdown",
   "id": "f9730b39",
   "metadata": {},
   "source": [
    "<div class=\"alert alert-warning\"><h4> Aufgabe 2: Variablen und Zuweisungen"
   ]
  },
  {
   "cell_type": "markdown",
   "id": "2ee44e99",
   "metadata": {},
   "source": [
    "a) Weisen Sie der Variable `x` den Wert 4 zu, der Variable `y` den Wert **True** und der Variable `z` den Wert: \n",
    "$$\\sqrt{3x^2 + \\ln\\bigg(\\frac{1}{e^x}\\bigg)+5}$$ \n",
    "Erstellen Sie hierfür eine eigene Code-Zelle."
   ]
  },
  {
   "cell_type": "code",
   "execution_count": null,
   "id": "f2fc2588",
   "metadata": {},
   "outputs": [],
   "source": [
    "x = 4\n",
    "y = True \n",
    "z = m.sqrt(3*x**2 + m.log(1/m.exp(x))+5)"
   ]
  },
  {
   "cell_type": "markdown",
   "id": "3047fd0a",
   "metadata": {},
   "source": [
    "b) Überlegen Sie was folgende Zeilen ausgeben und führen Sie diese dann in Python aus, um Ihr Ergebnis zu überprüfen: <br>\n",
    "* `X` \n",
    "* `x2 = x * z` \n",
    "* `x2` \n",
    "* `x2 = x2 * z` \n",
    "* `x + y`"
   ]
  },
  {
   "cell_type": "code",
   "execution_count": null,
   "id": "1d9abac0",
   "metadata": {},
   "outputs": [],
   "source": [
    "x"
   ]
  },
  {
   "cell_type": "code",
   "execution_count": null,
   "id": "401e8dd5",
   "metadata": {},
   "outputs": [],
   "source": [
    "y"
   ]
  },
  {
   "cell_type": "code",
   "execution_count": null,
   "id": "274eaf0b",
   "metadata": {},
   "outputs": [],
   "source": [
    "z"
   ]
  },
  {
   "cell_type": "code",
   "execution_count": null,
   "id": "4eaeed51",
   "metadata": {},
   "outputs": [],
   "source": [
    "X # Python ist Case-Sensitive (unterscheidet zwischen  Groß- und Kleinschreibung)"
   ]
  },
  {
   "cell_type": "code",
   "execution_count": null,
   "id": "0eefd6a3",
   "metadata": {},
   "outputs": [],
   "source": [
    "x2 = x * z"
   ]
  },
  {
   "cell_type": "code",
   "execution_count": null,
   "id": "f360e3da",
   "metadata": {},
   "outputs": [],
   "source": [
    "x2"
   ]
  },
  {
   "cell_type": "code",
   "execution_count": null,
   "id": "d2bcf38a",
   "metadata": {},
   "outputs": [],
   "source": [
    "x2 = x2 * z\n",
    "x2"
   ]
  },
  {
   "cell_type": "code",
   "execution_count": null,
   "id": "c4daeb8c",
   "metadata": {},
   "outputs": [],
   "source": [
    "x + y"
   ]
  },
  {
   "cell_type": "markdown",
   "id": "9c61072d",
   "metadata": {},
   "source": [
    "c) Welche Ausgabe bewirkt der folgende Code? Überlegen Sie, bevor Sie die Eingabe in Python ausprobieren.\n",
    "\n",
    "```\n",
    "zahl = 10\n",
    "keine_zahl = \"10\"\n",
    "print(zahl + 1) \n",
    "print(keine_zahl + 1)\n",
    "print(10 + zahl)\n",
    "```"
   ]
  },
  {
   "cell_type": "code",
   "execution_count": null,
   "id": "7ffd42f9",
   "metadata": {},
   "outputs": [],
   "source": [
    "zahl = 10\n",
    "keine_zahl = \"10\"\n",
    "print(zahl + 1)\n",
    "print(keine_zahl + 1) # Fehlermeldung: nicht möglich string und integer zu addieren\n",
    "print(10 + zahl) # Python führt diese Zeile nicht mehr aus, sondern bricht nach Fehlermeldung ab"
   ]
  },
  {
   "cell_type": "markdown",
   "id": "c423e1eb",
   "metadata": {},
   "source": [
    "<div class=\"alert alert-warning\"><h4> Aufgabe 3: Logische Operatoren und Verknüpfungen"
   ]
  },
  {
   "cell_type": "markdown",
   "id": "d3c859e0",
   "metadata": {},
   "source": [
    "a) Weisen Sie `a` den Wert 10 zu und `b` den Wert 5. Ist `b` größer-gleich `a` erfüllt? "
   ]
  },
  {
   "cell_type": "code",
   "execution_count": 1,
   "id": "4264d298",
   "metadata": {},
   "outputs": [
    {
     "data": {
      "text/plain": [
       "False"
      ]
     },
     "execution_count": 1,
     "metadata": {},
     "output_type": "execute_result"
    }
   ],
   "source": [
    "a = 10\n",
    "b = 5\n",
    "b >= a # b größer-gleich a nicht erfüllt"
   ]
  },
  {
   "cell_type": "markdown",
   "id": "39c93e50",
   "metadata": {},
   "source": [
    "b) Prüfen Sie, ob `a` ungleich 10 ist. "
   ]
  },
  {
   "cell_type": "code",
   "execution_count": null,
   "id": "77122152",
   "metadata": {},
   "outputs": [],
   "source": [
    "a != 10"
   ]
  },
  {
   "cell_type": "markdown",
   "id": "0a18b779",
   "metadata": {},
   "source": [
    "c) Prüfen Sie, ob `a` größer 10 ist und `b` kleiner 10."
   ]
  },
  {
   "cell_type": "code",
   "execution_count": 2,
   "id": "bf9017b1",
   "metadata": {},
   "outputs": [
    {
     "data": {
      "text/plain": [
       "False"
      ]
     },
     "execution_count": 2,
     "metadata": {},
     "output_type": "execute_result"
    }
   ],
   "source": [
    "a > 10 and b < 10"
   ]
  },
  {
   "cell_type": "markdown",
   "id": "a32f9c26",
   "metadata": {},
   "source": [
    "<div class=\"alert alert-warning\"><h4> Aufgabe 4: String Operationen"
   ]
  },
  {
   "cell_type": "markdown",
   "id": "bb652465",
   "metadata": {},
   "source": [
    "Sie haben die beiden Strings `s1=\"Haus\"` und `s2=\"Boot\"` gegeben."
   ]
  },
  {
   "cell_type": "markdown",
   "id": "71c0aadb",
   "metadata": {},
   "source": [
    "a) Fügen Sie `s1` und `s2` zu dem Objekt `s3=\"hausboot\"` zusammen. Beachten Sie Groß- und Kleinschreibung. Sehen Sie sich hierfür die Methode `s3.lower()` an."
   ]
  },
  {
   "cell_type": "code",
   "execution_count": null,
   "id": "72cfaf61",
   "metadata": {},
   "outputs": [],
   "source": [
    "s3 = s1 + s2\n",
    "s3"
   ]
  },
  {
   "cell_type": "code",
   "execution_count": null,
   "id": "87f037ae",
   "metadata": {},
   "outputs": [],
   "source": [
    "s3 = s3.lower()\n",
    "s3"
   ]
  },
  {
   "cell_type": "code",
   "execution_count": null,
   "id": "95aa2f10",
   "metadata": {},
   "outputs": [],
   "source": [
    "s1 = \"Haus\"\n",
    "s2 = \"Boot\""
   ]
  },
  {
   "cell_type": "markdown",
   "id": "12991dcf",
   "metadata": {},
   "source": [
    "b) Sie haben die beiden Objekte\n",
    "* `v1 = 16`\n",
    "* `v2 = 3`. \\\n",
    "Geben Sie mithilfe der *format*- und der *f-String*-Methode, folgenden Satz aus: \"Die Quadratwurzel aus **v1** ergibt **Wurzel v1**. Wird **v2** quadriert, erhält man **v2^2**.\" Ersetzen Sie dabei die fettgedruckten Zeichen und geben Sie nur Integer aus."
   ]
  },
  {
   "cell_type": "code",
   "execution_count": 2,
   "id": "f1de0f63",
   "metadata": {},
   "outputs": [],
   "source": [
    "import math as m"
   ]
  },
  {
   "cell_type": "code",
   "execution_count": 3,
   "id": "b71ad79b",
   "metadata": {},
   "outputs": [
    {
     "data": {
      "text/plain": [
       "'Die Quadratwurzel aus 16 ergibt 4. Wird 3 quadriert, erhält man 9.'"
      ]
     },
     "execution_count": 3,
     "metadata": {},
     "output_type": "execute_result"
    }
   ],
   "source": [
    "v1=16\n",
    "v2=3\n",
    "\n",
    "\"Die Quadratwurzel aus {} ergibt {}. Wird {} quadriert, erhält man {}.\".format(v1, int(m.sqrt(v1)), v2, v2**2)\n",
    "# m.sqrt(v1) gibt uns float zurück --> typecasting durch int()"
   ]
  },
  {
   "cell_type": "code",
   "execution_count": 4,
   "id": "a4f6d919",
   "metadata": {},
   "outputs": [
    {
     "data": {
      "text/plain": [
       "'Die Quadratwurzel aus 16 ergibt 4. Wird 3 quadriert, erhält man 9.'"
      ]
     },
     "execution_count": 4,
     "metadata": {},
     "output_type": "execute_result"
    }
   ],
   "source": [
    "f\"Die Quadratwurzel aus {v1} ergibt {int(m.sqrt(v1))}. Wird {v2} quadriert, erhält man {v2**2}.\""
   ]
  },
  {
   "cell_type": "markdown",
   "id": "5fd12abd",
   "metadata": {},
   "source": [
    "c) Welche Ausdrücke geben uns das letzte Zeichen \"s\" im String `s1` aus? Überlegen Sie, bevor Sie Ihre Eingabe in Python prüfen.\n",
    "* s1[len(s1)-1]\n",
    "* s1[len(s1)+1]\n",
    "* s1[-1]\n",
    "* s1[len(s1)]\n",
    "* s1[4]"
   ]
  },
  {
   "cell_type": "code",
   "execution_count": null,
   "id": "e8d48067",
   "metadata": {},
   "outputs": [],
   "source": [
    "s1[len(s1)-1] "
   ]
  },
  {
   "cell_type": "code",
   "execution_count": null,
   "id": "b9f09de5",
   "metadata": {},
   "outputs": [],
   "source": [
    "s1[len(s1)+1] # Kein Element an Index-Position 5"
   ]
  },
  {
   "cell_type": "code",
   "execution_count": null,
   "id": "aa86cbeb",
   "metadata": {},
   "outputs": [],
   "source": [
    "s1[-1]"
   ]
  },
  {
   "cell_type": "code",
   "execution_count": null,
   "id": "0ac3cdc7",
   "metadata": {},
   "outputs": [],
   "source": [
    "s1[len(s1)] # Kein Element an Index-Position 4"
   ]
  },
  {
   "cell_type": "code",
   "execution_count": null,
   "id": "057dab1f",
   "metadata": {},
   "outputs": [],
   "source": [
    "s1[4] # Kein Element an Index-Position 4"
   ]
  },
  {
   "cell_type": "markdown",
   "id": "9eb2bd12",
   "metadata": {},
   "source": [
    "<div class=\"alert alert-warning\"><h4> Aufgabe 5: Datentypen und Datencontainer"
   ]
  },
  {
   "cell_type": "markdown",
   "id": "20e5fdd2",
   "metadata": {},
   "source": [
    "a) Sie haben gegeben: `a = (3, 1, 2)`. Sortieren Sie die Zahlen nach Größe. Wie verändert sich der Datentyp?"
   ]
  },
  {
   "cell_type": "code",
   "execution_count": 5,
   "id": "2e527954",
   "metadata": {},
   "outputs": [
    {
     "name": "stdout",
     "output_type": "stream",
     "text": [
      "<class 'tuple'>\n",
      "[1, 2, 3]\n"
     ]
    },
    {
     "data": {
      "text/plain": [
       "list"
      ]
     },
     "execution_count": 5,
     "metadata": {},
     "output_type": "execute_result"
    }
   ],
   "source": [
    "a = (3, 1, 2)\n",
    "print(type(a)) # tuple\n",
    "print(sorted(a))\n",
    "type(sorted(a)) # liste"
   ]
  },
  {
   "cell_type": "markdown",
   "id": "187dab3f",
   "metadata": {},
   "source": [
    "b) Sie haben gegeben `b = (\"a\", \"1\", 2, (\"b\", 3, \"c\"), (\"4\", \"d\"))`. Indizieren Sie die beiden genesteten Tupeln `(\"b\", 3, \"c\")`, `(\"4\", \"d\")`. Im Anschluss indizieren Sie noch den Buchstaben `c`."
   ]
  },
  {
   "cell_type": "code",
   "execution_count": 6,
   "id": "15696834",
   "metadata": {},
   "outputs": [
    {
     "name": "stdout",
     "output_type": "stream",
     "text": [
      "(('b', 3, 'c'), ('4', 'd'))\n"
     ]
    },
    {
     "data": {
      "text/plain": [
       "'c'"
      ]
     },
     "execution_count": 6,
     "metadata": {},
     "output_type": "execute_result"
    }
   ],
   "source": [
    "b = (\"a\", \"1\", 2, (\"b\", 3, \"c\"), (\"4\", \"d\"))\n",
    "print(b[3:5]) # Intervall ist rechtsoffen, d.h. Elemente an Indexposition 3 und 4 werden ausgegeben\n",
    "b[3][2]"
   ]
  },
  {
   "cell_type": "markdown",
   "id": "e3c8d8d9",
   "metadata": {},
   "source": [
    "c) Sie haben gegeben: \\\n",
    "`list1 = [3, 2, 1]` \\\n",
    "Ziehen Sie das letzte Element aus `list1`."
   ]
  },
  {
   "cell_type": "code",
   "execution_count": null,
   "id": "09f8b89e",
   "metadata": {},
   "outputs": [],
   "source": [
    "list1 = [3, 2, 1]\n",
    "list1.pop()"
   ]
  },
  {
   "cell_type": "markdown",
   "id": "ac6acd72",
   "metadata": {},
   "source": [
    "d) Fügen Sie `list1` das Element 1 hinzu und sortieren Sie die Liste nach Größe."
   ]
  },
  {
   "cell_type": "code",
   "execution_count": null,
   "id": "c4161806",
   "metadata": {},
   "outputs": [],
   "source": [
    "list1.append(1)\n",
    "list1.sort()\n",
    "list1"
   ]
  },
  {
   "cell_type": "markdown",
   "id": "9c799b6f",
   "metadata": {},
   "source": [
    "<div class=\"alert alert-warning\"><h4> Aufgabe 6: Counter"
   ]
  },
  {
   "cell_type": "markdown",
   "id": "7eec787d",
   "metadata": {},
   "source": [
    "a) Führen Sie die folgende Zelle aus und lassen Sie sich im Anschluss die Elemente des Objekts **c** mithilfe der Methode `elements()` als Liste ausgeben."
   ]
  },
  {
   "cell_type": "code",
   "execution_count": null,
   "id": "11e55e98",
   "metadata": {},
   "outputs": [],
   "source": [
    "from collections import Counter\n",
    "c = Counter(a=4, b=2)"
   ]
  },
  {
   "cell_type": "code",
   "execution_count": null,
   "id": "52545a81",
   "metadata": {},
   "outputs": [],
   "source": [
    "print(list(c.elements()))"
   ]
  },
  {
   "cell_type": "markdown",
   "id": "2c4163f3",
   "metadata": {},
   "source": [
    "b) Geben Sie die drei häufigsten Character und deren Anzahl des folgenden Strings aus."
   ]
  },
  {
   "cell_type": "code",
   "execution_count": null,
   "id": "9c6c488d",
   "metadata": {},
   "outputs": [],
   "source": [
    "d = \"lkseropewdssafsdfafkpwe\""
   ]
  },
  {
   "cell_type": "code",
   "execution_count": null,
   "id": "11bc72ea",
   "metadata": {},
   "outputs": [],
   "source": [
    "Counter(d).most_common(3)"
   ]
  },
  {
   "cell_type": "markdown",
   "id": "37b7b260",
   "metadata": {},
   "source": [
    "c) Lassen Sie sich die Differenzmenge der beiden Listen `l1` und `l2` ausgeben. Verwenden Sie hierfür das **collections**-Modul. Der Output sieht wie folgt aus: \\\n",
    "`[3, 3, 4, 7]`"
   ]
  },
  {
   "cell_type": "code",
   "execution_count": null,
   "id": "7f95870f",
   "metadata": {},
   "outputs": [],
   "source": [
    "l1 = [1,1,2,3,3,4,4,5,6,7]\n",
    "l2 = [1,1,2,4,5,6]"
   ]
  },
  {
   "cell_type": "code",
   "execution_count": null,
   "id": "c5bfebca",
   "metadata": {},
   "outputs": [],
   "source": [
    "c1 = Counter(l1)\n",
    "c2 = Counter(l2)\n",
    "diff = c1-c2\n",
    "print(list(diff.elements()))"
   ]
  }
 ],
 "metadata": {
  "kernelspec": {
   "display_name": "Python 3 (ipykernel)",
   "language": "python",
   "name": "python3"
  },
  "language_info": {
   "codemirror_mode": {
    "name": "ipython",
    "version": 3
   },
   "file_extension": ".py",
   "mimetype": "text/x-python",
   "name": "python",
   "nbconvert_exporter": "python",
   "pygments_lexer": "ipython3",
   "version": "3.9.18"
  }
 },
 "nbformat": 4,
 "nbformat_minor": 5
}
