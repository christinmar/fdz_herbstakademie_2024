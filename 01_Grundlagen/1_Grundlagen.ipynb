{
 "cells": [
  {
   "cell_type": "markdown",
   "id": "35d6ad43",
   "metadata": {
    "slideshow": {
     "slide_type": "slide"
    }
   },
   "source": [
    "<h1><center> 1 Grundlagen in Python </h1>"
   ]
  },
  {
   "cell_type": "markdown",
   "id": "36eb476d",
   "metadata": {
    "slideshow": {
     "slide_type": "skip"
    }
   },
   "source": [
    "<div class=\"alert alert-info\"> Der erste Block beschäftigt sich mit den <strong>Python-Grundlagen</strong> und gliedert sich in folgende Abschnitte: \n",
    "    <ol>\n",
    "        <li> Python als Taschenrechner </li>\n",
    "        <li> Variablen und Zuweisungen</li>\n",
    "        <li> Logische Operatoren und Verknüpfungen</li>\n",
    "        <li> Funktionen und Module</li>\n",
    "        <li> Datencontainer</li>\n",
    "        <li> Counter</li>\n",
    "    </ol>\n",
    "\n",
    "Nach dieser Lerneinheit können Sie einfache Rechnungen und logische Vergleiche in Python ausführen. Zudem können Sie Module importieren und Funktionen anwenden. Sie können die Zweckmäßigkeit unterschiedlicher Datentypen und -container beurteilen und Elemente aus diesen indizieren.</div>"
   ]
  },
  {
   "cell_type": "markdown",
   "id": "59893586",
   "metadata": {
    "slideshow": {
     "slide_type": "slide"
    }
   },
   "source": [
    "## Wichtiges über Python"
   ]
  },
  {
   "cell_type": "markdown",
   "id": "572d36c2",
   "metadata": {
    "slideshow": {
     "slide_type": "subslide"
    }
   },
   "source": [
    "#### Geschichte\n",
    "Die [Historie von Python](https://en.wikipedia.org/wiki/History_of_Python) reicht in die frühen 90er Jahre zurück. Im Laufe der Jahre haben sich viele Unsauberkeiten angesammelt, die 2009 mit Python 3.0 bereinigt wurden. Dabei wurde bewusst in Kauf genommen, dass Python-3-Programme inkompatibel zu Python 2.7, der letzten Zweierversion, sind. Da viele Bibliotheken auf Python 2.7 basieren, wird diese Version bis heute eingesetzt. \n",
    "\n",
    "Wir arbeiten mit Python 3. Beim Kopieren von 2.7-Code-Beispielen aus dem Internet können daher Anpassungen nötig sein. Weitere Informationen finden Sie [hier](https://docs.python.org/3.0/whatsnew/3.0.html). \n",
    "\n",
    "#### The Zen of Python\n",
    "Im Vergleich zu Java oder C# lassen sich viele Dinge in Python sehr leicht formulieren. Guter Python Code wird als *Pythonic* beschrieben. Die Grundprinzipien können Sie auf [python.org](http://legacy.python.org/dev/peps/pep-0020/) oder in dem Sie `import this` mithilfe von `Strg + Enter` in der nachfolgenden Code-Zelle ausführen."
   ]
  },
  {
   "cell_type": "code",
   "execution_count": null,
   "id": "55763df6",
   "metadata": {
    "slideshow": {
     "slide_type": "subslide"
    }
   },
   "outputs": [],
   "source": [
    "import this"
   ]
  },
  {
   "cell_type": "markdown",
   "id": "57c03797",
   "metadata": {},
   "source": [
    "Die Zelle oben können Sie nur einmal ausführen. Wenn Sie die Zelle das zweite Mal ausführen, bekommen Sie keine Ausgabe mehr. Möchten Sie die Zelle öfter ausführen, müssen Sie den **Kernel** neu starten. Das können Sie, indem Sie oben auf den Reiter \"Kernel\" >> \"Restart\" klicken. \n",
    "\n",
    "Der **Kernel** ist der 'zentrale Teil' des Systems, der den Code ausführt und alle Berechnungen durchführt. Es handelt sich dabei um den Prozess, der u.a. (1) den Python-Code interpretiert und ausführt und der (2) Variablen, Funktionen etc. verwaltet und den Speicher, der für die Ausführung des Codes benötigt wird, verwaltet. \\\n",
    "Durch das Neustarten des Kernels wird 'alles' zurückgesetzt, einschließlich aller definierten Variablen und geladenen Bibliotheken. "
   ]
  },
  {
   "cell_type": "markdown",
   "id": "2f1010f7",
   "metadata": {
    "slideshow": {
     "slide_type": "slide"
    }
   },
   "source": [
    "## 1.1 Python als Taschenrechner"
   ]
  },
  {
   "cell_type": "markdown",
   "id": "eabcb69a",
   "metadata": {
    "slideshow": {
     "slide_type": "skip"
    }
   },
   "source": [
    "**Hinweis**: Zellen werden durch das Klicken auf *Run* in der oberen Funktionsleiste, durch `Strg + Enter` oder durch `Shift-Enter` (Springen zum nächsten Block) ausgeführt. <br>\n",
    "* In Jupyter Notebook gibt es unterschiedliche Arten von Zellen: Code-Zellen für Python-Befehle oder Markdown-Zellen zur Textverarbeitung. Sie sehen oben rechts neben *Run*, dass es sich bei dieser Zelle um eine Markdown-Zelle handelt. <br>\n",
    "* Neue Code-Zelle einfügen: `Esc + b`\n",
    "* Neue Markdown-Zelle einfügen: Neue Zelle einfügen $\\rightarrow$ `Esc + M`"
   ]
  },
  {
   "cell_type": "code",
   "execution_count": null,
   "id": "9cf3cb95",
   "metadata": {
    "slideshow": {
     "slide_type": "skip"
    }
   },
   "outputs": [],
   "source": [
    "print(\"Das ist eine Code-Zelle\") # Anmerkung\n",
    "# Durch einen Hashtag lassen sich Anmerkungen schreiben, die von Python einfach ignoriert werden\n",
    "# Anmerkungen sind wichtig, damit Ihr Code auch für andere Personen nachvollziehbar ist"
   ]
  },
  {
   "cell_type": "markdown",
   "id": "1b3c6cb2",
   "metadata": {
    "slideshow": {
     "slide_type": "subslide"
    }
   },
   "source": [
    "Python verfügt - wie ein Taschenrechner - über arithmetische Operatoren, Funktionen und Konstanten. \n",
    "<div class=\"alert alert-danger\"><strong>Achtung:</strong> Das Dezimaltrennzeichen ist ein Punkt und kein Komma!</div>"
   ]
  },
  {
   "cell_type": "markdown",
   "id": "49d04100",
   "metadata": {
    "slideshow": {
     "slide_type": "fragment"
    }
   },
   "source": [
    "| **Operator, Funktion, Konstante**              | **Beschreibung**                         |\n",
    "|:---------------------------|:------------------------------------------|\n",
    "| +, -, *, /, //            | Addition, Subtraktion, Multiplikation, Division |\n",
    "| **, %                      | Potenz, Restfunktion                     |\n",
    "| abs()                     | Betrag                                   |\n",
    "| round()                   | Runden                                   |"
   ]
  },
  {
   "cell_type": "code",
   "execution_count": null,
   "id": "219b8664",
   "metadata": {
    "slideshow": {
     "slide_type": "subslide"
    }
   },
   "outputs": [],
   "source": [
    "1.1 + 1.1 # Addition"
   ]
  },
  {
   "cell_type": "code",
   "execution_count": null,
   "id": "9cf1cea2",
   "metadata": {
    "slideshow": {
     "slide_type": "fragment"
    }
   },
   "outputs": [],
   "source": [
    "5*3 # Multiplikation"
   ]
  },
  {
   "cell_type": "code",
   "execution_count": null,
   "id": "5abfeb2a",
   "metadata": {
    "slideshow": {
     "slide_type": "fragment"
    }
   },
   "outputs": [],
   "source": [
    "5-3*2 # Punkt vor Strich"
   ]
  },
  {
   "cell_type": "code",
   "execution_count": null,
   "id": "572df431",
   "metadata": {
    "slideshow": {
     "slide_type": "fragment"
    }
   },
   "outputs": [],
   "source": [
    "(5-3)*2 # Klammern"
   ]
  },
  {
   "cell_type": "code",
   "execution_count": null,
   "id": "2079bfde",
   "metadata": {
    "slideshow": {
     "slide_type": "subslide"
    }
   },
   "outputs": [],
   "source": [
    "abs(-3.333334) # Betrag"
   ]
  },
  {
   "cell_type": "markdown",
   "id": "a8b4c03c",
   "metadata": {
    "slideshow": {
     "slide_type": "subslide"
    }
   },
   "source": [
    "Für weitere Funktionen und Konstanten wird das Modul `math` verwendet. <br> \n",
    "Es ist standardmäßig in jeder Python-Installation enthalten. Was ein Modul ist, wie man Module importiert und wieso wir Module brauchen, lernen wir in Abschnitt 1.4."
   ]
  },
  {
   "cell_type": "code",
   "execution_count": null,
   "id": "a424da81",
   "metadata": {
    "slideshow": {
     "slide_type": "fragment"
    }
   },
   "outputs": [],
   "source": [
    "import math as m"
   ]
  },
  {
   "cell_type": "markdown",
   "id": "39f4c569",
   "metadata": {
    "slideshow": {
     "slide_type": "subslide"
    }
   },
   "source": [
    "| **Operator, Funktion, Konstante**              | **Beschreibung**                     |\n",
    "|:---------------------------|:--------------------------------------|\n",
    "| m.exp()                   | Exponentialfunktion                  |\n",
    "| m.log(), m.log10()        | Natürlicher Logarithmus, zu Basis 10 |\n",
    "| m.sin(), m.cos(), m.tan() | Trigonometrische Funktionen          |\n",
    "| m.sqrt()                  | Quadratwurzel                        |\n",
    "| m.pi                    | Kreiszahl π                          |"
   ]
  },
  {
   "cell_type": "code",
   "execution_count": null,
   "id": "d84f6399",
   "metadata": {
    "slideshow": {
     "slide_type": "subslide"
    }
   },
   "outputs": [],
   "source": [
    "m.exp(4)"
   ]
  },
  {
   "cell_type": "markdown",
   "id": "2461c39a",
   "metadata": {
    "slideshow": {
     "slide_type": "subslide"
    }
   },
   "source": [
    "**Hilfe zu den Modulen**: Durch die Funktion `help()` kann eine Hilfeseite zu einem Modul aufgerufen werden. In dieser finden sich eine Beschreibung des Moduls, die im Modul definierten Funktionen und Variablen oder Datencontainer. "
   ]
  },
  {
   "cell_type": "code",
   "execution_count": null,
   "id": "97e4fe29",
   "metadata": {
    "slideshow": {
     "slide_type": "fragment"
    }
   },
   "outputs": [],
   "source": [
    "help(m)"
   ]
  },
  {
   "cell_type": "markdown",
   "id": "2593e425",
   "metadata": {
    "slideshow": {
     "slide_type": "subslide"
    }
   },
   "source": [
    "<div class=\"alert alert-warning\"><h4> Aufgabe 1: Taschenrechner</h4><br>\n",
    "Berechnen Sie\n",
    "<ol>\n",
    "    <li>e^(1)</li>\n",
    "    <li>ln(5)</li>\n",
    "    <li>Quadratwurzel aus 16</li>\n",
    "    <li>16 hoch 0,5</li>\n",
    "    <li>-3 hoch 4</li>\n",
    "    <li>geben Sie die Kreiszahl an und</li>\n",
    "    <li>runden Sie die Zahl 3.33333 auf zwei Nachkommstellen.</li>\n",
    "    </ol>\n",
    "    </div>"
   ]
  },
  {
   "cell_type": "markdown",
   "id": "8f1d6a98",
   "metadata": {
    "slideshow": {
     "slide_type": "slide"
    }
   },
   "source": [
    "## 1.2 Variablen und Zuweisungen"
   ]
  },
  {
   "cell_type": "markdown",
   "id": "f066c658",
   "metadata": {
    "slideshow": {
     "slide_type": "subslide"
    }
   },
   "source": [
    "Mit dem Zuweisungsoperator `=` ist es möglich, Werte oder Ergebnisse zu benennen (\"zu instanziieren\"), um diese wiederzuverwenden."
   ]
  },
  {
   "cell_type": "code",
   "execution_count": null,
   "id": "a500b4fb",
   "metadata": {
    "slideshow": {
     "slide_type": "fragment"
    }
   },
   "outputs": [],
   "source": [
    "a = 2 + 3 # Zuweisung\n",
    "a"
   ]
  },
  {
   "cell_type": "code",
   "execution_count": null,
   "id": "04dc39ac",
   "metadata": {},
   "outputs": [],
   "source": [
    "a"
   ]
  },
  {
   "cell_type": "code",
   "execution_count": null,
   "id": "90d1f1c9",
   "metadata": {
    "slideshow": {
     "slide_type": "fragment"
    }
   },
   "outputs": [],
   "source": [
    "A # Achtung: Python unterscheidet zwischen Groß- und Kleinschreibung"
   ]
  },
  {
   "cell_type": "code",
   "execution_count": null,
   "id": "28983da5",
   "metadata": {
    "slideshow": {
     "slide_type": "subslide"
    }
   },
   "outputs": [],
   "source": [
    "# Variablen können auch wieder neu belegt werden\n",
    "a = 7\n",
    "a"
   ]
  },
  {
   "cell_type": "code",
   "execution_count": null,
   "id": "9131579a",
   "metadata": {
    "slideshow": {
     "slide_type": "fragment"
    }
   },
   "outputs": [],
   "source": [
    "b = a*2\n",
    "b"
   ]
  },
  {
   "cell_type": "code",
   "execution_count": null,
   "id": "23501761",
   "metadata": {
    "slideshow": {
     "slide_type": "subslide"
    }
   },
   "outputs": [],
   "source": [
    "a, b = 1, 2 # Mehrfachzuweisung: Die Variablen a und b werden GLEICHZEITIG benannt\n",
    "print(a)\n",
    "b"
   ]
  },
  {
   "cell_type": "markdown",
   "id": "e9969062",
   "metadata": {
    "slideshow": {
     "slide_type": "fragment"
    }
   },
   "source": [
    "<div class=\"alert alert-danger\"><strong>Achtung:</strong> Python gibt uns für jede Zelle nur den letzten Befehl aus. Wenn wir jedoch alle Zeilen ausgegeben bekommen möchten, können wir mit der print()-Funktion arbeiten.</div>"
   ]
  },
  {
   "cell_type": "code",
   "execution_count": null,
   "id": "22b6007a",
   "metadata": {
    "slideshow": {
     "slide_type": "fragment"
    }
   },
   "outputs": [],
   "source": [
    "print(a, b)"
   ]
  },
  {
   "cell_type": "markdown",
   "id": "0f8f2e77",
   "metadata": {
    "slideshow": {
     "slide_type": "subslide"
    }
   },
   "source": [
    "<div class=\"alert alert-warning\"><h4> Aufgabe 2: Variablen und Zuweisungen </h4><br>\n",
    "    a) Weisen Sie der Variable <i>x</i> den Wert 4 zu, der Variable <i>y</i> den Wert <b>True</b> und der Variable <i>z</i> den Wert: <br>\n",
    "$$\\sqrt{3x^2 + \\ln\\bigg(\\frac{1}{e^x}\\bigg)+5}$$ <br>\n",
    "Erstellen Sie hierfür eine eigene Code-Zelle.<br>\n",
    "b) Überlegen Sie was folgende Zeilen ausgeben und führen Sie diese dann in Python aus, um Ihr Ergebnis zu überprüfen: <br>\n",
    "<ol>\n",
    "    <li>X</li> \n",
    "    <li>x2 = x * z</li>\n",
    "    <li>x2</li>\n",
    "    <li>x2 = x2 * z</li>\n",
    "    <li>x + y</li>\n",
    "    </ol>\n",
    "    </div>"
   ]
  },
  {
   "cell_type": "markdown",
   "id": "4a6c6d34",
   "metadata": {
    "slideshow": {
     "slide_type": "skip"
    }
   },
   "source": [
    "<div class=\"alert alert-warning\"><h4> Aufgabe 2: Zusatzaufgabe</h4><br>\n",
    "c) Welche Ausgabe bewirkt der folgende Code? Überlegen Sie, bevor Sie die Eingabe in Python ausprobieren."
   ]
  },
  {
   "cell_type": "markdown",
   "id": "8a66dc64",
   "metadata": {
    "slideshow": {
     "slide_type": "slide"
    }
   },
   "source": [
    "## 1.3 Logische Operatoren und Verknüpfungen"
   ]
  },
  {
   "cell_type": "markdown",
   "id": "1987c387",
   "metadata": {
    "slideshow": {
     "slide_type": "subslide"
    }
   },
   "source": [
    "Das Ergebnis eines logischen Vergleichs sind die Wahrheitswerte `True` und `False`."
   ]
  },
  {
   "cell_type": "markdown",
   "id": "938ae963",
   "metadata": {
    "slideshow": {
     "slide_type": "fragment"
    }
   },
   "source": [
    "| **Operator / Konstante** | **Beschreibung**                               |\n",
    "|:---------------------------|:------------------------------------------------|\n",
    "| >, >=, <, <=              | größer, größer-gleich, kleiner, kleiner-gleich |\n",
    "| ==, !=                    | gleich, ungleich                               |\n",
    "| !                         | Logisches NICHT (Negation)                     |\n",
    "| and                   | Logisches UND                                  |\n",
    "| or                     | Logisches ODER                                 |\n",
    "| True, False               | WAHR, FALSCH                                   |\n"
   ]
  },
  {
   "cell_type": "code",
   "execution_count": null,
   "id": "c80f9025",
   "metadata": {
    "slideshow": {
     "slide_type": "subslide"
    }
   },
   "outputs": [],
   "source": [
    "4 <= 3"
   ]
  },
  {
   "cell_type": "code",
   "execution_count": null,
   "id": "32318e29",
   "metadata": {
    "slideshow": {
     "slide_type": "fragment"
    }
   },
   "outputs": [],
   "source": [
    "a = 3 # Zuweisung\n",
    "a == 10"
   ]
  },
  {
   "cell_type": "code",
   "execution_count": null,
   "id": "790ec22d",
   "metadata": {
    "slideshow": {
     "slide_type": "fragment"
    }
   },
   "outputs": [],
   "source": [
    "(3 < 2) or (4 == (3 + 1))"
   ]
  },
  {
   "cell_type": "markdown",
   "id": "f064afbe",
   "metadata": {
    "slideshow": {
     "slide_type": "subslide"
    }
   },
   "source": [
    "<div class=\"alert alert-warning\"><h4> Aufgabe 3: Logische Operatoren und Verknüpfungen</h4><br>\n",
    "a) Weisen Sie <i>a</i> den Wert 10 zu und <i>b</i> den Wert 5. Ist <i>b</i> größer-gleich <i>a</i> erfüllt? <br>\n",
    "b) Prüfen Sie, ob <i>a</i> ungleich 10 ist. <br>\n",
    "c) Prüfen Sie, ob <i>a</i> größer 10 ist und <i>b</i> kleiner 10."
   ]
  },
  {
   "cell_type": "markdown",
   "id": "0f950e00",
   "metadata": {
    "slideshow": {
     "slide_type": "slide"
    }
   },
   "source": [
    "## 1.4 Funktionen und Module"
   ]
  },
  {
   "cell_type": "markdown",
   "id": "11741c61",
   "metadata": {
    "slideshow": {
     "slide_type": "subslide"
    }
   },
   "source": [
    "Eine Python-Funktion besteht aus einem **Funktionsnamen** und darauffolgenden **runden** Klammern. In den Klammern werden **Argumente** für die Funktion in Form von `Argumentname=Wert` übertragen. Die Angabe der Argumentnamen ist häufig optional. Es können auch eigene Funktionen definiert werden (vgl. Block 2)."
   ]
  },
  {
   "cell_type": "code",
   "execution_count": null,
   "id": "68492857",
   "metadata": {
    "slideshow": {
     "slide_type": "fragment"
    }
   },
   "outputs": [],
   "source": [
    "round(3.333334) # Runden"
   ]
  },
  {
   "cell_type": "code",
   "execution_count": null,
   "id": "1801523f",
   "metadata": {
    "slideshow": {
     "slide_type": "fragment"
    }
   },
   "outputs": [],
   "source": [
    "round(3.333334, 2) # Auf 2 Nachkommastellen runden durch den Argumentnamen ndigits \n",
    "# und den Wert 2"
   ]
  },
  {
   "cell_type": "code",
   "execution_count": null,
   "id": "2803d46b",
   "metadata": {},
   "outputs": [],
   "source": [
    "help(round)"
   ]
  },
  {
   "cell_type": "markdown",
   "id": "8d3609dd",
   "metadata": {
    "slideshow": {
     "slide_type": "subslide"
    }
   },
   "source": [
    "Python-Module enthalten weitere Funktionen und Variablen, die nicht standardmäßig in Python installiert sind. Um diese verwenden zu können, muss wie folgt vorgegangen werden:\n",
    "1. Installieren des Moduls in Anaconda\n",
    "2. Importieren des Moduls: `import modulname`\n",
    "3. Im Modul definierte Funktionen und Variablen aufrufen: `modulname.funktionsname()` bzw. `modulname.variablennamen`\n",
    "4. **Optional**: Nur einzelne Funktionen eines Moduls importiert:\n",
    "`from modulname import funktionsname`"
   ]
  },
  {
   "cell_type": "markdown",
   "id": "6453c594",
   "metadata": {
    "slideshow": {
     "slide_type": "subslide"
    }
   },
   "source": [
    "**Optional**: `import modulname as myname` \n",
    "* In 1.1 wurde das Modul `math` mit `m` abgekürzt. Bei der Verwendung von Funktionen aus dem Modul konnte so `m.exp()` anstelle von `math.exp()` geschrieben werden. <br>"
   ]
  },
  {
   "cell_type": "markdown",
   "id": "47256b4f",
   "metadata": {
    "slideshow": {
     "slide_type": "slide"
    }
   },
   "source": [
    "## 1.5 Datentypen"
   ]
  },
  {
   "cell_type": "markdown",
   "id": "90a77ac5",
   "metadata": {
    "slideshow": {
     "slide_type": "subslide"
    }
   },
   "source": [
    "Python ist eine typisierte Sprache. Jede Variable hat einen Datentyp. In diesem Kapitel sehen wir uns die vier meist verbreiteten Typen an:\n",
    "* **strings**: Aneinanderreihungen von Zeichen, Leerzeichen oder anderen Symbolen wie Sonderzeichen, Zahlen etc. Um Zeichenketten zu definieren, werden alle Zeichen innerhalb von einfachen oder doppelten Anführungszeichen geschrieben, z. B. \"Hallo\", 'Haus'. \n",
    "* **integers**: Positive oder negative Zahlen, z. B. -1, 4, 7, -10.\n",
    "* **floats**: Dezimalzahlen bzw. Fließkommazahlen, z. B. 1.34, -3.33\n",
    "* **boolean**: Boolsche Variablen können die Werte `True` und `False` annehmen\n",
    "\n",
    "Die Umwandlung eines Datentyps in einen anderen (sog. *Typecasting*) und die *Indizierung* von String-Variablen werden wir uns in diesem Abschnitt genauer ansehen."
   ]
  },
  {
   "cell_type": "markdown",
   "id": "82dd923e",
   "metadata": {
    "slideshow": {
     "slide_type": "subslide"
    }
   },
   "source": [
    "Python gibt uns den Datentyp mithilfe der Funktion `type()` aus. Der Output `int` steht hierbei für eine Integer-Objekt, `float` für eine Dezimalzahl, `str` für eine Zeichenkette und `bool` für einen Wahrheitswert."
   ]
  },
  {
   "cell_type": "code",
   "execution_count": null,
   "id": "8214b092",
   "metadata": {
    "slideshow": {
     "slide_type": "fragment"
    }
   },
   "outputs": [],
   "source": [
    "type(9)"
   ]
  },
  {
   "cell_type": "code",
   "execution_count": null,
   "id": "78fadb92",
   "metadata": {
    "slideshow": {
     "slide_type": "fragment"
    }
   },
   "outputs": [],
   "source": [
    "type(3.76)"
   ]
  },
  {
   "cell_type": "code",
   "execution_count": null,
   "id": "50d80132",
   "metadata": {
    "slideshow": {
     "slide_type": "subslide"
    }
   },
   "outputs": [],
   "source": [
    "type(3.0)"
   ]
  },
  {
   "cell_type": "code",
   "execution_count": null,
   "id": "7d577314",
   "metadata": {
    "slideshow": {
     "slide_type": "fragment"
    }
   },
   "outputs": [],
   "source": [
    "type(\"Hello world!\")"
   ]
  },
  {
   "cell_type": "code",
   "execution_count": null,
   "id": "c71ee7f8",
   "metadata": {
    "slideshow": {
     "slide_type": "fragment"
    }
   },
   "outputs": [],
   "source": [
    "type(True)"
   ]
  },
  {
   "cell_type": "markdown",
   "id": "d2279453",
   "metadata": {
    "slideshow": {
     "slide_type": "subslide"
    }
   },
   "source": [
    "Rechenoperationen lassen sich mit unterschiedlichen Datentypen ausführen:"
   ]
  },
  {
   "cell_type": "code",
   "execution_count": null,
   "id": "500f30c0",
   "metadata": {
    "slideshow": {
     "slide_type": "fragment"
    }
   },
   "outputs": [],
   "source": [
    "3.76 + 3 # Float + Integer"
   ]
  },
  {
   "cell_type": "code",
   "execution_count": null,
   "id": "e92aa7be",
   "metadata": {
    "slideshow": {
     "slide_type": "fragment"
    }
   },
   "outputs": [],
   "source": [
    "3.76 + True # Float + Boolean"
   ]
  },
  {
   "cell_type": "code",
   "execution_count": null,
   "id": "1b51b182",
   "metadata": {
    "slideshow": {
     "slide_type": "fragment"
    }
   },
   "outputs": [],
   "source": [
    "3 + False # Integer + Boolean"
   ]
  },
  {
   "cell_type": "markdown",
   "id": "e9b280ef",
   "metadata": {
    "slideshow": {
     "slide_type": "subslide"
    }
   },
   "source": [
    "<div class=\"alert alert-danger\"><strong>Achtung:</strong> Mit String-Variablen lassen sich keine Rechenoperationen ausführen.</div>"
   ]
  },
  {
   "cell_type": "code",
   "execution_count": null,
   "id": "86e7a223",
   "metadata": {
    "slideshow": {
     "slide_type": "fragment"
    }
   },
   "outputs": [],
   "source": [
    "3 + \"2\" # Integer + String"
   ]
  },
  {
   "cell_type": "markdown",
   "id": "7ae4a749",
   "metadata": {
    "slideshow": {
     "slide_type": "subslide"
    }
   },
   "source": [
    "### 1.5.1 Typecasting"
   ]
  },
  {
   "cell_type": "markdown",
   "id": "52fee20e",
   "metadata": {
    "slideshow": {
     "slide_type": "fragment"
    }
   },
   "source": [
    "Der Datentyp eines Objekts kann in einen anderen Datentypen umgewandelt werden. Diese Konvertierung wird *Typecasting* genannt. Beispielsweise lässt sich ein Integer-Objekt in ein Float-Objekt umwandeln:"
   ]
  },
  {
   "cell_type": "code",
   "execution_count": null,
   "id": "997d66b2",
   "metadata": {
    "slideshow": {
     "slide_type": "fragment"
    }
   },
   "outputs": [],
   "source": [
    "# Konvertiere Int zu einem Float\n",
    "float(100)"
   ]
  },
  {
   "cell_type": "code",
   "execution_count": null,
   "id": "6592e0a0",
   "metadata": {
    "slideshow": {
     "slide_type": "subslide"
    }
   },
   "outputs": [],
   "source": [
    "# Konvertiere Int zu einem Float und überprüfe Datentyp\n",
    "type(float(100))"
   ]
  },
  {
   "cell_type": "markdown",
   "id": "a7fbfa0e",
   "metadata": {
    "slideshow": {
     "slide_type": "skip"
    }
   },
   "source": [
    "Die Konvertierung eines Integers in einen Float geht nicht mit einem Informationsverlust einher. Wie verhält es sich, wenn wir einen Float in einen Integer konvertieren?"
   ]
  },
  {
   "cell_type": "code",
   "execution_count": null,
   "id": "b69fe045",
   "metadata": {
    "slideshow": {
     "slide_type": "fragment"
    }
   },
   "outputs": [],
   "source": [
    "# Konvertiere Float zu Int\n",
    "int(100.9)\n",
    "\n",
    "# Achtung: Informationsverlust"
   ]
  },
  {
   "cell_type": "markdown",
   "id": "6136f0ab",
   "metadata": {
    "slideshow": {
     "slide_type": "subslide"
    }
   },
   "source": [
    "Lässt sich eine String-Variable in einen Integer oder einen Float umwandeln?"
   ]
  },
  {
   "cell_type": "code",
   "execution_count": null,
   "id": "0a2d65f0",
   "metadata": {
    "slideshow": {
     "slide_type": "fragment"
    }
   },
   "outputs": [],
   "source": [
    "# Fall 1: \n",
    "int(\"13\") # Typecasting möglich"
   ]
  },
  {
   "cell_type": "code",
   "execution_count": null,
   "id": "3ca82403",
   "metadata": {
    "slideshow": {
     "slide_type": "fragment"
    }
   },
   "outputs": [],
   "source": [
    "# Fall 2: \n",
    "int(\"3 Tassen Tee\") # Typecasting nicht möglich "
   ]
  },
  {
   "cell_type": "code",
   "execution_count": null,
   "id": "0b97181d",
   "metadata": {
    "slideshow": {
     "slide_type": "subslide"
    }
   },
   "outputs": [],
   "source": [
    "# Fall 3: \n",
    "float(\"17.4\") # Typecasting möglich"
   ]
  },
  {
   "cell_type": "markdown",
   "id": "2dabdaef",
   "metadata": {
    "slideshow": {
     "slide_type": "subslide"
    }
   },
   "source": [
    "Auch mit booleschen Variablen ist typecasting möglich. Hierbei nimmt `True` den Wert 1 an und `False` den Wert 0."
   ]
  },
  {
   "cell_type": "code",
   "execution_count": null,
   "id": "369a8d16",
   "metadata": {
    "slideshow": {
     "slide_type": "fragment"
    }
   },
   "outputs": [],
   "source": [
    "print(int(True))\n",
    "print(float(True))\n",
    "print(int(False))\n",
    "print(float(False))"
   ]
  },
  {
   "cell_type": "code",
   "execution_count": null,
   "id": "d11da4c0",
   "metadata": {
    "slideshow": {
     "slide_type": "subslide"
    }
   },
   "outputs": [],
   "source": [
    "print(bool(0.5))\n",
    "print(bool(5.3))\n",
    "print(bool(0))"
   ]
  },
  {
   "cell_type": "markdown",
   "id": "84310194",
   "metadata": {
    "slideshow": {
     "slide_type": "subslide"
    }
   },
   "source": [
    "### 1.5.2 String Operations"
   ]
  },
  {
   "cell_type": "markdown",
   "id": "c37adf45",
   "metadata": {
    "slideshow": {
     "slide_type": "subslide"
    }
   },
   "source": [
    "Wir können auf einzelne Elemente (Zeichen) einer Zeichenkette zugreifen. Das bezeichnet man als *Indizierung*. Ein Index bezeichnet eine bestimmte Position und wird mit *eckigen* Klammern und der Index-Zahl angegeben. <br>\n",
    "<div class=\"alert alert-danger\"><strong>Achtung:</strong> Die Zählung der Index-Position beginnt mit dem Wert 0. </div>"
   ]
  },
  {
   "cell_type": "markdown",
   "id": "6c5a0d9b",
   "metadata": {
    "slideshow": {
     "slide_type": "fragment"
    }
   },
   "source": [
    "Die Indizierung folgt dabei der Logik: `[Start:Stop:Abstand]`. Die zu indizierenden Werte lassen sich in einem Intervall angeben. Diese Parameter sind jedoch optional."
   ]
  },
  {
   "cell_type": "code",
   "execution_count": null,
   "id": "72b12b6e",
   "metadata": {
    "slideshow": {
     "slide_type": "subslide"
    }
   },
   "outputs": [],
   "source": [
    "alphabet = \"abcdefg\""
   ]
  },
  {
   "cell_type": "markdown",
   "id": "4173a64e",
   "metadata": {
    "slideshow": {
     "slide_type": "fragment"
    }
   },
   "source": [
    "| **a** | **b** | **c** | **d** | **e** | **f** | **g** | \n",
    "|-------|-------|-------|-------|-------|-------|-------|\n",
    "| 0     | 1     | 2     | 3     | 4     | 5     | 6     | "
   ]
  },
  {
   "cell_type": "code",
   "execution_count": null,
   "id": "c124906e",
   "metadata": {
    "slideshow": {
     "slide_type": "fragment"
    }
   },
   "outputs": [],
   "source": [
    "alphabet[0] # erstes String-Element"
   ]
  },
  {
   "cell_type": "code",
   "execution_count": null,
   "id": "fa71bd10",
   "metadata": {
    "slideshow": {
     "slide_type": "fragment"
    }
   },
   "outputs": [],
   "source": [
    "alphabet[4] # fünftes String-Element"
   ]
  },
  {
   "cell_type": "code",
   "execution_count": null,
   "id": "370a8b01",
   "metadata": {
    "slideshow": {
     "slide_type": "subslide"
    }
   },
   "outputs": [],
   "source": [
    "alphabet[0:4]"
   ]
  },
  {
   "cell_type": "markdown",
   "id": "29dc191a",
   "metadata": {
    "slideshow": {
     "slide_type": "fragment"
    }
   },
   "source": [
    "<div class=\"alert alert-danger\"><strong>Achtung:</strong> Das Intervall ist hier rechtsoffen, d. h. das Intervall enthält das Element an der Position 0, aber nicht das Element an der Position 4: (0, 4]</div>"
   ]
  },
  {
   "cell_type": "code",
   "execution_count": null,
   "id": "e096c17b",
   "metadata": {
    "slideshow": {
     "slide_type": "subslide"
    }
   },
   "outputs": [],
   "source": [
    "alphabet[4:]"
   ]
  },
  {
   "cell_type": "code",
   "execution_count": null,
   "id": "21d5cb2e",
   "metadata": {
    "slideshow": {
     "slide_type": "fragment"
    }
   },
   "outputs": [],
   "source": [
    "alphabet[::2]"
   ]
  },
  {
   "cell_type": "code",
   "execution_count": null,
   "id": "b55904ff",
   "metadata": {
    "slideshow": {
     "slide_type": "fragment"
    }
   },
   "outputs": [],
   "source": [
    "alphabet[1::2]"
   ]
  },
  {
   "cell_type": "code",
   "execution_count": null,
   "id": "ab6a0596",
   "metadata": {
    "slideshow": {
     "slide_type": "fragment"
    }
   },
   "outputs": [],
   "source": [
    "alphabet[-1] # Letztes String-Element"
   ]
  },
  {
   "cell_type": "code",
   "execution_count": null,
   "id": "42c73653",
   "metadata": {
    "slideshow": {
     "slide_type": "fragment"
    }
   },
   "outputs": [],
   "source": [
    "alphabet[-2]"
   ]
  },
  {
   "cell_type": "code",
   "execution_count": null,
   "id": "96907b05",
   "metadata": {
    "slideshow": {
     "slide_type": "subslide"
    }
   },
   "outputs": [],
   "source": [
    "alphabet[::-1]"
   ]
  },
  {
   "cell_type": "code",
   "execution_count": null,
   "id": "8381f52c",
   "metadata": {
    "slideshow": {
     "slide_type": "fragment"
    }
   },
   "outputs": [],
   "source": [
    "len(alphabet) # Anzahl der String-Elemente"
   ]
  },
  {
   "cell_type": "code",
   "execution_count": null,
   "id": "70cfc74c",
   "metadata": {
    "slideshow": {
     "slide_type": "fragment"
    }
   },
   "outputs": [],
   "source": [
    "len(\"Hallo Welt\") # Leerzeichen wird auch beachtet!"
   ]
  },
  {
   "cell_type": "markdown",
   "id": "05a508f0",
   "metadata": {
    "slideshow": {
     "slide_type": "fragment"
    }
   },
   "source": [
    "| **H** | **a** | **l** | **l** | **o** | &nbsp; | **W** | **e** | **l** | **t** |\n",
    "|-------|-------|-------|-------|-------|-------|-------|-------|-------|-------|\n",
    "| 0     | 1     | 2     | 3     | 4     | 5     | 6     | 7     | 8     | 9     |"
   ]
  },
  {
   "cell_type": "markdown",
   "id": "a12a949e",
   "metadata": {
    "slideshow": {
     "slide_type": "subslide"
    }
   },
   "source": [
    "### 1.5.3 Möglichkeiten zur Textformation"
   ]
  },
  {
   "cell_type": "code",
   "execution_count": null,
   "id": "f4a8c9ab",
   "metadata": {
    "slideshow": {
     "slide_type": "fragment"
    }
   },
   "outputs": [],
   "source": [
    "# Methode 1: format\n",
    "zahl1 = 15\n",
    "zahl2 = 2\n",
    "\"{} multipliziert mit {} ergibt {}.\".format(zahl1, zahl2, zahl1*zahl2)"
   ]
  },
  {
   "cell_type": "code",
   "execution_count": null,
   "id": "f8a244f5",
   "metadata": {
    "slideshow": {
     "slide_type": "fragment"
    }
   },
   "outputs": [],
   "source": [
    "# Methode 2: printf - veraltet\n",
    "\"%d multipliziert mit %d ergibt %d.\" %(zahl1, zahl2, zahl1*zahl2)"
   ]
  },
  {
   "cell_type": "code",
   "execution_count": null,
   "id": "7aa83ff7",
   "metadata": {
    "slideshow": {
     "slide_type": "fragment"
    }
   },
   "outputs": [],
   "source": [
    "# Methode 3: f-String\n",
    "f\"{zahl1} multipliziert mit {zahl2} ergibt {zahl1*zahl2}.\""
   ]
  },
  {
   "cell_type": "markdown",
   "id": "eac2d342",
   "metadata": {
    "slideshow": {
     "slide_type": "subslide"
    }
   },
   "source": [
    "<div class=\"alert alert-warning\"><h4> Aufgabe 4: String Operationen</h4><br>\n",
    "    Sie haben die beiden Strings s1=\"Haus\" und s2=\"Boot\" gegeben.<br>\n",
    "    a) Fügen Sie s1 und s2 zu dem Objekt s3=\"hausboot\" zusammen. Beachten Sie Groß- und Kleinschreibung. Sehen Sie sich hierfür die Methode s3.lower() an.<br>\n",
    "b) Sie haben die beiden Objekte<br>\n",
    "    <ol> <li>v1 = 16</li>\n",
    "        <li>v2 = 3.</li></ol>\n",
    "    Geben Sie mithilfe der <i>format</i>- und der <i>f-String</i>-Methode, folgenden Satz aus: \"Die Quadratwurzel aus <b>v1</b> ergibt <b>Wurzel v1</b>. Wird <b>v2</b> quadriert, erhält man <b>v2^2</b>.\" Ersetzen Sie dabei die fettgedruckten Zeichen und geben Sie nur Integer aus."
   ]
  },
  {
   "cell_type": "code",
   "execution_count": null,
   "id": "c0545f63",
   "metadata": {
    "slideshow": {
     "slide_type": "fragment"
    }
   },
   "outputs": [],
   "source": [
    "s1 = \"Haus\"\n",
    "s2 = \"Boot\""
   ]
  },
  {
   "cell_type": "markdown",
   "id": "c84610a6",
   "metadata": {
    "slideshow": {
     "slide_type": "skip"
    }
   },
   "source": [
    "<div class=\"alert alert-warning\"><h4> Aufgabe 4: Zusatzaufgabe</h4><br>\n",
    "c) Welche Ausdrücke geben uns das letzte Zeichen \"s\" im String s1 aus? Überlegen Sie, bevor Sie Ihre Eingabe in Python prüfen.\n",
    "    <ol>\n",
    "        <li>s1[len(s1)-1]</li>\n",
    "        <li>s1[len(s1)+1]</li>\n",
    "        <li>s1[-1]</li>\n",
    "        <li>s1[len(s1)]</li>\n",
    "        <li>s1[4]</li>"
   ]
  },
  {
   "cell_type": "markdown",
   "id": "5d582f53",
   "metadata": {
    "slideshow": {
     "slide_type": "subslide"
    }
   },
   "source": [
    "## 1.6 Datencontainer"
   ]
  },
  {
   "cell_type": "markdown",
   "id": "5465e289",
   "metadata": {
    "slideshow": {
     "slide_type": "subslide"
    }
   },
   "source": [
    "Im Folgenden werden wir die Datencontainer *Tuples*, *Lists*, *Dictionaries* und *Sets* kennenlernen."
   ]
  },
  {
   "cell_type": "markdown",
   "id": "bafa8a4a",
   "metadata": {
    "slideshow": {
     "slide_type": "subslide"
    }
   },
   "source": [
    "### 1.6.1 Tuples"
   ]
  },
  {
   "cell_type": "markdown",
   "id": "12cbb93b",
   "metadata": {
    "slideshow": {
     "slide_type": "fragment"
    }
   },
   "source": [
    "Tuples können unterschiedliche Datentypen enthalten. Sie sind dahingehend besonders, dass sie unveränderlich (*immutable*) sind. Während man bei anderen Datencontainern Werte überschreiben kann, ist dies bei Tupeln nicht möglich. Tupel werden mit **runden Klammern** instanziiert<sup>1</sup> und die Elemente werden durch ein Komma getrennt.<br>\n",
    "<sup>1</sup> Instanziierung = Erzeugung eines Objekts in einer objektorientierten Programmiersprache."
   ]
  },
  {
   "cell_type": "code",
   "execution_count": null,
   "id": "a7fe6385",
   "metadata": {
    "slideshow": {
     "slide_type": "subslide"
    }
   },
   "outputs": [],
   "source": [
    "tuple1 = (\"Hello\", \"World\", 123)"
   ]
  },
  {
   "cell_type": "markdown",
   "id": "c7c793a4",
   "metadata": {
    "slideshow": {
     "slide_type": "fragment"
    }
   },
   "source": [
    "| **\"Hello\"** | **\"World\"** | **123** |\n",
    "|-------------|-------------|---------|\n",
    "| <center>0</center>  | <center>1</center>           | <center>2</center>       |"
   ]
  },
  {
   "cell_type": "code",
   "execution_count": null,
   "id": "319e8d50",
   "metadata": {
    "slideshow": {
     "slide_type": "subslide"
    }
   },
   "outputs": [],
   "source": [
    "# Datentyp\n",
    "type(tuple1)"
   ]
  },
  {
   "cell_type": "code",
   "execution_count": null,
   "id": "61389738",
   "metadata": {
    "slideshow": {
     "slide_type": "fragment"
    }
   },
   "outputs": [],
   "source": [
    "# Indizierung wie bei Strings\n",
    "tuple1[0]\n",
    "type(tuple1[0])"
   ]
  },
  {
   "cell_type": "code",
   "execution_count": null,
   "id": "d4127fb9",
   "metadata": {
    "slideshow": {
     "slide_type": "fragment"
    }
   },
   "outputs": [],
   "source": [
    "print(tuple1[2])\n",
    "type(tuple1[2])"
   ]
  },
  {
   "cell_type": "code",
   "execution_count": null,
   "id": "0c47e90f",
   "metadata": {
    "slideshow": {
     "slide_type": "fragment"
    }
   },
   "outputs": [],
   "source": [
    "tuple1[1:3]"
   ]
  },
  {
   "cell_type": "code",
   "execution_count": null,
   "id": "db3138d0",
   "metadata": {
    "slideshow": {
     "slide_type": "fragment"
    }
   },
   "outputs": [],
   "source": [
    "# Erstes Element nicht veränderbar\n",
    "tuple1[0] = 3 # Fehlermeldung"
   ]
  },
  {
   "cell_type": "code",
   "execution_count": null,
   "id": "0e11f371",
   "metadata": {
    "slideshow": {
     "slide_type": "subslide"
    }
   },
   "outputs": [],
   "source": [
    "# Nesten\n",
    "tuple_nest = (1, 4, (\"Haus\", \"Brot\"), \"Disco\", (4, 9))\n",
    "len(tuple_nest)"
   ]
  },
  {
   "cell_type": "markdown",
   "id": "21e6538f",
   "metadata": {
    "slideshow": {
     "slide_type": "fragment"
    }
   },
   "source": [
    "| **1** | **4** | **(\"Haus\",**| **\"Brot\")** | **\"Disco\"** | **(4,**  | **9)** |\n",
    "|-------|-------|-------------|-------------|-------------|----------|--------|\n",
    "| 0     | 1     | 2           |   &nbsp;    | 3           | 4        |        |\n",
    "| &nbsp;| &nbsp;|<center> 0 </center> | <center> 1 </center>|&nbsp;| <center>0</center>| <center>1</center>|"
   ]
  },
  {
   "cell_type": "code",
   "execution_count": null,
   "id": "9765f2b4",
   "metadata": {
    "slideshow": {
     "slide_type": "fragment"
    }
   },
   "outputs": [],
   "source": [
    "tuple_nest[2][1][1:4]"
   ]
  },
  {
   "cell_type": "markdown",
   "id": "3e19a74e",
   "metadata": {
    "slideshow": {
     "slide_type": "subslide"
    }
   },
   "source": [
    "### 1.6.2 Listen"
   ]
  },
  {
   "cell_type": "markdown",
   "id": "ca16855e",
   "metadata": {
    "slideshow": {
     "slide_type": "fragment"
    }
   },
   "source": [
    "Listen sind viel verwendete Datencontainer, die unterschiedlichen Datentypen, aber auch leere Mengen, enthalten können. Durch **eckige Klammern** oder mittels der `list()`-Funktion lassen sich Listen instanziieren."
   ]
  },
  {
   "cell_type": "code",
   "execution_count": null,
   "id": "70901ad0",
   "metadata": {
    "slideshow": {
     "slide_type": "fragment"
    }
   },
   "outputs": [],
   "source": [
    "# Leere Liste\n",
    "list1 = []\n",
    "list1"
   ]
  },
  {
   "cell_type": "code",
   "execution_count": null,
   "id": "e566a559",
   "metadata": {},
   "outputs": [],
   "source": [
    "list()"
   ]
  },
  {
   "cell_type": "code",
   "execution_count": null,
   "id": "48b09ca4",
   "metadata": {
    "slideshow": {
     "slide_type": "fragment"
    }
   },
   "outputs": [],
   "source": [
    "list2 = [1, 4, (\"Haus\", \"Brot\"), \"Disco\", [4, 9]]\n",
    "list2"
   ]
  },
  {
   "cell_type": "code",
   "execution_count": null,
   "id": "c194565d",
   "metadata": {
    "slideshow": {
     "slide_type": "subslide"
    }
   },
   "outputs": [],
   "source": [
    "type(list2)"
   ]
  },
  {
   "cell_type": "code",
   "execution_count": null,
   "id": "79471c0e",
   "metadata": {
    "slideshow": {
     "slide_type": "fragment"
    }
   },
   "outputs": [],
   "source": [
    "# Indizierung wie oben\n",
    "print(\"Drittes Element der Liste: \", list2[2])"
   ]
  },
  {
   "cell_type": "code",
   "execution_count": null,
   "id": "4dea26ec",
   "metadata": {
    "slideshow": {
     "slide_type": "subslide"
    }
   },
   "outputs": [],
   "source": [
    "# Elemente ändern\n",
    "list2[0] = 1.43\n",
    "print(list2)"
   ]
  },
  {
   "cell_type": "code",
   "execution_count": null,
   "id": "181e2d2d",
   "metadata": {
    "slideshow": {
     "slide_type": "fragment"
    }
   },
   "outputs": [],
   "source": [
    "list3 = [4, 3, 1]"
   ]
  },
  {
   "cell_type": "markdown",
   "id": "151c72a5",
   "metadata": {
    "slideshow": {
     "slide_type": "subslide"
    }
   },
   "source": [
    "Einer Liste stehen Methoden zur Datenoperation zur Verfügung. <br>\n",
    "**Hinweis**: Sowohl Funktionen als auch Methoden werden mit ihrem jeweiligen Namen und **Rundklammern** aufgerufen. Funktionen und Methoden unterscheiden sich darin, dass Methoden Funktionen darstellen, die an ein Objekt gebunden sind. Funktionen (`print()`) können direkt aufgerufen werden - Methoden nur in Verbindung mit einem gekoppelten Objekt (`a.append()`).\n",
    "\n",
    "| **Befehl**  | **Beschreibung**           |\n",
    "|:------------------------|:----------------------|\n",
    "| a.append()              | Element wird der Liste *a* angefügt      |\n",
    "| a.extend(b)              | Liste *b* wird an Liste *a* hinzugefügt      |\n",
    "| a.pop()      | Letztes Element der Liste wird rausgezogen               |\n",
    "| a.sort()        | Liste wird sortiert            |\n",
    "| a.remove(c)            |  Element c wird aus Liste a entfernt            |"
   ]
  },
  {
   "cell_type": "code",
   "execution_count": null,
   "id": "92c28290",
   "metadata": {
    "slideshow": {
     "slide_type": "subslide"
    }
   },
   "outputs": [],
   "source": [
    "list3.append(2) # Element anfügen\n",
    "list3"
   ]
  },
  {
   "cell_type": "markdown",
   "id": "cb0fd55b",
   "metadata": {
    "slideshow": {
     "slide_type": "subslide"
    }
   },
   "source": [
    "### 1.6.3 Dictionaries"
   ]
  },
  {
   "cell_type": "markdown",
   "id": "4f6dcf24",
   "metadata": {
    "slideshow": {
     "slide_type": "fragment"
    }
   },
   "source": [
    "Die Instanziierung eines Dictionaries erfolgt durch **geschweifte Klammern** oder durch die Funktion `dict()`. Es besteht aus einer beliebigen Anzahl von *keys* und *values*. Anstelle numerischer Indexe, wie es bei Listen der Fall ist, wird ein Dictionary durch dessen *keys* indiziert. "
   ]
  },
  {
   "cell_type": "markdown",
   "id": "f3ceca5c",
   "metadata": {
    "slideshow": {
     "slide_type": "subslide"
    }
   },
   "source": [
    "| Key 1   \t| Key 2   \t| Key 3   \t|\n",
    "|---------\t|---------\t|---------\t|\n",
    "| Value 1 \t| Value 2 \t| Value 3 \t|"
   ]
  },
  {
   "cell_type": "code",
   "execution_count": null,
   "id": "e7ae9557",
   "metadata": {
    "slideshow": {
     "slide_type": "fragment"
    }
   },
   "outputs": [],
   "source": [
    "dict1 = {\"überhaupt nicht\": 1, \"eher nicht\": 2, \"teils-teils\": 3, \"eher zu\": 4, \"voll und ganz zu\": 5}\n",
    "dict1"
   ]
  },
  {
   "cell_type": "code",
   "execution_count": null,
   "id": "7679ba7d",
   "metadata": {
    "slideshow": {
     "slide_type": "subslide"
    }
   },
   "outputs": [],
   "source": [
    "# Indizierung wie oben nur mit keys statt Zahlen\n",
    "dict1[\"teils-teils\"]"
   ]
  },
  {
   "cell_type": "code",
   "execution_count": null,
   "id": "2171ebf2",
   "metadata": {
    "slideshow": {
     "slide_type": "fragment"
    }
   },
   "outputs": [],
   "source": [
    "# Werte ändern\n",
    "dict1[\"teils-teils\"] = -1\n",
    "dict1[\"teils-teils\"]"
   ]
  },
  {
   "cell_type": "code",
   "execution_count": null,
   "id": "00a14869",
   "metadata": {
    "slideshow": {
     "slide_type": "subslide"
    }
   },
   "outputs": [],
   "source": [
    "dict1.keys() # Alle keys"
   ]
  },
  {
   "cell_type": "code",
   "execution_count": null,
   "id": "9db71727",
   "metadata": {
    "slideshow": {
     "slide_type": "fragment"
    }
   },
   "outputs": [],
   "source": [
    "dict1.values() # Alle values"
   ]
  },
  {
   "cell_type": "code",
   "execution_count": null,
   "id": "a8f0e5fe",
   "metadata": {
    "slideshow": {
     "slide_type": "fragment"
    }
   },
   "outputs": [],
   "source": [
    "# Neuer key + value\n",
    "dict1[\"weiß nicht\"] = 0\n",
    "dict1"
   ]
  },
  {
   "cell_type": "code",
   "execution_count": null,
   "id": "ab8efe2f",
   "metadata": {
    "slideshow": {
     "slide_type": "fragment"
    }
   },
   "outputs": [],
   "source": [
    "# Prüfen ob key im Dictionary ist\n",
    "\"voll und ganz zu\" in dict1"
   ]
  },
  {
   "cell_type": "markdown",
   "id": "9da3b60b",
   "metadata": {
    "slideshow": {
     "slide_type": "subslide"
    }
   },
   "source": [
    "### 1.6.4 Sets"
   ]
  },
  {
   "cell_type": "markdown",
   "id": "4fec49a6",
   "metadata": {
    "slideshow": {
     "slide_type": "fragment"
    }
   },
   "source": [
    "In einem Set kommt jedes Element genau einmal vor. Sets sind wie Dictionaries oder Listen *mutable* - das heißt, Werte können entfernt, hinzugefügt oder verändert werden. Die Instanziierung erfolgt wie bei Dictionary mittels **geschweifter Klammern**, jedoch ohne die *key*-Werte."
   ]
  },
  {
   "cell_type": "code",
   "execution_count": null,
   "id": "b3195298",
   "metadata": {
    "slideshow": {
     "slide_type": "fragment"
    }
   },
   "outputs": [],
   "source": [
    "set1 = {\"Tomate\", \"Zucchini\", \"Kartoffel\", \"Paprika\"}\n",
    "set1 #geordnet"
   ]
  },
  {
   "cell_type": "code",
   "execution_count": null,
   "id": "441251f6",
   "metadata": {},
   "outputs": [],
   "source": [
    "set1 = {\"Tomate\", \"tomate\",\"Zucchini\", \"Kartoffel\", \"Paprika\"}\n",
    "set1 #geordnet"
   ]
  },
  {
   "cell_type": "code",
   "execution_count": null,
   "id": "c8ee7c86",
   "metadata": {
    "slideshow": {
     "slide_type": "subslide"
    }
   },
   "outputs": [],
   "source": [
    "# Konvertierung einer Liste in ein Set\n",
    "list6 = [3, 3,  4, 5, 5, 6]\n",
    "set2 = set(list6)\n",
    "print(set2) # jedes Element nur einmal"
   ]
  },
  {
   "cell_type": "code",
   "execution_count": null,
   "id": "9ea9bade",
   "metadata": {
    "slideshow": {
     "slide_type": "fragment"
    }
   },
   "outputs": [],
   "source": [
    "# Element hinzufügen\n",
    "set1.add(\"Apfel\")\n",
    "set1"
   ]
  },
  {
   "cell_type": "code",
   "execution_count": null,
   "id": "d5406ad5",
   "metadata": {
    "slideshow": {
     "slide_type": "fragment"
    }
   },
   "outputs": [],
   "source": [
    "# Prüfen, ob Element im Set\n",
    "\"Apfel\" in set1"
   ]
  },
  {
   "cell_type": "markdown",
   "id": "2cc13424",
   "metadata": {
    "slideshow": {
     "slide_type": "subslide"
    }
   },
   "source": [
    "<div class=\"alert alert-warning\"><h4> Aufgabe 5: Datentypen und Datencontainer</h4><br>\n",
    "a) Sie haben gegeben: a = (3, 1, 2). Sortieren Sie die Zahlen nach Größe. Wie verändert sich der Datentyp?<br>\n",
    "b) Sie haben gegeben b = (\"a\", \"1\", 2, (\"b\", 3, \"c\"), (\"4\", \"d\")). Indizieren Sie die beiden genesteten Tupeln (\"b\", 3, \"c\"), (\"4\", \"d\"). Im Anschluss indizieren Sie noch den Buchstaben c. <br>"
   ]
  },
  {
   "cell_type": "code",
   "execution_count": null,
   "id": "2eeb0932",
   "metadata": {
    "slideshow": {
     "slide_type": "subslide"
    }
   },
   "outputs": [],
   "source": [
    "### Lösung Aufgabe 5: \n",
    "# sorted()"
   ]
  },
  {
   "cell_type": "markdown",
   "id": "310d05c1",
   "metadata": {
    "slideshow": {
     "slide_type": "skip"
    }
   },
   "source": [
    "<div class=\"alert alert-warning\"><h4> Aufgabe 5: Zusatzaufgaben</h4><br>\n",
    "c) Sie haben gegeben: list1 = [3, 2, 1]. Ziehen Sie das letzte Element aus list1.<br>\n",
    "d) Fügen Sie list1 das Element 1 hinzu und sortieren Sie die Liste nach Größe."
   ]
  },
  {
   "cell_type": "markdown",
   "id": "0a8dd164",
   "metadata": {
    "slideshow": {
     "slide_type": "subslide"
    }
   },
   "source": [
    "### 1.6.5 Counter"
   ]
  },
  {
   "cell_type": "markdown",
   "id": "f009d4fc",
   "metadata": {
    "slideshow": {
     "slide_type": "subslide"
    }
   },
   "source": [
    "[Counter](https://docs.python.org/3/library/collections.html?highlight=counter#counter-objects) dienen dazu, schnell die Häufigkeit des Auftretens verschiedener Schlüssel in einer Liste zu ermitteln. Counter müssen aus dem built-in Pythonmodul **collections** importiert werden."
   ]
  },
  {
   "cell_type": "code",
   "execution_count": null,
   "id": "2d68ff82",
   "metadata": {
    "slideshow": {
     "slide_type": "fragment"
    }
   },
   "outputs": [],
   "source": [
    "from collections import Counter\n",
    "num_list = [0, 1,2, 0, 1, 1, 1, 2, 2, 3]\n",
    "c = Counter(num_list) \n",
    "print(c)"
   ]
  },
  {
   "cell_type": "markdown",
   "id": "011c002e",
   "metadata": {
    "slideshow": {
     "slide_type": "subslide"
    }
   },
   "source": [
    "Counter Instanzen beinhalten die Methode *most_common()*. Die Methode ist nützlich, wenn nur die häufigsten Vorkommnisse ausgegeben werden sollen:"
   ]
  },
  {
   "cell_type": "code",
   "execution_count": null,
   "id": "9946da20",
   "metadata": {
    "slideshow": {
     "slide_type": "fragment"
    }
   },
   "outputs": [],
   "source": [
    "doc = ['ich', 'ich','ich', 'bin','bin','hier','wer','wer','wer','wer','noch']\n",
    "word_count = Counter(doc)\n",
    "\n",
    "# Ermittlung der drei häufigsten Wörter und ihrer Anzahl\n",
    "print(word_count)\n",
    "print(word_count.most_common(3))"
   ]
  },
  {
   "cell_type": "markdown",
   "id": "91dcbbd6",
   "metadata": {
    "slideshow": {
     "slide_type": "subslide"
    }
   },
   "source": [
    "<div class=\"alert alert-warning\"><h4> Aufgabe 6: Counter</h4><br>\n",
    "a) Führen Sie die folgende Zelle aus und lassen Sie sich im Anschluss die Elemente des Objekts <b>c</b> mithilfe der Methode elements() als Liste ausgeben.<br>\n",
    "b) Geben Sie die drei häufigsten Character und deren Anzahl des folgenden Strings d aus.<br>"
   ]
  },
  {
   "cell_type": "code",
   "execution_count": null,
   "id": "8c67d92a",
   "metadata": {
    "slideshow": {
     "slide_type": "fragment"
    }
   },
   "outputs": [],
   "source": [
    "c = Counter(a=4, b=2)"
   ]
  },
  {
   "cell_type": "code",
   "execution_count": null,
   "id": "c337c2d9",
   "metadata": {
    "slideshow": {
     "slide_type": "fragment"
    }
   },
   "outputs": [],
   "source": [
    "d = \"lkseropewdssafsdfafkpwe\""
   ]
  },
  {
   "cell_type": "markdown",
   "id": "d9b5d9db",
   "metadata": {
    "slideshow": {
     "slide_type": "skip"
    }
   },
   "source": [
    "<div class=\"alert alert-warning\"><h4> Aufgabe 6: Zusatzaufgabe</h4><br>\n",
    "c) Lassen Sie sich die Differenzmenge der beiden Listen l1 und l2 ausgeben. Verwenden Sie hierfür das <b>collections</b>-Modul. Der Output sieht wie folgt aus:<br>\n",
    "<code>[3, 3, 4, 7]</code>"
   ]
  },
  {
   "cell_type": "code",
   "execution_count": null,
   "id": "5546c445",
   "metadata": {
    "slideshow": {
     "slide_type": "skip"
    }
   },
   "outputs": [],
   "source": [
    "l1 = [1,1,2,3,3,4,4,5,6,7]\n",
    "l2 = [1,1,2,4,5,6]"
   ]
  }
 ],
 "metadata": {
  "kernelspec": {
   "display_name": "Python 3 (ipykernel)",
   "language": "python",
   "name": "python3"
  },
  "language_info": {
   "codemirror_mode": {
    "name": "ipython",
    "version": 3
   },
   "file_extension": ".py",
   "mimetype": "text/x-python",
   "name": "python",
   "nbconvert_exporter": "python",
   "pygments_lexer": "ipython3",
   "version": "3.9.18"
  }
 },
 "nbformat": 4,
 "nbformat_minor": 5
}
