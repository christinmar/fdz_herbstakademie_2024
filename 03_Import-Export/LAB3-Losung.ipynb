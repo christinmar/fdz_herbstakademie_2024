{
 "cells": [
  {
   "cell_type": "markdown",
   "id": "320514be",
   "metadata": {},
   "source": [
    "<h1><center> 3. Übung: Import und Export"
   ]
  },
  {
   "cell_type": "markdown",
   "id": "9e1a53c4",
   "metadata": {},
   "source": [
    "<div class=\"alert alert-warning\"><h4> Aufgabe 1: Laden und Schreiben von Textdateien"
   ]
  },
  {
   "cell_type": "markdown",
   "id": "606db873",
   "metadata": {},
   "source": [
    "a) Wieso ist das Importieren von Text-Dateien mit dem `with`-Statement sinnvoll?"
   ]
  },
  {
   "cell_type": "markdown",
   "id": "ebebaea5",
   "metadata": {},
   "source": [
    "- Durch das `with`-Statement wird die Datei automatisch geschlossen"
   ]
  },
  {
   "cell_type": "markdown",
   "id": "38dd6247",
   "metadata": {},
   "source": [
    "b) Laden Sie die Datei `Faust2.txt` ohne das `with`-Statement als `f` und speichern Sie das Objekt als `faust`. Schließen Sie die Datei noch nicht. "
   ]
  },
  {
   "cell_type": "code",
   "execution_count": null,
   "id": "4ea3ad54",
   "metadata": {},
   "outputs": [],
   "source": [
    "f = open(\"..\\_Daten\\Faust2.txt\", \"r\", encoding=\"utf-8\") # Prüfen Sie, ob Sie den korrekten relativen Dateipfad angegeben haben"
   ]
  },
  {
   "cell_type": "code",
   "execution_count": null,
   "id": "ed3b25a3",
   "metadata": {},
   "outputs": [],
   "source": [
    "faust = f.read()"
   ]
  },
  {
   "cell_type": "markdown",
   "id": "9f56c2e5",
   "metadata": {},
   "source": [
    "c) Prüfen Sie nun mithilfe von `f.closed`, ob Ihre Datei geöffnet ist."
   ]
  },
  {
   "cell_type": "code",
   "execution_count": null,
   "id": "3e19edeb",
   "metadata": {},
   "outputs": [],
   "source": [
    "f.closed"
   ]
  },
  {
   "cell_type": "markdown",
   "id": "afdb2e6f",
   "metadata": {},
   "source": [
    "d) Sie sehen, dass Ihre Datei noch nicht geschlossen wurde. Schließen Sie nun Ihre Datei und führen Sie noch einmal den `f.closed`-Befehl aus."
   ]
  },
  {
   "cell_type": "code",
   "execution_count": null,
   "id": "b286cbc9",
   "metadata": {},
   "outputs": [],
   "source": [
    "f.close() # Datei wird geschlossen\n",
    "f.closed # Überprüfen, ob Datei geschlossen ist"
   ]
  },
  {
   "cell_type": "markdown",
   "id": "d3a2d65e",
   "metadata": {},
   "source": [
    "e) Laden Sie die Datei `Faust2.txt` mithilfe des `with`-Statements und speichern Sie das Objekt als `faust2`. Lassen Sie sich das Objekt `faust2` ausgeben und überpüfen Sie, ob Ihre Datei geschlossen ist."
   ]
  },
  {
   "cell_type": "code",
   "execution_count": null,
   "id": "5a7d785b",
   "metadata": {},
   "outputs": [],
   "source": [
    "with open(\"..\\_Daten\\Faust2.txt\", \"r\", encoding=\"utf-8\") as f: # Datei öffnen mithilfe des with-Statements als f\n",
    "    faust2 = f.read() # Methode read, da wir in f einlesen möchten\n",
    "    \n",
    "# r steht für \"read\", da wir die Datei einlesen möchten"
   ]
  },
  {
   "cell_type": "code",
   "execution_count": null,
   "id": "1840886e",
   "metadata": {},
   "outputs": [],
   "source": [
    "print(faust2)"
   ]
  },
  {
   "cell_type": "code",
   "execution_count": null,
   "id": "81fc11a3",
   "metadata": {},
   "outputs": [],
   "source": [
    "f.closed"
   ]
  },
  {
   "cell_type": "markdown",
   "id": "b4fe6151",
   "metadata": {},
   "source": [
    "f) Importieren Sie die ersten 1000 Zeilen des Datensatzes `Bitcoin_Daten.csv` mittels `pandas`. Hinweise dazu finden Sie unter `help(pd.read_csv)`. "
   ]
  },
  {
   "cell_type": "code",
   "execution_count": null,
   "id": "a25c80be",
   "metadata": {},
   "outputs": [],
   "source": [
    "import pandas as pd"
   ]
  },
  {
   "cell_type": "code",
   "execution_count": null,
   "id": "5bf0e1bc",
   "metadata": {},
   "outputs": [],
   "source": [
    "help(pd.read_csv)"
   ]
  },
  {
   "cell_type": "code",
   "execution_count": null,
   "id": "e7c68084",
   "metadata": {},
   "outputs": [],
   "source": [
    "pd.read_csv(\"..\\_Daten\\Bitcoin_Daten.csv\", nrows=1000)"
   ]
  }
 ],
 "metadata": {
  "kernelspec": {
   "display_name": "Python 3 (ipykernel)",
   "language": "python",
   "name": "python3"
  },
  "language_info": {
   "codemirror_mode": {
    "name": "ipython",
    "version": 3
   },
   "file_extension": ".py",
   "mimetype": "text/x-python",
   "name": "python",
   "nbconvert_exporter": "python",
   "pygments_lexer": "ipython3",
   "version": "3.9.18"
  }
 },
 "nbformat": 4,
 "nbformat_minor": 5
}
