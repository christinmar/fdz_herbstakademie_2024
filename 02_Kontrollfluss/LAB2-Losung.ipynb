{
 "cells": [
  {
   "cell_type": "markdown",
   "id": "a99d5c71",
   "metadata": {},
   "source": [
    "<h1><center>  2. Übung: Kontrollfluss und Funktionen"
   ]
  },
  {
   "cell_type": "markdown",
   "id": "ecd50bbe",
   "metadata": {},
   "source": [
    "<div class=\"alert alert-warning\"><h4>  Aufgabe 1: Bedingungen"
   ]
  },
  {
   "cell_type": "markdown",
   "id": "2a7d1293",
   "metadata": {},
   "source": [
    "a) Schreiben Sie eine Bedingung, die bestimmt, ob eine Zahl größer 10 ist. Wenn die Bedingung erfüllt ist, geben Sie `Die Zahl <x> ist größer als 10.` aus. Testen Sie Ihr Statement mithilfe der Zahl 11."
   ]
  },
  {
   "cell_type": "code",
   "execution_count": null,
   "id": "8cfa4ae4",
   "metadata": {},
   "outputs": [],
   "source": [
    "x = 11\n",
    "if x>10:\n",
    "    print(f\"Die Zahl {x} ist größer als 10.\")"
   ]
  },
  {
   "cell_type": "markdown",
   "id": "663c8d00",
   "metadata": {},
   "source": [
    "b) Schreiben Sie Ihr Statement oben so um, dass Sie zusätzlich den Satz `Die Zahl <x> ist kleiner gleich 10.` ausgeben, wenn die Zahl kleiner-gleich 10 ist."
   ]
  },
  {
   "cell_type": "code",
   "execution_count": null,
   "id": "b18a735c",
   "metadata": {},
   "outputs": [],
   "source": [
    "x = 7\n",
    "if x>10:\n",
    "    print(f\"Die Zahl {x} ist größer als 10.\")\n",
    "else: \n",
    "    print(\"Die Zahl {} ist kleiner gleich 10.\".format(x))"
   ]
  },
  {
   "cell_type": "markdown",
   "id": "1a812ff7",
   "metadata": {},
   "source": [
    "c) Schreiben Sie ein Statement, dass das für alle Zahlen größer 0 und kleiner gleich 10 den Satz ausgibt: `Die Zahl {x} ist größer als 0 und kleiner-gleich 10.`"
   ]
  },
  {
   "cell_type": "code",
   "execution_count": null,
   "id": "bd2857d6",
   "metadata": {},
   "outputs": [],
   "source": [
    "x = 9\n",
    "if x > 0 and x <= 10:\n",
    "    print(f\"Die Zahl {x} ist größer als 0 und kleiner-gleich 10.\")"
   ]
  },
  {
   "cell_type": "markdown",
   "id": "9d224a33",
   "metadata": {},
   "source": [
    "<div class=\"alert alert-warning\"><h4>  Aufgabe 2: Schleifen"
   ]
  },
  {
   "cell_type": "markdown",
   "id": "9b732e48",
   "metadata": {},
   "source": [
    "a) Schreiben Sie eine `for`-Schleife, die alle Elemente zwischen -10 und 10 ausgibt."
   ]
  },
  {
   "cell_type": "code",
   "execution_count": null,
   "id": "658721fb",
   "metadata": {},
   "outputs": [],
   "source": [
    "for i in range(-10, 11):\n",
    "    print(i)"
   ]
  },
  {
   "cell_type": "markdown",
   "id": "7e136603",
   "metadata": {},
   "source": [
    "b) Geben Sie mithilfe einer `for`-Schleife alle Elemente von `farben = [rot, blau, gelb, rot, blau]` aus."
   ]
  },
  {
   "cell_type": "code",
   "execution_count": null,
   "id": "fe951672",
   "metadata": {},
   "outputs": [],
   "source": [
    "farben = [\"rot\", \"blau\", \"gelb\", \"rot\", \"blau\"]\n",
    "for a in farben:\n",
    "    print(a)"
   ]
  },
  {
   "cell_type": "markdown",
   "id": "a4061aa1",
   "metadata": {},
   "source": [
    "c) Erzeugen Sie möglichst sparsam die Liste `[None, None, None, None, None]` und die Liste `[False, False, False]`."
   ]
  },
  {
   "cell_type": "code",
   "execution_count": null,
   "id": "1f4ff1a6",
   "metadata": {},
   "outputs": [],
   "source": [
    "k = [None for _ in range(5)]\n",
    "k"
   ]
  },
  {
   "cell_type": "code",
   "execution_count": null,
   "id": "56895131",
   "metadata": {},
   "outputs": [],
   "source": [
    "k = [False for _ in range(3)]\n",
    "k"
   ]
  },
  {
   "cell_type": "markdown",
   "id": "284e50f5",
   "metadata": {},
   "source": [
    "d) Sie haben das Objekt `zahlen` gegeben. Geben Sie jedes Element mithilfe einer `while`-Schleife aus. Stoppen Sie, wenn eine Zahl kleiner 5 ist. "
   ]
  },
  {
   "cell_type": "code",
   "execution_count": null,
   "id": "f8624999",
   "metadata": {},
   "outputs": [],
   "source": [
    "zahlen = [15, 100, 30, 43, 80, 7, 5, 9, 12, 3, 60, 55]"
   ]
  },
  {
   "cell_type": "code",
   "execution_count": null,
   "id": "f2adcebb",
   "metadata": {},
   "outputs": [],
   "source": [
    "i = 0\n",
    "\n",
    "while zahlen[i] >= 5: \n",
    "    print(zahlen[i])\n",
    "    i += 1 # i = i + 1"
   ]
  },
  {
   "cell_type": "markdown",
   "id": "69df81e8",
   "metadata": {},
   "source": [
    "e) Kopieren Sie die Elemente von `farben` mithilfe einer `while`-Schleife nach `farben_neu`. Stoppen Sie die Schleife, wenn die Farbe nicht blau oder rot ist."
   ]
  },
  {
   "cell_type": "code",
   "execution_count": null,
   "id": "3d95bfc6",
   "metadata": {},
   "outputs": [],
   "source": [
    "i = 0\n",
    "farben_neu = [] # leere Liste anlegen\n",
    "while farben[i] == \"rot\" or farben[i] == \"blau\":\n",
    "    farben_neu.append(farben[i]) # Element anhängen\n",
    "    i += 1\n",
    "print(farben_neu)"
   ]
  },
  {
   "cell_type": "markdown",
   "id": "14fc706e",
   "metadata": {},
   "source": [
    "f) Logarithmieren Sie möglichst sparsam alle Werte in `zahlen` aus Aufgabe 2d)."
   ]
  },
  {
   "cell_type": "code",
   "execution_count": null,
   "id": "8ad04510",
   "metadata": {},
   "outputs": [],
   "source": [
    "import math as m\n",
    "[m.log(i) for i in zahlen]"
   ]
  },
  {
   "cell_type": "markdown",
   "id": "4fd48c1d",
   "metadata": {},
   "source": [
    "<div class=\"alert alert-warning\"><h4>  Aufgabe 3: Funktionen"
   ]
  },
  {
   "cell_type": "markdown",
   "id": "6763ef25",
   "metadata": {},
   "source": [
    "a) Schreiben Sie eine Funktion `multi`, die das erste Element mit dem zweiten Element multipliziert und als Rückgabewert das Ergebnis der Multiplikation ausgibt. Überprüfen Sie Ihre Funktion mit den beiden Werten 3 und 7."
   ]
  },
  {
   "cell_type": "code",
   "execution_count": null,
   "id": "bdc3b3b2",
   "metadata": {},
   "outputs": [],
   "source": [
    "def multi(a, b):\n",
    "    print(a*b)"
   ]
  },
  {
   "cell_type": "code",
   "execution_count": null,
   "id": "1edd51be",
   "metadata": {},
   "outputs": [],
   "source": [
    "multi(3, 7)"
   ]
  },
  {
   "cell_type": "markdown",
   "id": "ddc065f2",
   "metadata": {},
   "source": [
    "b) Importieren Sie die Funktion `randint()` aus dem Modul `random`. Informieren Sie sich über die Funktion `randint()` und schreiben Sie die Funktion `wurf()`, die uns gleichverteilt die Zahlen 1 bis 6 zurückgibt."
   ]
  },
  {
   "cell_type": "code",
   "execution_count": null,
   "id": "b79d129f",
   "metadata": {},
   "outputs": [],
   "source": [
    "from random import randint \n",
    "\n",
    "def wurf():\n",
    "    augen = randint(1, 6)\n",
    "    return augen"
   ]
  },
  {
   "cell_type": "markdown",
   "id": "b2c3f6ac",
   "metadata": {},
   "source": [
    "c) Führen Sie die Funktion wurf 1000x aus und berechnen Sie das arithmetische Mittel mittels `from statistics import mean`."
   ]
  },
  {
   "cell_type": "code",
   "execution_count": null,
   "id": "807152be",
   "metadata": {},
   "outputs": [],
   "source": [
    "a = []\n",
    "for i in range(1000):\n",
    "    a.append(wurf())\n",
    "\n",
    "from statistics import mean\n",
    "mean(a)"
   ]
  },
  {
   "cell_type": "markdown",
   "id": "aedb3a75",
   "metadata": {},
   "source": [
    "d) Zum Erlernen von Schleifen, if-Abfragen und Funktionen sind das Sieb des Eratosthenes und der Bubblesort klassische Aufgaben. Sehen Sie sich die Erläuterungen und den Pseudocode auf https://de.wikipedia.org/wiki/Sieb_des_Eratosthenes und https://de.wikipedia.org/wiki/Bubblesort an und versuchen Sie für beide eine Umsetzung in Python. Schreiben Sie hierfür die beiden Funktionen `bubblesort` und `sieb`. Testen Sie das Sieb des Eratosthenes an den Zahlen 1 bis 100 und den Bubblesort an der Liste [17, 42, 4, 99, 8, 16].<br>\n",
    "**Hinweis**: Sie müssen sich nicht an den Pseudocode halten, solange das gewünschte Ergebnis erreicht wird."
   ]
  },
  {
   "cell_type": "code",
   "execution_count": null,
   "id": "055a6f71",
   "metadata": {},
   "outputs": [],
   "source": [
    "# Bubblesort\n",
    "def bubblesort(toSort):\n",
    "    for i in range(len(toSort)): # Für alle Elemente in [0, 1, 2, 3, 4, 5] für unser Beispiel\n",
    "        for j in range(len(toSort)-i-1): # für alle Elemente in range(5-1-i)\n",
    "            if toSort[j] > toSort[j+1]: # Wenn das Element an Stelle j größer als Element an Stelle j+1 ist, \n",
    "                toSort[j], toSort[j+1] = toSort[j+1], toSort[j] # dann tausche die Position der beiden Elemente\n",
    "    return toSort"
   ]
  },
  {
   "cell_type": "code",
   "execution_count": null,
   "id": "01a6c58d",
   "metadata": {},
   "outputs": [],
   "source": [
    "toSort = [17, 42, 4, 99, 8, 16]\n",
    "bubblesort(toSort)"
   ]
  },
  {
   "cell_type": "code",
   "execution_count": null,
   "id": "759e9538",
   "metadata": {},
   "outputs": [],
   "source": [
    "# Sieb des Eratosthenes\n",
    "def sieb(n):\n",
    "    gestrichen = [] # leere Liste als Speicher\n",
    "    for i in range(2, n+1): # Alle Zahlen zwischen 0 und n --> n = 100\n",
    "        if i not in gestrichen: # Wenn i nicht in Liste gestrichen ist, \n",
    "            print(i) # dann print(i); Erster Durchgang: Zahl 2 wird ausgegeben\n",
    "            for j in range(i*i, n+1, i): # Alle Zahlen, die ein Vielfaches von i sind,\n",
    "                gestrichen.append(j) # werden an Liste gestrichen angehängt\n",
    "                \n",
    "sieb(100)"
   ]
  },
  {
   "cell_type": "markdown",
   "id": "3311eacc",
   "metadata": {},
   "source": [
    "**1. Durchlauf des Sieb des Eratosthenes**\n",
    "1. `gestrichen` ist eine leere Liste\n",
    "2. `i` ist 2\n",
    "3. `i`=2 ist nicht in Liste `gestrichen` enthalten\n",
    "4. `i`=2 wird ausgegeben\n",
    "5. Alle Elemente in `range(2*2, 101, 2)` also 4, 6, 8, 10, ... werden der Liste `gestrichen` angefügt\n",
    "\n",
    "**2. Durchlauf des Sieb des Eratosthenes**\n",
    "1. `gestrichen` ist eine Liste, die alle Vielfachen von 2 bis 100 enthält\n",
    "2. `i` ist 3\n",
    "3. `i`=3 ist nicht in Liste `gestrichen` enthalten\n",
    "4. `i`=3 wird ausgegeben\n",
    "5. Alle Elemente in `range(3*3, 101, 3)` also 9, 12, 15, 18, ... werden der Liste `gestrichen` angefügt"
   ]
  }
 ],
 "metadata": {
  "kernelspec": {
   "display_name": "Python 3 (ipykernel)",
   "language": "python",
   "name": "python3"
  },
  "language_info": {
   "codemirror_mode": {
    "name": "ipython",
    "version": 3
   },
   "file_extension": ".py",
   "mimetype": "text/x-python",
   "name": "python",
   "nbconvert_exporter": "python",
   "pygments_lexer": "ipython3",
   "version": "3.9.18"
  }
 },
 "nbformat": 4,
 "nbformat_minor": 5
}
