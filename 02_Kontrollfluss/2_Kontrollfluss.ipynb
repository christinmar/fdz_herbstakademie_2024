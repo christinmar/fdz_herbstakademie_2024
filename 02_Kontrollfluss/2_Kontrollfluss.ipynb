{
 "cells": [
  {
   "cell_type": "markdown",
   "id": "8787310d",
   "metadata": {},
   "source": [
    "<h1><center> 2 Kontrollfluss und Funktionen"
   ]
  },
  {
   "cell_type": "markdown",
   "id": "ec4bf383",
   "metadata": {},
   "source": [
    "<div class=\"alert alert-info\">Der Kontrollfluss bezeichnet die Reihenfolge der Befehle unseres Programms. In dieser Lerneinheit lernen wir drei Kontrollstrukturen kennen (Fallunterscheidungen: <b>if</b>, <b>elif</b>, <b>else</b>; bedingungskontrollierte Schleifen: <b>while</b> und sammlungskontrollierte Schleifen: <b>for</b>), die es uns ermöglichen von der sequenziellen Abarbeitung der Befehle abzuweichen und die Abfolge der Befehle von einzelnen Ausdrücken abhängig zu machen. Neben den Kontrollstrukturen machen wir uns in dieser Lerneinheit auch mit Funktionen vertraut. Die Lerneinheit ist folgendermaßen aufgebaut: <br>\n",
    "    <ol>\n",
    "        <li>Bedingungen</li>\n",
    "        <li>Bedingungskontrollierte Schleifen</li>\n",
    "        <li>Sammlungskontrollierte Schleifen</li>\n",
    "        <li>Funktionen</li>\n",
    "    </ol>\n",
    "\n",
    "Nach dieser Lerneinheit können Sie if-, if-else- und elif-Ausdrücke übersetzen und formulieren. Sie können den Unterschied zwischen den beiden vorgestellten Schleifen-Typen erklären und diese anwenden. Außerdem können Sie den Aufbau von Funktionen schildern und auch eigene Funktionen implementieren.</div>"
   ]
  },
  {
   "cell_type": "markdown",
   "id": "02aec452",
   "metadata": {},
   "source": [
    "## 2.1 Bedingungen"
   ]
  },
  {
   "cell_type": "markdown",
   "id": "764b6c13",
   "metadata": {},
   "source": [
    "In Kapitel 1 haben wir bereits Wahrheitswerte (`True` und `False`) und logische Operatoren und Verknüpfungen kennengelernt. Nun wollen wir dieses Wissen anwenden und dem Programm mitteilen, dass einige Aufgaben nur dann erledigt werden sollen, *wenn* eine Bedingung erfüllt ist, *sonst* soll etwas anderes ausgeführt werden."
   ]
  },
  {
   "cell_type": "markdown",
   "id": "32dd95c1",
   "metadata": {},
   "source": [
    "<div class=\"alert alert-danger\"> <strong>Achtung:</strong> Code-Blöcke werden in Python allein durch Einrückungen definiert. Der Kopf eines Code-Blocks (Verzweigung, Schleife, Funktion etc.) wird dabei immer mit einem Doppelpunkt <strong>:</strong> abgeschlossen. Danach muss eingerückt werden. <br>\n",
    "<strong> Die Anzahl der Leerzeichen muss stimmen und Tabulatoren sollten vermieden werden. Letztes macht Jupyter automatisch.</strong></div>"
   ]
  },
  {
   "cell_type": "markdown",
   "id": "c7278deb",
   "metadata": {},
   "source": [
    "#### if-Statement"
   ]
  },
  {
   "cell_type": "markdown",
   "id": "24d2cc66",
   "metadata": {},
   "source": [
    "`if bedingung:\n",
    "    anweisung`<br>\n",
    "\n",
    "Der eingerückte Block wird dabei nur ausgeführt, wenn die Bedingung zutrifft - d. h. wenn sie den Wahrheitswert `True` annimmt."
   ]
  },
  {
   "cell_type": "code",
   "execution_count": null,
   "id": "f88f2e70",
   "metadata": {},
   "outputs": [],
   "source": [
    "zahl = 1\n",
    "if zahl > 0:\n",
    "    print(\"Es ist eine positive Zahl.\")"
   ]
  },
  {
   "cell_type": "code",
   "execution_count": null,
   "id": "6ee2147d",
   "metadata": {},
   "outputs": [],
   "source": [
    "if zahl > 0:\n",
    "print(\"Es ist eine positive Zahl.\") # Fehlermeldung"
   ]
  },
  {
   "cell_type": "code",
   "execution_count": null,
   "id": "29e35482",
   "metadata": {},
   "outputs": [],
   "source": [
    "zahl = -1\n",
    "if zahl > 0:\n",
    "    print(\"Es ist eine positive Zahl.\")"
   ]
  },
  {
   "cell_type": "markdown",
   "id": "05776c29",
   "metadata": {},
   "source": [
    "#### if-else-Statement"
   ]
  },
  {
   "cell_type": "markdown",
   "id": "4aaf0d60",
   "metadata": {},
   "source": [
    "`if bedingung:\n",
    "    anweisung\n",
    "else: \n",
    "    anweisung`<br>\n",
    "          \n",
    "\n",
    "Der eingerückte Block nach **else** wird ausgeführt, wenn der Ausdruck der vorherigen **if** den Wahrheitswert `False` angenommen hat."
   ]
  },
  {
   "cell_type": "code",
   "execution_count": null,
   "id": "f5a80a6e",
   "metadata": {},
   "outputs": [],
   "source": [
    "if zahl > 0:\n",
    "    print(\"Es ist eine positive Zahl.\")\n",
    "else:\n",
    "    print(\"Es ist keine positive Zahl.\")"
   ]
  },
  {
   "cell_type": "markdown",
   "id": "9d0436ba",
   "metadata": {},
   "source": [
    "#### elif-Statement"
   ]
  },
  {
   "cell_type": "markdown",
   "id": "8376a04f",
   "metadata": {},
   "source": [
    "`if bedingung:\n",
    "    anweisung\n",
    "elif bedingung: \n",
    "    anweisung\n",
    "...   \n",
    "else: \n",
    "    anweisung`<br>\n",
    "          \n",
    "\n",
    "Der eingerückte Block nach **elif** wird nur geprüft, wenn der Ausdruck der vorherigen **if-Bedingung** den Wahrheitswert `False` angenommen hat. Nimmt die Bedingung von **elif** ebenfalls den Wahrheitswert `False` an, wird entweder die nächste **elif**-Bedingung geprüft oder die Anweisung im **else**-Block ausgeführt. <br>\n",
    "Es kann mehrer **elif**-Blöcke geben, aber nur einen **else**-Block. Diese muss am Ende des Statements stehen. Weitere **elif**-Blöcke nach dem **else**-Block sind nicht zulässig."
   ]
  },
  {
   "cell_type": "code",
   "execution_count": null,
   "id": "7f13a4c0",
   "metadata": {},
   "outputs": [],
   "source": [
    "if zahl > 0:\n",
    "    print(\"{} ist eine positive Zahl.\".format(zahl))\n",
    "elif zahl == 0:\n",
    "    print(\"{} ist Null.\".format(zahl))\n",
    "else:\n",
    "    print(\"{} ist eine negative Zahl\".format(zahl))"
   ]
  },
  {
   "cell_type": "markdown",
   "id": "c5270c6e",
   "metadata": {},
   "source": [
    "<div class=\"alert alert-warning\"><h4>  Aufgabe 1: Bedingungen"
   ]
  },
  {
   "cell_type": "markdown",
   "id": "964d2441",
   "metadata": {},
   "source": [
    "a) Schreiben Sie eine Bedingung, die bestimmt, ob eine Zahl größer 10 ist. Wenn die Bedingung erfüllt ist, geben Sie `Die Zahl <x> ist größer als 10.` aus. Testen Sie Ihr Statement mithilfe der Zahl 11."
   ]
  },
  {
   "cell_type": "markdown",
   "id": "0616d85c",
   "metadata": {},
   "source": [
    "b) Schreiben Sie Ihr Statement oben so um, dass Sie zusätzlich den Satz `Die Zahl <x> ist kleiner gleich 10.` ausgeben, wenn die Zahl kleiner-gleich 10 ist."
   ]
  },
  {
   "cell_type": "markdown",
   "id": "4556cdba",
   "metadata": {},
   "source": [
    "#### Zusatzaufgabe\n",
    "c) Schreiben Sie ein Statement, dass das für alle Zahlen größer 0 und kleiner gleich 10 den Satz ausgibt: `Die Zahl {x} ist größer als 0 und kleiner-gleich 10.`"
   ]
  },
  {
   "cell_type": "markdown",
   "id": "5f4f8a2f",
   "metadata": {},
   "source": [
    "## 2.2 Bedingungskontrollierte Schleifen"
   ]
  },
  {
   "cell_type": "markdown",
   "id": "032d6416",
   "metadata": {},
   "source": [
    "Schleifen erlauben es uns, einen Code iterativ auszuführen und dabei Variablen systematisch zu ändern. `while`-Schleifen werden solange ausgeführt, während eine bestimmte Bedingung erfüllt ist. Sie funktionieren demnach ähnlich wie `if`-Statements. Zweitere werden jedoch nur einmal ausgeführt, während `while`-Schleifen solange ausgeführt werden, bis sich die Bedingung ändert. <br>\n",
    "<div class=\"alert alert-danger\"><strong>Achtung</strong>: Wenn die Bedingung nicht den Wahrheitswert False annehmen kann, wird der Ablauf nicht abgebrochen und der Kernel muss neu gestartet werden!</div>"
   ]
  },
  {
   "cell_type": "code",
   "execution_count": null,
   "id": "44aa36c3",
   "metadata": {},
   "outputs": [],
   "source": [
    "idx = 1 # Ein Index wird definiert\n",
    "while idx < 5: # Die Schleife wird solange ausgeführt, bis i nicht mehr kleiner 5 ist\n",
    "    print(idx)\n",
    "    idx += 1 # Kurz für idx = idx + 1"
   ]
  },
  {
   "cell_type": "code",
   "execution_count": null,
   "id": "5cf4496a",
   "metadata": {},
   "outputs": [],
   "source": [
    "idx = 1 # Ein Index wird definiert\n",
    "while idx < 5: # Die Schleife wird solange ausgeführt, bis i nicht mehr kleiner 5 ist\n",
    "    print(idx)\n",
    "    idx += 1\n",
    "else:\n",
    "    print(f\"Die Variable nimmt den Wert {idx} an. Somit ist die Bedingung nicht mehr erfüllt.\")"
   ]
  },
  {
   "cell_type": "markdown",
   "id": "067448ed",
   "metadata": {},
   "source": [
    "## 2.3 Sammlungskontrollierte Schleifen"
   ]
  },
  {
   "cell_type": "markdown",
   "id": "f89b32b6",
   "metadata": {},
   "source": [
    "In der ersten Lerneinheit haben wir gelernt, dass jedes Element in einem Datencontainer einen spezifischen Index-Wert besitzt. `for`-Schleifen machen sich dies zunutze und ermöglichen es so, mit jedem Element in einem Datencontainer zu operieren."
   ]
  },
  {
   "cell_type": "markdown",
   "id": "4f7cdf6c",
   "metadata": {},
   "source": [
    "Bevor wir uns `for`-Schleifen ansehen, lernen wir noch die `range()`-Funktion kennen. Dieses generiert dynamisch eine Zahlensequenz innerhalb der gewünschten Parameter. Die allgemeine Syntax lautet:\n",
    "\n",
    "    range(start, ende, schrittweite)\n",
    "    \n",
    "Wenn kein Startwert vorgegeben wird, beginnt Python bei der Zahl 0. Wird kein Zahlenabstand (Schritte) definiert, erstellt der Interpreter eine Liste von aufeinanderfolgenden Zahlen (z.B. Einerschritte). Der Endwert muss immer vorgegeben werden und ist **nicht** in der generierten Liste enthalten."
   ]
  },
  {
   "cell_type": "code",
   "execution_count": null,
   "id": "5bbcc74b",
   "metadata": {},
   "outputs": [],
   "source": [
    "a = range(10)\n",
    "list(a)"
   ]
  },
  {
   "cell_type": "code",
   "execution_count": null,
   "id": "f67840ca",
   "metadata": {},
   "outputs": [],
   "source": [
    "a"
   ]
  },
  {
   "cell_type": "code",
   "execution_count": null,
   "id": "ecb945d8",
   "metadata": {},
   "outputs": [],
   "source": [
    "list(range(3, 10)) # Start und Ende gegeben"
   ]
  },
  {
   "cell_type": "code",
   "execution_count": null,
   "id": "6d917e59",
   "metadata": {},
   "outputs": [],
   "source": [
    "list(range(-3, 10)) # Negative Integer möglich"
   ]
  },
  {
   "cell_type": "code",
   "execution_count": null,
   "id": "a1553f2d",
   "metadata": {},
   "outputs": [],
   "source": [
    "list(range(0, 10, 2)) # Steps"
   ]
  },
  {
   "cell_type": "code",
   "execution_count": null,
   "id": "36e18943",
   "metadata": {},
   "outputs": [],
   "source": [
    "# Argument-unpacking Operator *\n",
    "[1, 2, *range(7, 15)]"
   ]
  },
  {
   "cell_type": "markdown",
   "id": "2c71569f",
   "metadata": {},
   "source": [
    "#### for-Schleifen"
   ]
  },
  {
   "cell_type": "code",
   "execution_count": null,
   "id": "4ea4d3e6",
   "metadata": {},
   "outputs": [],
   "source": [
    "# Sehr aufwendig\n",
    "x = [1, 2, 3, 4, 5]\n",
    "print(x[0])\n",
    "print(x[1])\n",
    "print(x[2])\n",
    "print(x[3])\n",
    "print(x[4])"
   ]
  },
  {
   "cell_type": "code",
   "execution_count": null,
   "id": "91db04e1",
   "metadata": {},
   "outputs": [],
   "source": [
    "for i in x: # Iteration durch x\n",
    "    print(i)"
   ]
  },
  {
   "cell_type": "code",
   "execution_count": null,
   "id": "ea73009c",
   "metadata": {},
   "outputs": [],
   "source": [
    "for x in \"banane\":\n",
    "    print(x)"
   ]
  },
  {
   "cell_type": "code",
   "execution_count": null,
   "id": "c748f0ee",
   "metadata": {},
   "outputs": [],
   "source": [
    "obstsorten = [\"apfel\", \"birne\", \"banane\"]\n",
    "for obst in obstsorten: # Iteration durch Obstsorten\n",
    "    print(\"Obstsorte: \", obst)"
   ]
  },
  {
   "cell_type": "markdown",
   "id": "828f2456",
   "metadata": {},
   "source": [
    "#### Enumerate"
   ]
  },
  {
   "cell_type": "code",
   "execution_count": null,
   "id": "7d4d40ad",
   "metadata": {},
   "outputs": [],
   "source": [
    "k = range(100, 200, 10) \n",
    "for i, x in enumerate(k): # enumerate gibt Elemente + Indexe des Datencontainers aus\n",
    "    print(i, x)"
   ]
  },
  {
   "cell_type": "code",
   "execution_count": null,
   "id": "38dd665c",
   "metadata": {},
   "outputs": [],
   "source": [
    "for i, obst in enumerate(obstsorten):\n",
    "    print(f\"{obst} hat den Index {i}.\")"
   ]
  },
  {
   "cell_type": "markdown",
   "id": "5065c2aa",
   "metadata": {},
   "source": [
    "#### Listen-Abstraktion"
   ]
  },
  {
   "cell_type": "markdown",
   "id": "dd3c009d",
   "metadata": {},
   "source": [
    "Listen-Abstraktion (engl. *list comprehension*) ermöglicht es uns einfach und sparsam Listen in Python zu definieren und zu erzeugen. Jede List Comprehension lässt sich auch als For-Schleife darstellen, aber nicht jede For-Schleife kann auch als List Comprehension formuliert werden. Man unterscheidet bedingte (enthalten eine If-Bedingung) und unbedingte List Comprehensions (enthalten keine If-Bedingung). Die Syntax sieht dabei wie folgt aus: <br>\n",
    "`[expression for item in iterable if Bedingung == True]`"
   ]
  },
  {
   "cell_type": "code",
   "execution_count": null,
   "id": "c43da44f",
   "metadata": {},
   "outputs": [],
   "source": [
    "zahlen = [4, 7, 23, 76, 103]\n",
    "[i + 1 for i in zahlen] # Neue Liste"
   ]
  },
  {
   "cell_type": "code",
   "execution_count": null,
   "id": "27fe5454",
   "metadata": {},
   "outputs": [],
   "source": [
    "[i + 1 if i < 100 else i *10 for i in zahlen] # If-else-Statement"
   ]
  },
  {
   "cell_type": "code",
   "execution_count": null,
   "id": "35bd7cb9",
   "metadata": {},
   "outputs": [],
   "source": [
    "[(i, i**2) for i in zahlen] # Tuples"
   ]
  },
  {
   "cell_type": "markdown",
   "id": "271fa1f1",
   "metadata": {},
   "source": [
    "#### Listen als Speicher"
   ]
  },
  {
   "cell_type": "markdown",
   "id": "7f834f98",
   "metadata": {},
   "source": [
    "Mit `range` lassen sich Listen mit Werten (`None`, `\" \"`, `False`, `0`) erzeugen, die dann bspw. innerhalb der `for`-Schleife überschrieben werden können."
   ]
  },
  {
   "cell_type": "code",
   "execution_count": null,
   "id": "77bf479f",
   "metadata": {},
   "outputs": [],
   "source": [
    "print([None for _ in range(10)])\n",
    "print([\" \" for _ in range(10)])\n",
    "print([False for _ in range(10)])\n",
    "print([0 for _ in range(10)])"
   ]
  },
  {
   "cell_type": "markdown",
   "id": "b70c6d9a",
   "metadata": {},
   "source": [
    "<div class=\"alert alert-warning\"><h4>  Aufgabe 2: Schleifen"
   ]
  },
  {
   "cell_type": "markdown",
   "id": "b107c4ba",
   "metadata": {},
   "source": [
    "a) Schreiben Sie eine `for`-Schleife, die alle Elemente zwischen -10 und 10 ausgibt."
   ]
  },
  {
   "cell_type": "markdown",
   "id": "98d6105a",
   "metadata": {},
   "source": [
    "b) Geben Sie mithilfe einer `for`-Schleife alle Elemente von `farben = [rot, blau, gelb, rot, blau]` aus."
   ]
  },
  {
   "cell_type": "markdown",
   "id": "f0187997",
   "metadata": {},
   "source": [
    "c) Erzeugen Sie möglichst sparsam die Liste `[None, None, None, None, None]` und die Liste `[False, False, False]`."
   ]
  },
  {
   "cell_type": "markdown",
   "id": "929865a4",
   "metadata": {},
   "source": [
    "d) Sie haben das Objekt `zahlen` gegeben. Geben Sie jedes Element mithilfe einer `while`-Schleife aus. Stoppen Sie, wenn eine Zahl kleiner 5 ist. "
   ]
  },
  {
   "cell_type": "code",
   "execution_count": null,
   "id": "b29877b0",
   "metadata": {},
   "outputs": [],
   "source": [
    "zahlen = [15, 100, 30, 43, 80, 7, 5, 9, 12, 3, 60, 55]"
   ]
  },
  {
   "cell_type": "markdown",
   "id": "c807b750",
   "metadata": {},
   "source": [
    "#### Zusatzaufgaben\n",
    "e) Kopieren Sie die Elemente von `farben` mithilfe einer `while`-Schleife nach `farben_neu`. Stoppen Sie die Schleife, wenn die Farbe nicht blau oder rot ist."
   ]
  },
  {
   "cell_type": "markdown",
   "id": "319d6d45",
   "metadata": {},
   "source": [
    "f) Logarithmieren Sie möglichst sparsam alle Werte in `zahlen` aus Aufgabe 2d)."
   ]
  },
  {
   "cell_type": "markdown",
   "id": "7ae0b771",
   "metadata": {},
   "source": [
    "## 2.4 Funktionen"
   ]
  },
  {
   "cell_type": "markdown",
   "id": "11ca2211",
   "metadata": {},
   "source": [
    "Wir haben in der letzten und auch in dieser Lerneinheit immer wieder auf Funktionen, z. B. `print()`, zurückgegriffen. Funktionen werden einmal formuliert und können dann später einfach aufgerufen werden. Von Python eingebaute Funktionen, wie `range()` etc., werden als *built-ins* bezeichnet. Diese Funktionsnamen sollte man nicht wiederverwenden, da die built-in-Funktion sonst überschrieben wird. Durch die Definition von Funktionen können wir Codeduplizität vermeiden, Zeit sparen und dem Programm eine Struktur geben. "
   ]
  },
  {
   "cell_type": "code",
   "execution_count": null,
   "id": "c933c128",
   "metadata": {},
   "outputs": [],
   "source": [
    "# Eigene Funktion definieren\n",
    "def gruss(name):\n",
    "    print(f\"Guten Tag, {name}!\") "
   ]
  },
  {
   "cell_type": "code",
   "execution_count": null,
   "id": "0f78618d",
   "metadata": {},
   "outputs": [],
   "source": [
    "# Funktion aufrufen\n",
    "gruss(123)"
   ]
  },
  {
   "cell_type": "markdown",
   "id": "837ab512",
   "metadata": {},
   "source": [
    "**Globale und lokale Variablen**<br>\n",
    "Jede Variable, die innerhalb einer Funktion definiert wird, hat einen lokalen Gültigkeitsbereich. "
   ]
  },
  {
   "cell_type": "code",
   "execution_count": null,
   "id": "209c9f5c",
   "metadata": {},
   "outputs": [],
   "source": [
    "def bsp_funktion():\n",
    "    print(a)\n",
    "    a = 500\n",
    "    print(\"in Funktion:\", a)\n",
    "\n",
    "a = 3\n",
    "print(\"vor Funktion:\", a)\n",
    "bsp_funktion() # Fehlermeldung\n",
    "print(\"nach Funktion:\", a)"
   ]
  },
  {
   "cell_type": "code",
   "execution_count": null,
   "id": "f0963819",
   "metadata": {},
   "outputs": [],
   "source": [
    "def bsp_funktion():\n",
    "    a = 500\n",
    "    print(\"in Funktion:\", a)\n",
    "\n",
    "a = 3\n",
    "print(\"vor Funktion:\", a)\n",
    "bsp_funktion() # nur innerhalb der Funktion ist a = 500\n",
    "print(\"nach Funktion:\", a) # a ist global 3"
   ]
  },
  {
   "cell_type": "code",
   "execution_count": null,
   "id": "9e7145bd",
   "metadata": {},
   "outputs": [],
   "source": [
    "def bsp_funktion():\n",
    "    global a # Variable wird als global definiert \n",
    "    a = 500\n",
    "    print(\"Funktion:\", a)\n",
    "\n",
    "a = 3\n",
    "print(\"vor Funktion:\", a)\n",
    "bsp_funktion()\n",
    "print(\"nach Funktion:\", a) # a ist nun auch global = 500"
   ]
  },
  {
   "cell_type": "markdown",
   "id": "ca4c3f00",
   "metadata": {},
   "source": [
    "**Parameter einer Funktion**"
   ]
  },
  {
   "cell_type": "markdown",
   "id": "62a7fdc2",
   "metadata": {},
   "source": [
    "Die Parameter einer Funktion lassen sich unterteilen in positionale und keyword Argumente:\n",
    "* **Positionale**: Sind verpflichtend und haben keinen Standardwert\n",
    "* **Keyword**: Verfügen über Standardwert und können verändert werden"
   ]
  },
  {
   "cell_type": "code",
   "execution_count": null,
   "id": "65e0df8e",
   "metadata": {},
   "outputs": [],
   "source": [
    "def gruss(name, wetter=\"sonnig\"):\n",
    "    return(f\"Guten Tag, {name}! Das Wetter ist heute {wetter}.\")\n",
    "\n",
    "print(gruss(\"Johanna\"))\n",
    "print(gruss(\"Felix\", \"regnerisch\"))\n",
    "print(gruss(\"regnerisch\", \"Felix\"))\n",
    "print(gruss(wetter=\"regnerisch\", name=\"Felix\"))"
   ]
  },
  {
   "cell_type": "markdown",
   "id": "2cc7596d",
   "metadata": {},
   "source": [
    "**Dynamische und variable Parameter**"
   ]
  },
  {
   "cell_type": "code",
   "execution_count": null,
   "id": "e7ae6703",
   "metadata": {},
   "outputs": [],
   "source": [
    "# Neue Funktion\n",
    "def addition(a, b):\n",
    "    return a+b # keine Klammern nötig\n",
    "\n",
    "addition(3, 4)"
   ]
  },
  {
   "cell_type": "markdown",
   "id": "6c67db98",
   "metadata": {},
   "source": [
    "Was passiert, wenn wir mithilfe unserer Additions-Funktion drei Zahlen addieren möchten?"
   ]
  },
  {
   "cell_type": "code",
   "execution_count": null,
   "id": "4fdfa86d",
   "metadata": {},
   "outputs": [],
   "source": [
    "addition(3, 4, 8) # TypeError: Fixe Anzahl an Parameters in unserer Funktion"
   ]
  },
  {
   "cell_type": "markdown",
   "id": "159df500",
   "metadata": {},
   "source": [
    "**Lösung**: Dynamische bzw. variable Parameter, welche mittels `*` (Tuples) oder `**` (dictionary) angegeben werden. <br>\n",
    "Konvention: `*arg`  und `**kwargs` (für *arguments* und *keyword arguments*)"
   ]
  },
  {
   "cell_type": "code",
   "execution_count": null,
   "id": "503de123",
   "metadata": {},
   "outputs": [],
   "source": [
    "def addition(a, b, *args):\n",
    "    result = a + b \n",
    "    for arg in args:\n",
    "        result += arg # Kurz für result = result + arg\n",
    "    return result\n",
    "\n",
    "addition(3, 4, 8, 2)"
   ]
  },
  {
   "cell_type": "code",
   "execution_count": null,
   "id": "98e1db76",
   "metadata": {},
   "outputs": [],
   "source": [
    "def rechnen(a, b, *args, operation=\"plus\"):\n",
    "    if operation == \"plus\":\n",
    "        result = a + b \n",
    "        for arg in args:\n",
    "            result += arg\n",
    "    if operation == \"mal\":\n",
    "        result = a * b\n",
    "        for arg in args:\n",
    "            result *= arg\n",
    "    return result\n",
    "\n",
    "print(rechnen(1, 5, 5))\n",
    "print(rechnen(1, 5, 5, operation=\"mal\"))"
   ]
  },
  {
   "cell_type": "markdown",
   "id": "4650db64",
   "metadata": {},
   "source": [
    "<div class=\"alert alert-warning\"><h4>  Aufgabe 3: wurf-Funktion"
   ]
  },
  {
   "cell_type": "markdown",
   "id": "bb37ec66",
   "metadata": {},
   "source": [
    "a) Schreiben Sie eine Funktion `multi`, die das erste Element mit dem zweiten Element multipliziert und als Rückgabewert das Ergebnis der Multiplikation ausgibt. Überprüfen Sie Ihre Funktion mit den beiden Werten 3 und 7."
   ]
  },
  {
   "cell_type": "markdown",
   "id": "4e83a2ec",
   "metadata": {},
   "source": [
    "b) Importieren Sie die Funktion `randint()` aus dem Modul `random`. Informieren Sie sich über die Funktion `randint()` und schreiben Sie die Funktion `wurf()`, die uns gleichverteilt die Zahlen 1 bis 6 zurückgibt."
   ]
  },
  {
   "cell_type": "markdown",
   "id": "c6f1e403",
   "metadata": {},
   "source": [
    "c) Führen Sie die Funktion wurf 1000x aus und berechnen Sie das arithmetische Mittel mittels `from statistics import mean`."
   ]
  },
  {
   "cell_type": "markdown",
   "id": "c8500ec6",
   "metadata": {},
   "source": [
    "#### Zusatzaufgaben\n",
    "d) Zum Erlernen von Schleifen, if-Abfragen und Funktionen sind das Sieb des Eratosthenes und der Bubblesort klassische Aufgaben. Sehen Sie sich die Erläuterungen und den Pseudocode auf https://de.wikipedia.org/wiki/Sieb_des_Eratosthenes und https://de.wikipedia.org/wiki/Bubblesort an und versuchen Sie für beide eine Umsetzung in Python. Schreiben Sie hierfür die beiden Funktionen `bubblesort` und `sieb`. Testen Sie das Sieb des Eratosthenes an den Zahlen 1 bis 100 und den Bubblesort an der Liste [17, 42, 4, 99, 8, 16].<br>\n",
    "**Hinweis**: Sie müssen sich nicht an den Pseudocode halten, solange das gewünschte Ergebnis erreicht wird."
   ]
  }
 ],
 "metadata": {
  "kernelspec": {
   "display_name": "Python 3 (ipykernel)",
   "language": "python",
   "name": "python3"
  },
  "language_info": {
   "codemirror_mode": {
    "name": "ipython",
    "version": 3
   },
   "file_extension": ".py",
   "mimetype": "text/x-python",
   "name": "python",
   "nbconvert_exporter": "python",
   "pygments_lexer": "ipython3",
   "version": "3.9.18"
  }
 },
 "nbformat": 4,
 "nbformat_minor": 5
}
