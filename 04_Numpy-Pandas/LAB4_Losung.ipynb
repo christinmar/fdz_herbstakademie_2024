{
 "cells": [
  {
   "cell_type": "markdown",
   "id": "a6f6a2e4",
   "metadata": {},
   "source": [
    "<h1><center> 4. Übung: NumPy und Pandas"
   ]
  },
  {
   "cell_type": "markdown",
   "id": "8039e9b4",
   "metadata": {},
   "source": [
    "<div class=\"alert alert-warning\"><h4> Aufgabe 1: NumPy"
   ]
  },
  {
   "cell_type": "code",
   "execution_count": null,
   "id": "b6d9dc1f",
   "metadata": {},
   "outputs": [],
   "source": [
    "import numpy as np"
   ]
  },
  {
   "cell_type": "markdown",
   "id": "db4a3b91",
   "metadata": {},
   "source": [
    "a) Legen Sie die folgenden NumPy Arrays an:\n",
    "* -15, -14, -13, ..., -2, -1, 0, 1, 2, ..., 13, 14\n",
    "* 6, 7, 8, neun, zehn\n",
    "* True, False, True, False, True, False\n",
    "\n",
    "Speichern Sie den ersten Vektor in Objekt **a** und den zweiten Vektor in Objekt **b** und den Dritten in Objekt **c** ab."
   ]
  },
  {
   "cell_type": "code",
   "execution_count": null,
   "id": "8ca994db",
   "metadata": {},
   "outputs": [],
   "source": [
    "a = np.array(np.arange(-15, 15, 1))\n",
    "print(a)\n",
    "b = np.array([6, 7, 8, \"neun\", \"zehn\"])\n",
    "print(b)\n",
    "c = np.array([True, False, True, False, True, False])\n",
    "print(c)"
   ]
  },
  {
   "cell_type": "markdown",
   "id": "b38ab9cf",
   "metadata": {},
   "source": [
    "b) Erklären Sie was die folgenden Ausrücke ergeben und prüfen Sie Ihr Ergebnis: \n",
    "  * a + b\n",
    "  * b + c\n",
    "  * len(b + c)"
   ]
  },
  {
   "cell_type": "code",
   "execution_count": null,
   "id": "1f38c662",
   "metadata": {},
   "outputs": [],
   "source": [
    "a + b"
   ]
  },
  {
   "cell_type": "code",
   "execution_count": null,
   "id": "f2d51ad8",
   "metadata": {},
   "outputs": [],
   "source": [
    "a + c"
   ]
  },
  {
   "cell_type": "code",
   "execution_count": null,
   "id": "aa7ff437",
   "metadata": {},
   "outputs": [],
   "source": [
    "len(a + c)"
   ]
  },
  {
   "cell_type": "markdown",
   "id": "78fe927e",
   "metadata": {},
   "source": [
    "c) Weisen Sie dem vierten Element von **a** die Zahl 1000 zu.  "
   ]
  },
  {
   "cell_type": "code",
   "execution_count": null,
   "id": "d2d7574a",
   "metadata": {},
   "outputs": [],
   "source": [
    "a[3] = 1000\n",
    "print(a)"
   ]
  },
  {
   "cell_type": "markdown",
   "id": "57e6db26",
   "metadata": {},
   "source": [
    "d) Geben Sie aus dem Vektor **a** jeweils diejenigen Elemente $a_i$ aus, welche folgende Bedingungen erfüllen: \n",
    "* $a_i$ ist kleiner 10\n",
    "* $a_i$ ist eine negative Zahl\n",
    "* $a_i$ ist kleiner als Zehn und größer als -10\n",
    "* $a_i$ ist ein Vielfaches von 3"
   ]
  },
  {
   "cell_type": "code",
   "execution_count": null,
   "id": "7ee2ba6e",
   "metadata": {},
   "outputs": [],
   "source": [
    "a < 10"
   ]
  },
  {
   "cell_type": "code",
   "execution_count": null,
   "id": "32be3670",
   "metadata": {},
   "outputs": [],
   "source": [
    "a[a < 10]"
   ]
  },
  {
   "cell_type": "code",
   "execution_count": null,
   "id": "bead3ed1",
   "metadata": {},
   "outputs": [],
   "source": [
    "a[a < 0]"
   ]
  },
  {
   "cell_type": "code",
   "execution_count": null,
   "id": "83ff5b79",
   "metadata": {},
   "outputs": [],
   "source": [
    "[i for i in a if i < 10 and i > -10]"
   ]
  },
  {
   "cell_type": "code",
   "execution_count": null,
   "id": "002c53ae",
   "metadata": {},
   "outputs": [],
   "source": [
    "a%3"
   ]
  },
  {
   "cell_type": "code",
   "execution_count": null,
   "id": "61863c21",
   "metadata": {},
   "outputs": [],
   "source": [
    "a%3 == 0"
   ]
  },
  {
   "cell_type": "code",
   "execution_count": null,
   "id": "24084c1f",
   "metadata": {},
   "outputs": [],
   "source": [
    "a[a%3 == 0] "
   ]
  },
  {
   "cell_type": "markdown",
   "id": "31210be3",
   "metadata": {},
   "source": [
    "<div class=\"alert alert-warning\"><h4> Aufgabe 2: Pandas"
   ]
  },
  {
   "cell_type": "code",
   "execution_count": null,
   "id": "daca4e57",
   "metadata": {},
   "outputs": [],
   "source": [
    "import pandas as pd"
   ]
  },
  {
   "cell_type": "markdown",
   "id": "7f92c8a1",
   "metadata": {},
   "source": [
    "a) Erstellen Sie das Series-Objekt **d** mit dem Werten (0, 1, 2, 3) und dem Index (w, x, y, z)."
   ]
  },
  {
   "cell_type": "code",
   "execution_count": null,
   "id": "1ea91c0e",
   "metadata": {},
   "outputs": [],
   "source": [
    "d = pd.Series([0,1,2,3], index=[\"w\", \"x\", \"y\", \"z\"])\n",
    "print(d)"
   ]
  },
  {
   "cell_type": "markdown",
   "id": "355ca410",
   "metadata": {},
   "source": [
    "b) Indizieren Sie daraus den Wert 2 mit der dot-Notation, mit einem String-Index, mittels `.loc` und `.iloc`."
   ]
  },
  {
   "cell_type": "code",
   "execution_count": null,
   "id": "98eb81bd",
   "metadata": {},
   "outputs": [],
   "source": [
    "print(d.y)\n",
    "print(d[\"y\"])\n",
    "print(d.loc[\"y\"])\n",
    "print(d.iloc[2])"
   ]
  },
  {
   "cell_type": "markdown",
   "id": "08211e43",
   "metadata": {},
   "source": [
    "c) Erstellen Sie den Dataframe **e**:"
   ]
  },
  {
   "cell_type": "markdown",
   "id": "dccdda58",
   "metadata": {},
   "source": [
    "**Titel** | **Jahr** | **Platz**\n",
    "-----------|---------|-----------\n",
    "Pulp Fiction | 1994 | 1\n",
    "Die Verurteilten | 1994 |5\n",
    "Der Pate | 1972 | 3\n",
    "Fight Club | 1999 | 2\n",
    "The Dark Knight | 2008 | 4"
   ]
  },
  {
   "cell_type": "code",
   "execution_count": null,
   "id": "1c01a270",
   "metadata": {},
   "outputs": [],
   "source": [
    "e = pd.DataFrame({\n",
    "    \"Titel\":[\"Pulp Fiction\", \"Die Verurteilten\", \"Der Pate\", \"Fight Club\", \"The Dark Knight\"], \n",
    "    \"Jahr\": [1994, 1994, 1972, 1999, 2008], \n",
    "    \"Platz\": [1, 5, 3, 2, 4]})\n",
    "e"
   ]
  },
  {
   "cell_type": "markdown",
   "id": "23647d5d",
   "metadata": {},
   "source": [
    "d) Machen Sie sich einen Überblick über **e** indem Sie sich\n",
    "* alle Indizes,\n",
    "* alle Zeilennamen und\n",
    "* die ersten beiden Zeilen\n",
    "\n",
    "ausgeben lassen."
   ]
  },
  {
   "cell_type": "code",
   "execution_count": null,
   "id": "a537146b",
   "metadata": {},
   "outputs": [],
   "source": [
    "print(e.index)\n",
    "print(e.columns)\n",
    "print(e.head(2))"
   ]
  },
  {
   "cell_type": "code",
   "execution_count": null,
   "id": "f1a48961",
   "metadata": {},
   "outputs": [],
   "source": [
    "e.head(2)"
   ]
  },
  {
   "cell_type": "markdown",
   "id": "4190bc35",
   "metadata": {},
   "source": [
    "e) Sortieren Sie **e**  nach ihrem Platz."
   ]
  },
  {
   "cell_type": "code",
   "execution_count": null,
   "id": "16f9afe0",
   "metadata": {},
   "outputs": [],
   "source": [
    "e.sort_values(by=\"Platz\")"
   ]
  },
  {
   "cell_type": "markdown",
   "id": "9dbb610f",
   "metadata": {},
   "source": [
    "f) Greifen Sie auf folgende Elemente von **e** zu: \n",
    "* Spalte Jahr\n",
    "* Informationen zum Film \"Pulp Fiction\"\n",
    "* alle Zeilen mit geradem Index\n",
    "* Titel und Jahr der drei best Platzierten"
   ]
  },
  {
   "cell_type": "code",
   "execution_count": null,
   "id": "7a424cc2",
   "metadata": {},
   "outputs": [],
   "source": [
    "print(e.Jahr)\n",
    "#print(e[\"Jahr\"])\n",
    "#print(e.loc[:, \"Jahr\"])\n",
    "#print(e.iloc[:,1])"
   ]
  },
  {
   "cell_type": "code",
   "execution_count": null,
   "id": "997b5a1b",
   "metadata": {},
   "outputs": [],
   "source": [
    "print(e[0:1])\n",
    "#print(e.iloc[0])\n",
    "#print(e.loc[0])"
   ]
  },
  {
   "cell_type": "code",
   "execution_count": null,
   "id": "badfc697",
   "metadata": {},
   "outputs": [],
   "source": [
    "e[e.index%2 == 0]"
   ]
  },
  {
   "cell_type": "code",
   "execution_count": null,
   "id": "db9a864a",
   "metadata": {},
   "outputs": [],
   "source": [
    "e.loc[e[\"Platz\"] <=3, [\"Titel\", \"Jahr\"]]"
   ]
  },
  {
   "cell_type": "markdown",
   "id": "c8257fba",
   "metadata": {},
   "source": [
    "<div class=\"alert alert-warning\"><h4> Aufgabe 3: Manipulation"
   ]
  },
  {
   "cell_type": "markdown",
   "id": "0dd954b6",
   "metadata": {},
   "source": [
    "a) Importieren Sie den Datensatz `titanic` aus `seaborn` und machen Sie sich einen Überblick über die Daten indem Sie\n",
    "* i) sich die ersten 4 Zeilen ausgeben lassen. \n",
    "* ii) sich die letzten 4 Zeilen ausgeben lassen.\n",
    "* iii) sich die Indizes ausgeben lassen.\n",
    "* iv) sich die Spaltennamen ausgeben lassen.\n",
    "* v) sich eine Tabelle mit wichtigen Lage- und Streuungsmaßen der metrischen Variablen ausgeben lassen.\n",
    "* vi) sich mit den Datentypen vertraut machen."
   ]
  },
  {
   "cell_type": "code",
   "execution_count": null,
   "id": "232c57a6",
   "metadata": {},
   "outputs": [],
   "source": [
    "import seaborn as sns\n",
    "df = sns.load_dataset(\"titanic\")\n",
    "df"
   ]
  },
  {
   "cell_type": "code",
   "execution_count": null,
   "id": "dec90fdc",
   "metadata": {},
   "outputs": [],
   "source": [
    "# i)\n",
    "df.head(4)"
   ]
  },
  {
   "cell_type": "code",
   "execution_count": null,
   "id": "a2f70c42",
   "metadata": {},
   "outputs": [],
   "source": [
    "# ii)\n",
    "df.tail(4)"
   ]
  },
  {
   "cell_type": "code",
   "execution_count": null,
   "id": "7763c36d",
   "metadata": {},
   "outputs": [],
   "source": [
    "# iii)\n",
    "df.index"
   ]
  },
  {
   "cell_type": "code",
   "execution_count": null,
   "id": "07880cff",
   "metadata": {},
   "outputs": [],
   "source": [
    "# iv) \n",
    "df.columns"
   ]
  },
  {
   "cell_type": "code",
   "execution_count": null,
   "id": "4d0df7d1",
   "metadata": {},
   "outputs": [],
   "source": [
    "# v)\n",
    "df.describe()"
   ]
  },
  {
   "cell_type": "code",
   "execution_count": null,
   "id": "56639667",
   "metadata": {},
   "outputs": [],
   "source": [
    "# vi)\n",
    "df.dtypes"
   ]
  },
  {
   "cell_type": "markdown",
   "id": "9b4a5678",
   "metadata": {},
   "source": [
    "b) Sortieren Sie den Datensatz absteigend nach Alter."
   ]
  },
  {
   "cell_type": "code",
   "execution_count": null,
   "id": "25a95c11",
   "metadata": {},
   "outputs": [],
   "source": [
    "df.sort_values(by=\"age\", ascending=False)"
   ]
  },
  {
   "cell_type": "markdown",
   "id": "582e5012",
   "metadata": {},
   "source": [
    "c) Geben Sie einen Teildatensatz aus, der lediglich Passagiere beinhaltet, die überlebt haben."
   ]
  },
  {
   "cell_type": "code",
   "execution_count": null,
   "id": "882c9530",
   "metadata": {},
   "outputs": [],
   "source": [
    "df.loc[df[\"survived\"] == 1]"
   ]
  }
 ],
 "metadata": {
  "kernelspec": {
   "display_name": "Python 3 (ipykernel)",
   "language": "python",
   "name": "python3"
  },
  "language_info": {
   "codemirror_mode": {
    "name": "ipython",
    "version": 3
   },
   "file_extension": ".py",
   "mimetype": "text/x-python",
   "name": "python",
   "nbconvert_exporter": "python",
   "pygments_lexer": "ipython3",
   "version": "3.9.18"
  }
 },
 "nbformat": 4,
 "nbformat_minor": 5
}
