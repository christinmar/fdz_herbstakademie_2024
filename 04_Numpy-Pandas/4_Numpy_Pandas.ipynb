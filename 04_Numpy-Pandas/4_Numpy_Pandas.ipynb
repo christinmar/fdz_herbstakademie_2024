{
 "cells": [
  {
   "cell_type": "markdown",
   "id": "vulnerable-deposit",
   "metadata": {},
   "source": [
    "# 4 NumPy und Pandas"
   ]
  },
  {
   "cell_type": "markdown",
   "id": "varying-number",
   "metadata": {},
   "source": [
    "<div class=\"alert alert-info\"> Oft enthalten eingelesene Daten fehlende oder fehlerhaft Werte oder es wird nur ein Teildatensatz für die Analyse verwendet. Ist dies der Fall, müssen wir wissen, wie wir unsere Daten aufbereiten und manipulieren können. Hierfür setzen wir uns im vierten Kapitel mit den beiden Bibliotheken <strong>NumPy</strong> und <strong>Pandas</strong> auseinander. Das Kapitel 4 ist dabei aufgebaut wie folgt: \n",
    "    <ol>\n",
    "        <li> NumPy </li> \n",
    "            <ol start=\"1.1\">\n",
    "                <li> Erzeugung von Arrays </li>\n",
    "                <li> Indizierung </li>\n",
    "                <li> Arithmetische Operationen </li>\n",
    "            </ol>\n",
    "        <li> Pandas </li>\n",
    "            <ol>\n",
    "                <li> Series </li>\n",
    "                <li> DataFrames </li>\n",
    "                <li> Indizierung </li>\n",
    "                <li> DataFrames und Series manipulieren </li>\n",
    "            </ol>\n",
    "    </ol>\n",
    "Nach dieser Lerneinheit können Sie NumPy Arrays instanziieren und indizieren. Zudem können Sie arithmetische Operationen mithilfe der NumPy Pakets durchführen. Außerdem können Sie sich einen Überblick über einen Datensatz verschaffen und diesen indizieren. Sie können unterschiedliche Strategien der Indizierung benennen und diese gegenüberstellen.</div>"
   ]
  },
  {
   "cell_type": "markdown",
   "id": "social-handling",
   "metadata": {
    "slideshow": {
     "slide_type": "slide"
    }
   },
   "source": [
    "## 4.1 NumPy"
   ]
  },
  {
   "cell_type": "markdown",
   "id": "exempt-canon",
   "metadata": {
    "slideshow": {
     "slide_type": "skip"
    }
   },
   "source": [
    "Numerical Python (`NumPy`) ist eine Standardbibliothek für mathematische und numerische Funktionen in Python. Mittels `NumPy` lassen sich u. a. effiziente multidimensionale Arrays erstellen, schnelle Rechenoperationen (ohne das Nutzen von Schleifen) durchführen und Zufallszahlen generieren."
   ]
  },
  {
   "cell_type": "code",
   "execution_count": null,
   "id": "equivalent-novelty",
   "metadata": {
    "slideshow": {
     "slide_type": "fragment"
    }
   },
   "outputs": [],
   "source": [
    "import numpy as np # Konvention"
   ]
  },
  {
   "cell_type": "markdown",
   "id": "f6bc6fd9",
   "metadata": {
    "slideshow": {
     "slide_type": "subslide"
    }
   },
   "source": [
    "### 4.1.1 Erzeugung von Arrays"
   ]
  },
  {
   "cell_type": "markdown",
   "id": "analyzed-story",
   "metadata": {
    "slideshow": {
     "slide_type": "skip"
    }
   },
   "source": [
    "`NumPy` erweitert Python um weitere Datenstrukturen wie das `NumPy` Array. Dieses wirkt auf den ersten Blick wie eine Liste, jedoch lassen sich in ein `NumPy` Array nur Daten desselben Datentyps speichern. "
   ]
  },
  {
   "cell_type": "code",
   "execution_count": null,
   "id": "right-belize",
   "metadata": {
    "slideshow": {
     "slide_type": "fragment"
    }
   },
   "outputs": [],
   "source": [
    "x = np.array([1, 2, 3, 4, 5, 6])\n",
    "print(x, type(x))\n",
    "print(x.dtype) # Integers"
   ]
  },
  {
   "cell_type": "markdown",
   "id": "dfb3cd8e",
   "metadata": {
    "slideshow": {
     "slide_type": "skip"
    }
   },
   "source": [
    "`dtype` gibt uns den Datentyp (z. B. integer, float) aus und die Größe der Daten (z. B. Anzahl an bytes)."
   ]
  },
  {
   "cell_type": "code",
   "execution_count": null,
   "id": "threatened-elimination",
   "metadata": {
    "slideshow": {
     "slide_type": "fragment"
    }
   },
   "outputs": [],
   "source": [
    "list1 = [1, 2, 3, 4, 5, 6]\n",
    "print(list1, type(list1))"
   ]
  },
  {
   "cell_type": "code",
   "execution_count": null,
   "id": "dental-victoria",
   "metadata": {
    "slideshow": {
     "slide_type": "subslide"
    }
   },
   "outputs": [],
   "source": [
    "y = np.array([1, 2, 3, \"a\", \"b\"])\n",
    "print(y, type(y))\n",
    "print(y.dtype) # U = unicode string"
   ]
  },
  {
   "cell_type": "code",
   "execution_count": null,
   "id": "f44585f1",
   "metadata": {
    "slideshow": {
     "slide_type": "fragment"
    }
   },
   "outputs": [],
   "source": [
    "# Wichtige Eigenschaften eines Arrays\n",
    "print(x.ndim) # Dimensionen; hier: 1-dimensional\n",
    "print(x.shape) # Gestalt; hier: 6x1\n",
    "print(x.size) # Anzahl der Elemente"
   ]
  },
  {
   "cell_type": "markdown",
   "id": "6568a3b8",
   "metadata": {
    "slideshow": {
     "slide_type": "subslide"
    }
   },
   "source": [
    "**arange()-Funktion**<br>\n",
    "Analog zur bereits bekannten range-Funktion, die jedoch direkt ein NumPy Array erzeugt."
   ]
  },
  {
   "cell_type": "code",
   "execution_count": null,
   "id": "5a846405",
   "metadata": {
    "slideshow": {
     "slide_type": "fragment"
    }
   },
   "outputs": [],
   "source": [
    "np.arange(1, 14)"
   ]
  },
  {
   "cell_type": "code",
   "execution_count": null,
   "id": "0d7cb67d",
   "metadata": {
    "slideshow": {
     "slide_type": "fragment"
    }
   },
   "outputs": [],
   "source": [
    "np.arange(1, 14, 2)"
   ]
  },
  {
   "cell_type": "markdown",
   "id": "32c45e18",
   "metadata": {
    "slideshow": {
     "slide_type": "subslide"
    }
   },
   "source": [
    "### 4.1.2 Indizierung"
   ]
  },
  {
   "cell_type": "code",
   "execution_count": null,
   "id": "e5f931d2",
   "metadata": {},
   "outputs": [],
   "source": [
    "x"
   ]
  },
  {
   "cell_type": "code",
   "execution_count": null,
   "id": "249ca6be",
   "metadata": {
    "slideshow": {
     "slide_type": "fragment"
    }
   },
   "outputs": [],
   "source": [
    "print(x[0]) # Indizierung wie bei Liste\n",
    "print(x[0:4]) #n:m:k Syntax --> Startindex n ist enthalten, Endindex m nicht und k ist mögliche Schrittweite. "
   ]
  },
  {
   "cell_type": "code",
   "execution_count": null,
   "id": "excess-display",
   "metadata": {
    "slideshow": {
     "slide_type": "fragment"
    }
   },
   "outputs": [],
   "source": [
    "list2 = [2, 3]\n",
    "print(x[list2]) # Indizierung eines Arrays oder einer Liste aus dem np.array möglich"
   ]
  },
  {
   "cell_type": "code",
   "execution_count": null,
   "id": "fleet-egyptian",
   "metadata": {
    "slideshow": {
     "slide_type": "fragment"
    }
   },
   "outputs": [],
   "source": [
    "list3 = [True, False, False, False, False, True]\n",
    "print(x[list3]) # auch Booleans können indiziert werden"
   ]
  },
  {
   "cell_type": "markdown",
   "id": "medium-anatomy",
   "metadata": {
    "slideshow": {
     "slide_type": "skip"
    }
   },
   "source": [
    "Indizierung von Array B:"
   ]
  },
  {
   "cell_type": "code",
   "execution_count": null,
   "id": "74b19a00",
   "metadata": {
    "slideshow": {
     "slide_type": "subslide"
    }
   },
   "outputs": [],
   "source": [
    "b"
   ]
  },
  {
   "cell_type": "markdown",
   "id": "micro-python",
   "metadata": {
    "slideshow": {
     "slide_type": "fragment"
    }
   },
   "source": [
    "|         | j = 0   | j = 1   | j = 2   |\n",
    "|---------|---------|---------|---------|\n",
    "|**i = 0**| B[0, 0] | B[0, 1] | B[0, 2] |\n",
    "|**i = 1**| B[1, 0] | B[1, 1] | B[1, 2] |\n",
    "|**i = 2**| B[2, 0] | B[2, 1] | B[2, 2] |"
   ]
  },
  {
   "cell_type": "markdown",
   "id": "funny-mississippi",
   "metadata": {
    "slideshow": {
     "slide_type": "skip"
    }
   },
   "source": [
    "<div class=\"alert alert-danger\"><strong>Achtung:</strong> Objekt[Zeile, Spalte]</div>"
   ]
  },
  {
   "cell_type": "code",
   "execution_count": null,
   "id": "precious-charity",
   "metadata": {
    "slideshow": {
     "slide_type": "fragment"
    }
   },
   "outputs": [],
   "source": [
    "print(b[1, 2]) # zweite Zeile, dritte Spalte\n",
    "print(b[1][2]) # Alternativ"
   ]
  },
  {
   "cell_type": "markdown",
   "id": "9508e590",
   "metadata": {
    "slideshow": {
     "slide_type": "subslide"
    }
   },
   "source": [
    "### 4.1.3 Arithmetische Operationen "
   ]
  },
  {
   "cell_type": "markdown",
   "id": "0180eaf3",
   "metadata": {
    "slideshow": {
     "slide_type": "skip"
    }
   },
   "source": [
    "Im Folgenden sehen wir uns arithmetische Operationen."
   ]
  },
  {
   "cell_type": "code",
   "execution_count": null,
   "id": "2660bacb",
   "metadata": {},
   "outputs": [],
   "source": [
    "a"
   ]
  },
  {
   "cell_type": "code",
   "execution_count": null,
   "id": "southwest-determination",
   "metadata": {
    "slideshow": {
     "slide_type": "fragment"
    }
   },
   "outputs": [],
   "source": [
    "print(a + 3) # Rechnung möglich"
   ]
  },
  {
   "cell_type": "code",
   "execution_count": null,
   "id": "usual-delay",
   "metadata": {
    "slideshow": {
     "slide_type": "subslide"
    }
   },
   "outputs": [],
   "source": [
    "# Außerdem\n",
    "print(x)\n",
    "print(\"----------------------------------------\")\n",
    "print(x > 4)\n",
    "print((x > 4).sum()) # True = 1, False = 0\n",
    "print((x > 4).sum()/len(x)) # relativ\n",
    "print(x[x > 4]) # alle Werte größer 4 werden indiziert"
   ]
  },
  {
   "cell_type": "code",
   "execution_count": null,
   "id": "deb96ee6",
   "metadata": {},
   "outputs": [],
   "source": [
    "print(a)\n",
    "b"
   ]
  },
  {
   "cell_type": "code",
   "execution_count": null,
   "id": "amino-freeware",
   "metadata": {
    "slideshow": {
     "slide_type": "subslide"
    }
   },
   "outputs": [],
   "source": [
    "a + b # Elementweise"
   ]
  },
  {
   "cell_type": "code",
   "execution_count": null,
   "id": "cf699173",
   "metadata": {},
   "outputs": [],
   "source": [
    "round # Shift + Tab"
   ]
  },
  {
   "cell_type": "markdown",
   "id": "4360cfe3",
   "metadata": {},
   "source": [
    "<div class=\"alert alert-warning\"><h4> Aufgabe 1: NumPy"
   ]
  },
  {
   "cell_type": "markdown",
   "id": "26301cce",
   "metadata": {},
   "source": [
    "a) Legen Sie die folgenden NumPy Arrays an:\n",
    "* -15, -14, -13, ..., -2, -1, 0, 1, 2, ..., 13, 14\n",
    "* 6, 7, 8, neun, zehn\n",
    "* True, False, True, False, True, False\n",
    "\n",
    "Speichern Sie den ersten Vektor in Objekt **a** und den zweiten Vektor in Objekt **b** und den Dritten in Objekt **c** ab."
   ]
  },
  {
   "cell_type": "markdown",
   "id": "cf8621ba",
   "metadata": {},
   "source": [
    "b) Erklären Sie was die folgenden Ausdrücke ergeben und prüfen Sie Ihr Ergebnis: \n",
    "  * a + b\n",
    "  * b + c\n",
    "  * len(b + c)"
   ]
  },
  {
   "cell_type": "markdown",
   "id": "bdb77806",
   "metadata": {},
   "source": [
    "c) Weisen Sie dem vierten Element von **a** die Zahl 1000 zu."
   ]
  },
  {
   "cell_type": "markdown",
   "id": "909974e3",
   "metadata": {},
   "source": [
    "#### Zusatzaufgabe\n",
    "d) Geben Sie aus dem Vektor **a** jeweils diejenigen Elemente $a_i$ aus, welche folgende Bedingungen erfüllen: \n",
    "* $a_i$ ist kleiner 10\n",
    "* $a_i$ ist eine negative Zahl\n",
    "* $a_i$ ist kleiner als Zehn und größer als -10\n",
    "* $a_i$ ist ein Vielfaches von 3"
   ]
  },
  {
   "cell_type": "markdown",
   "id": "liberal-movie",
   "metadata": {
    "slideshow": {
     "slide_type": "slide"
    }
   },
   "source": [
    "## 4.2 Pandas"
   ]
  },
  {
   "cell_type": "markdown",
   "id": "explicit-bennett",
   "metadata": {
    "slideshow": {
     "slide_type": "skip"
    }
   },
   "source": [
    "Pandas (Akronym für Python and data analysis) stellt weitere Funktionen und Datenstrukturen für die Datenanalyse zur Verfügung. Die beiden wichtigsten Datenstrukturen heißen `DataFrame` und `Series`. Das erste bezeichnet eine Datentabelle, das zweite eine Spalte einer Datentabelle (d. h. ein `DataFrame` besteht auf `Series`). "
   ]
  },
  {
   "cell_type": "code",
   "execution_count": null,
   "id": "comfortable-white",
   "metadata": {
    "slideshow": {
     "slide_type": "fragment"
    }
   },
   "outputs": [],
   "source": [
    "import pandas as pd"
   ]
  },
  {
   "cell_type": "markdown",
   "id": "hollow-freeware",
   "metadata": {
    "slideshow": {
     "slide_type": "subslide"
    }
   },
   "source": [
    "### 4.2.1 Series"
   ]
  },
  {
   "cell_type": "markdown",
   "id": "unavailable-functionality",
   "metadata": {
    "slideshow": {
     "slide_type": "skip"
    }
   },
   "source": [
    "`Series`-Objekte enthalten neben den Werten einen zusätzlichen Index. In der Default-Einstellung ist dieser numerisch und beginnt bei 0. Er kann jedoch auch angepasst werden."
   ]
  },
  {
   "cell_type": "code",
   "execution_count": null,
   "id": "tutorial-terminology",
   "metadata": {
    "slideshow": {
     "slide_type": "fragment"
    }
   },
   "outputs": [],
   "source": [
    "a = pd.Series([15, 16, 17, 18])\n",
    "print(a)"
   ]
  },
  {
   "cell_type": "code",
   "execution_count": null,
   "id": "heavy-dance",
   "metadata": {
    "slideshow": {
     "slide_type": "fragment"
    }
   },
   "outputs": [],
   "source": [
    "print(a.index) # Index\n",
    "print(a.values) # Werte"
   ]
  },
  {
   "cell_type": "code",
   "execution_count": null,
   "id": "liable-tracy",
   "metadata": {
    "slideshow": {
     "slide_type": "subslide"
    }
   },
   "outputs": [],
   "source": [
    "b = pd.Series([15, 16, 17, 18], index=[\"a\", \"b\", \"c\", \"d\"])\n",
    "b"
   ]
  },
  {
   "cell_type": "code",
   "execution_count": null,
   "id": "interior-mailman",
   "metadata": {
    "slideshow": {
     "slide_type": "fragment"
    }
   },
   "outputs": [],
   "source": [
    "print(b[\"c\"]) # Indizierung mit String-Index möglich\n",
    "print(b.c) # Alternativ dot-Notation"
   ]
  },
  {
   "cell_type": "code",
   "execution_count": null,
   "id": "obvious-mistress",
   "metadata": {
    "slideshow": {
     "slide_type": "subslide"
    }
   },
   "outputs": [],
   "source": [
    "# Vergleich Dictionary\n",
    "c = {\"a\": 15, \"b\": 16, \"c\": 17, \"d\":18}\n",
    "c[\"c\"]"
   ]
  },
  {
   "cell_type": "code",
   "execution_count": null,
   "id": "academic-clothing",
   "metadata": {
    "slideshow": {
     "slide_type": "subslide"
    }
   },
   "outputs": [],
   "source": [
    "# Index doppelt\n",
    "d = pd.Series(range(5), index=[\"a\", \"b\", \"c\", \"d\", \"d\"])\n",
    "print(d)"
   ]
  },
  {
   "cell_type": "code",
   "execution_count": null,
   "id": "reduced-denver",
   "metadata": {
    "slideshow": {
     "slide_type": "fragment"
    }
   },
   "outputs": [],
   "source": [
    "print(d.d)"
   ]
  },
  {
   "cell_type": "markdown",
   "id": "skilled-columbus",
   "metadata": {
    "slideshow": {
     "slide_type": "subslide"
    }
   },
   "source": [
    "### 4.2.2 DataFrames"
   ]
  },
  {
   "cell_type": "markdown",
   "id": "approved-track",
   "metadata": {
    "slideshow": {
     "slide_type": "skip"
    }
   },
   "source": [
    "Ein DataFrame enthält mehrere Series-Objekte und stellt das \"Standardobjekt\" bei der Analyse von multidimensionalen Daten dar. Für gewöhnlich enthalten die Spalten unterschiedliche Datentypen (unsere *Variablen*) und die Zeilen die dazugehörigen Werte (unsere *Beobachtungen*)."
   ]
  },
  {
   "cell_type": "code",
   "execution_count": null,
   "id": "pleasant-wiring",
   "metadata": {
    "slideshow": {
     "slide_type": "fragment"
    }
   },
   "outputs": [],
   "source": [
    "a = [21, 22, 23, 24]\n",
    "b = [1000, 2000, 1500, 1700]\n",
    "Tabelle1 = pd.DataFrame({\"a\":a, \"b\":b}) # key wird zum Spaltenname\n",
    "Tabelle1"
   ]
  },
  {
   "cell_type": "code",
   "execution_count": null,
   "id": "tender-bulletin",
   "metadata": {
    "slideshow": {
     "slide_type": "subslide"
    }
   },
   "outputs": [],
   "source": [
    "# Index kann angepasst werden\n",
    "Tabelle2 = pd.DataFrame({\n",
    "    \"Alter\":a, \n",
    "    \"Einkommen\":b, \n",
    "    \"Fakultät\": \"Wirtschaftswissenschaften\", \n",
    "    \"Studium\": pd.Categorical([\"A\", \"A\", \"B\", \"B\"])}, \n",
    "    index=(\"Person1\", \"Person2\", \"Person3\", \"Person4\"))\n",
    "Tabelle2"
   ]
  },
  {
   "cell_type": "markdown",
   "id": "encouraging-xerox",
   "metadata": {
    "slideshow": {
     "slide_type": "subslide"
    }
   },
   "source": [
    "**Überblick verschaffen**"
   ]
  },
  {
   "cell_type": "code",
   "execution_count": null,
   "id": "applicable-program",
   "metadata": {
    "slideshow": {
     "slide_type": "fragment"
    }
   },
   "outputs": [],
   "source": [
    "Tabelle2.head(2)"
   ]
  },
  {
   "cell_type": "code",
   "execution_count": null,
   "id": "sophisticated-antibody",
   "metadata": {
    "slideshow": {
     "slide_type": "fragment"
    }
   },
   "outputs": [],
   "source": [
    "Tabelle2.tail(2)"
   ]
  },
  {
   "cell_type": "code",
   "execution_count": null,
   "id": "obvious-pregnancy",
   "metadata": {
    "slideshow": {
     "slide_type": "subslide"
    }
   },
   "outputs": [],
   "source": [
    "Tabelle2.index"
   ]
  },
  {
   "cell_type": "code",
   "execution_count": null,
   "id": "personalized-screw",
   "metadata": {
    "slideshow": {
     "slide_type": "fragment"
    }
   },
   "outputs": [],
   "source": [
    "Tabelle2.columns"
   ]
  },
  {
   "cell_type": "code",
   "execution_count": null,
   "id": "interested-rally",
   "metadata": {
    "slideshow": {
     "slide_type": "fragment"
    }
   },
   "outputs": [],
   "source": [
    "Tabelle2.describe() # nur numerische Spalten"
   ]
  },
  {
   "cell_type": "code",
   "execution_count": null,
   "id": "432a0c60",
   "metadata": {
    "slideshow": {
     "slide_type": "subslide"
    }
   },
   "outputs": [],
   "source": [
    "Tabelle2.describe(include = \"all\")"
   ]
  },
  {
   "cell_type": "code",
   "execution_count": null,
   "id": "595f9cc7",
   "metadata": {
    "slideshow": {
     "slide_type": "subslide"
    }
   },
   "outputs": [],
   "source": [
    "Tabelle2.dtypes"
   ]
  },
  {
   "cell_type": "markdown",
   "id": "olive-collar",
   "metadata": {
    "slideshow": {
     "slide_type": "subslide"
    }
   },
   "source": [
    "### 4.2.3 Indizierung"
   ]
  },
  {
   "cell_type": "markdown",
   "id": "8c03f29f",
   "metadata": {
    "slideshow": {
     "slide_type": "skip"
    }
   },
   "source": [
    "Pandas untersützt unterschiedliche Arten der Indizierung: "
   ]
  },
  {
   "cell_type": "markdown",
   "id": "74b8b4ea",
   "metadata": {
    "slideshow": {
     "slide_type": "skip"
    }
   },
   "source": [
    "a) **`[]`**: Indizierung über numpy-Standardnotation mithilfe des Index-Operators `[]`"
   ]
  },
  {
   "cell_type": "markdown",
   "id": "52877a71",
   "metadata": {
    "slideshow": {
     "slide_type": "skip"
    }
   },
   "source": [
    "b) **`.`**: Attribute-Access-Operator"
   ]
  },
  {
   "cell_type": "markdown",
   "id": "8f86e17b",
   "metadata": {
    "slideshow": {
     "slide_type": "skip"
    }
   },
   "source": [
    "c) **`.loc`**: In erster Linie Label-basiert, kann aber auch mit einem booleschen Array verwendet werden."
   ]
  },
  {
   "cell_type": "markdown",
   "id": "720ee856",
   "metadata": {
    "slideshow": {
     "slide_type": "skip"
    }
   },
   "source": [
    "d) **`.iloc`**: basiert hauptsächlich auf Integer-Positionen, kann aber auch mit einem booleschen Array verwendet werden. "
   ]
  },
  {
   "cell_type": "markdown",
   "id": "f71329b1",
   "metadata": {
    "slideshow": {
     "slide_type": "skip"
    }
   },
   "source": [
    "e) **`.at`**: Indizierung einzelner Werte"
   ]
  },
  {
   "cell_type": "markdown",
   "id": "74894d19",
   "metadata": {
    "slideshow": {
     "slide_type": "skip"
    }
   },
   "source": [
    "* Wichtig: Zuweisungen sollten mithilfe der numpy-Indizierung vermieden werden. Besser: `.loc` oder `.iloc`\n",
    "* Indizierung von Spalten über Label\n",
    "* Indizierung von Zeilen über Slicing\n",
    "* Indizierung einer Spalte returniert Series\n",
    "* Indizierung einer Liste returniert DataFrame"
   ]
  },
  {
   "cell_type": "markdown",
   "id": "141cb26f",
   "metadata": {
    "slideshow": {
     "slide_type": "subslide"
    }
   },
   "source": [
    "**a) Numpy-Indizierung**"
   ]
  },
  {
   "cell_type": "code",
   "execution_count": null,
   "id": "a9dce7a6",
   "metadata": {},
   "outputs": [],
   "source": [
    "Tabelle2"
   ]
  },
  {
   "cell_type": "code",
   "execution_count": null,
   "id": "fiscal-yesterday",
   "metadata": {
    "slideshow": {
     "slide_type": "fragment"
    }
   },
   "outputs": [],
   "source": [
    "Tabelle2[0:1] # Indizierung einer Zeile --> Intervall rechtsoffen"
   ]
  },
  {
   "cell_type": "code",
   "execution_count": null,
   "id": "46e366f8",
   "metadata": {
    "slideshow": {
     "slide_type": "fragment"
    }
   },
   "outputs": [],
   "source": [
    "Tabelle2[0] # Fehlermeldung"
   ]
  },
  {
   "cell_type": "code",
   "execution_count": null,
   "id": "studied-indianapolis",
   "metadata": {
    "slideshow": {
     "slide_type": "subslide"
    }
   },
   "outputs": [],
   "source": [
    "Tabelle2[2:4] "
   ]
  },
  {
   "cell_type": "code",
   "execution_count": null,
   "id": "enhanced-christian",
   "metadata": {
    "slideshow": {
     "slide_type": "subslide"
    }
   },
   "outputs": [],
   "source": [
    "Tabelle2[\"Alter\"] # Indizierung einer Spalte. Rückgabe: Series"
   ]
  },
  {
   "cell_type": "code",
   "execution_count": null,
   "id": "a33cc092",
   "metadata": {
    "slideshow": {
     "slide_type": "subslide"
    }
   },
   "outputs": [],
   "source": [
    "Tabelle2[[\"Alter\", \"Einkommen\"]] # Rückgabe: DataFrame"
   ]
  },
  {
   "cell_type": "markdown",
   "id": "funky-means",
   "metadata": {
    "slideshow": {
     "slide_type": "subslide"
    }
   },
   "source": [
    "Indizierung mittels Boolean:"
   ]
  },
  {
   "cell_type": "code",
   "execution_count": null,
   "id": "e96ae06b",
   "metadata": {
    "slideshow": {
     "slide_type": "fragment"
    }
   },
   "outputs": [],
   "source": [
    "Tabelle2[[True, False, True, False]]"
   ]
  },
  {
   "cell_type": "code",
   "execution_count": null,
   "id": "bc245655",
   "metadata": {},
   "outputs": [],
   "source": [
    "Tabelle2[\"Studium\"] == \"A\""
   ]
  },
  {
   "cell_type": "code",
   "execution_count": null,
   "id": "active-interference",
   "metadata": {
    "slideshow": {
     "slide_type": "fragment"
    }
   },
   "outputs": [],
   "source": [
    "Tabelle2[Tabelle2[\"Studium\"] == \"A\"]"
   ]
  },
  {
   "cell_type": "markdown",
   "id": "bc6f6241",
   "metadata": {
    "slideshow": {
     "slide_type": "subslide"
    }
   },
   "source": [
    "**b) `.`**"
   ]
  },
  {
   "cell_type": "markdown",
   "id": "9d80d7ea",
   "metadata": {
    "slideshow": {
     "slide_type": "skip"
    }
   },
   "source": [
    "Spalten können mit `df.ColumnName` abgerufen werden:"
   ]
  },
  {
   "cell_type": "code",
   "execution_count": null,
   "id": "3c25f526",
   "metadata": {
    "slideshow": {
     "slide_type": "fragment"
    }
   },
   "outputs": [],
   "source": [
    "Tabelle2.Alter # Rückgabewert: Series"
   ]
  },
  {
   "cell_type": "markdown",
   "id": "1ea0cb34",
   "metadata": {
    "slideshow": {
     "slide_type": "subslide"
    }
   },
   "source": [
    "**c) `.loc`**"
   ]
  },
  {
   "cell_type": "markdown",
   "id": "37fca904",
   "metadata": {
    "slideshow": {
     "slide_type": "skip"
    }
   },
   "source": [
    "Indizierung mittels `loc` über Namen der Zeilen oder Spalten: \n",
    " * Einzelnen Label, z. B. `a`.\n",
    " * Einzelne Listen oder Arrays mit Bezeichnungen, z. B. `[\"a\", \"b\", \"c\"]`.\n",
    " * *Slice*-Objekte mit Bezeichnungen, z. B. `\"a\":\"f\"`. Achtung: Es handelt sich hier um ein abgeschlossenes Intervall.\n",
    " * Arrays mit Booleans "
   ]
  },
  {
   "cell_type": "code",
   "execution_count": null,
   "id": "skilled-beijing",
   "metadata": {
    "slideshow": {
     "slide_type": "subslide"
    }
   },
   "outputs": [],
   "source": [
    "Tabelle2.loc[\"Person1\":\"Person3\"] # alle Zeilen inkl. Person 3 --> abgeschlossenes Intervall"
   ]
  },
  {
   "cell_type": "code",
   "execution_count": null,
   "id": "b9779504",
   "metadata": {
    "slideshow": {
     "slide_type": "fragment"
    }
   },
   "outputs": [],
   "source": [
    "Tabelle2.loc[:, \"Alter\"] # Indizierung über Spalten"
   ]
  },
  {
   "cell_type": "code",
   "execution_count": null,
   "id": "complex-apparatus",
   "metadata": {
    "slideshow": {
     "slide_type": "subslide"
    }
   },
   "outputs": [],
   "source": [
    "Tabelle2.loc[\"Person1\":\"Person3\", [\"Alter\", \"Fakultät\"]]"
   ]
  },
  {
   "cell_type": "markdown",
   "id": "cosmetic-likelihood",
   "metadata": {
    "slideshow": {
     "slide_type": "subslide"
    }
   },
   "source": [
    "**d) `.iloc`**"
   ]
  },
  {
   "cell_type": "markdown",
   "id": "2ff5b5bd",
   "metadata": {
    "slideshow": {
     "slide_type": "skip"
    }
   },
   "source": [
    "Indizierung mittels `iloc` über Integer-Indizes der Zeilen und Spalten. Erlaubte Eingaben sind:\n",
    "* Ganze Zahlen, z. B. `5`\n",
    "* Listen oder Arrays mit ganzen Zahlen, z. B. `[4, 3, 0]`\n",
    "* *Slice*-Objekte mit ganzen Zahlen, z. B. `1:7` \n",
    "* Arrays mit Booleans"
   ]
  },
  {
   "cell_type": "code",
   "execution_count": null,
   "id": "suspected-jason",
   "metadata": {
    "slideshow": {
     "slide_type": "fragment"
    }
   },
   "outputs": [],
   "source": [
    "Tabelle2.iloc[3] # Zeilenindizierung. Rückgabeobjekt: Series"
   ]
  },
  {
   "cell_type": "code",
   "execution_count": null,
   "id": "9b29dd91",
   "metadata": {
    "slideshow": {
     "slide_type": "fragment"
    }
   },
   "outputs": [],
   "source": [
    "Tabelle2.iloc[[3]] # Rückgabeobjekt: DataFrame"
   ]
  },
  {
   "cell_type": "code",
   "execution_count": null,
   "id": "d8e69e64",
   "metadata": {
    "slideshow": {
     "slide_type": "subslide"
    }
   },
   "outputs": [],
   "source": [
    "Tabelle2.iloc[0:2] # Intervall rechtsoffen"
   ]
  },
  {
   "cell_type": "code",
   "execution_count": null,
   "id": "blond-strength",
   "metadata": {
    "slideshow": {
     "slide_type": "fragment"
    }
   },
   "outputs": [],
   "source": [
    "Tabelle2.iloc[3,1]"
   ]
  },
  {
   "cell_type": "markdown",
   "id": "ef0526c5",
   "metadata": {
    "slideshow": {
     "slide_type": "subslide"
    }
   },
   "source": [
    "**e) `.at`**"
   ]
  },
  {
   "cell_type": "markdown",
   "id": "f37b603e",
   "metadata": {
    "slideshow": {
     "slide_type": "skip"
    }
   },
   "source": [
    "Einzelne Werte können auch mithilfe von `.at` abgerufen werden (labelbasiert):"
   ]
  },
  {
   "cell_type": "code",
   "execution_count": null,
   "id": "ba69d7cf",
   "metadata": {
    "slideshow": {
     "slide_type": "fragment"
    }
   },
   "outputs": [],
   "source": [
    "Tabelle2.at[\"Person2\", \"Einkommen\"]"
   ]
  },
  {
   "cell_type": "markdown",
   "id": "b50dd992",
   "metadata": {},
   "source": [
    "<div class=\"alert alert-warning\"><h4> Aufgabe 2: Pandas"
   ]
  },
  {
   "cell_type": "markdown",
   "id": "7bd398cc",
   "metadata": {},
   "source": [
    "a) Erstellen Sie das Series-Objekt **d** mit dem Werten (0, 1, 2, 3) und dem Index (w, x, y, z)."
   ]
  },
  {
   "cell_type": "markdown",
   "id": "c196fa74",
   "metadata": {},
   "source": [
    "b) Indizieren Sie daraus den Wert 2 mit der dot-Notation, mit einem String-Index, mittels `.loc` und `.iloc`."
   ]
  },
  {
   "cell_type": "markdown",
   "id": "33bbc790",
   "metadata": {},
   "source": [
    "c) Erstellen Sie den Dataframe **e**:"
   ]
  },
  {
   "cell_type": "markdown",
   "id": "0ca8e9e7",
   "metadata": {},
   "source": [
    "**Titel** | **Jahr** | **Platz**\n",
    "-----------|---------|-----------\n",
    "Pulp Fiction | 1994 | 1\n",
    "Die Verurteilten | 1994 |5\n",
    "Der Pate | 1972 | 3\n",
    "Fight Club | 1999 | 2\n",
    "The Dark Knight | 2008 | 4"
   ]
  },
  {
   "cell_type": "markdown",
   "id": "e348ed76",
   "metadata": {},
   "source": [
    "d) Machen Sie sich einen Überblick über **e** indem Sie sich\n",
    "* alle Indizes,\n",
    "* alle Zeilennamen und\n",
    "* die ersten beiden Zeilen\n",
    "\n",
    "ausgeben lassen."
   ]
  },
  {
   "cell_type": "markdown",
   "id": "94a2ec4c",
   "metadata": {},
   "source": [
    "#### Zusatzaufgaben\n",
    "e) Sortieren Sie **e**  nach ihrem Platz. \\\n",
    "f) Greifen Sie auf folgende Elemente von **e** zu: \n",
    "* Spalte Jahr\n",
    "* Informationen zum Film \"Pulp Fiction\"\n",
    "* alle Zeilen mit geradem Index\n",
    "* Titel und Jahr der drei best Platzierten"
   ]
  },
  {
   "cell_type": "markdown",
   "id": "5418496d",
   "metadata": {
    "slideshow": {
     "slide_type": "subslide"
    }
   },
   "source": [
    "### 4.2.4 DataFrames und Series manipulieren"
   ]
  },
  {
   "cell_type": "markdown",
   "id": "attended-snake",
   "metadata": {
    "slideshow": {
     "slide_type": "skip"
    }
   },
   "source": [
    "**Apply**: Iteration über Series-Objekt möglich."
   ]
  },
  {
   "cell_type": "code",
   "execution_count": null,
   "id": "ad137e3b",
   "metadata": {
    "slideshow": {
     "slide_type": "fragment"
    }
   },
   "outputs": [],
   "source": [
    "Tabelle2.loc[:,\"Einkommen\"].apply(lambda i: i*2)"
   ]
  },
  {
   "cell_type": "code",
   "execution_count": null,
   "id": "aa3ac5c0",
   "metadata": {
    "slideshow": {
     "slide_type": "fragment"
    }
   },
   "outputs": [],
   "source": [
    "Tabelle2.loc[\"Person1\",:].apply(lambda i: i*2)"
   ]
  },
  {
   "cell_type": "markdown",
   "id": "75c442bf",
   "metadata": {
    "slideshow": {
     "slide_type": "subslide"
    }
   },
   "source": [
    "**Daten sortieren**"
   ]
  },
  {
   "cell_type": "code",
   "execution_count": null,
   "id": "rapid-shield",
   "metadata": {
    "slideshow": {
     "slide_type": "fragment"
    }
   },
   "outputs": [],
   "source": [
    "Tabelle2.sort_values(by=\"Einkommen\")"
   ]
  },
  {
   "cell_type": "code",
   "execution_count": null,
   "id": "4d698804",
   "metadata": {
    "slideshow": {
     "slide_type": "subslide"
    }
   },
   "outputs": [],
   "source": [
    "Tabelle2.sort_values(by=\"Einkommen\", ascending=False)"
   ]
  },
  {
   "cell_type": "markdown",
   "id": "dce0f0de",
   "metadata": {
    "slideshow": {
     "slide_type": "subslide"
    }
   },
   "source": [
    "**Zeilen/Spalten hinzufügen/löschen**"
   ]
  },
  {
   "cell_type": "code",
   "execution_count": null,
   "id": "automatic-growth",
   "metadata": {
    "slideshow": {
     "slide_type": "fragment"
    }
   },
   "outputs": [],
   "source": [
    "Tabelle2.at[:, \"NeueSpalte\"] = np.array([3]*len(Tabelle2)) # Spalte hinzufügen\n",
    "Tabelle2"
   ]
  },
  {
   "cell_type": "code",
   "execution_count": null,
   "id": "6cd16dcc",
   "metadata": {
    "slideshow": {
     "slide_type": "subslide"
    }
   },
   "outputs": [],
   "source": [
    "Tabelle2.drop(\"NeueSpalte\", axis=1) # Spalte löschen\n",
    "# axis=0 Zeile löschen"
   ]
  },
  {
   "cell_type": "markdown",
   "id": "5a408230",
   "metadata": {},
   "source": [
    "<div class=\"alert alert-warning\"><h4> Aufgabe 3: Manipulation"
   ]
  },
  {
   "cell_type": "markdown",
   "id": "fad8ad82",
   "metadata": {},
   "source": [
    "a) Importieren Sie den Datensatz `titanic` aus `seaborn` und machen Sie sich einen Überblick über die Daten indem Sie\n",
    "* i) sich die ersten 4 Zeilen ausgeben lassen. \n",
    "* ii) sich die letzten 4 Zeilen ausgeben lassen.\n",
    "* iii) sich die Indizes ausgeben lassen.\n",
    "* iv) sich die Spaltennamen ausgeben lassen.\n",
    "* v) sich eine Tabelle mit wichtigen Lage- und Streuungsmaßen der metrischen Variablen ausgeben lassen.\n",
    "* vi) sich mit den Datentypen vertraut machen."
   ]
  },
  {
   "cell_type": "markdown",
   "id": "05f8021d",
   "metadata": {},
   "source": [
    "#### Zusatzaufgaben\n",
    "b) Sortieren Sie den Datensatz absteigend nach Alter. \\\n",
    "c) Geben Sie einen Teildatensatz aus, der lediglich Passagiere beinhaltet, die überlebt haben. "
   ]
  }
 ],
 "metadata": {
  "kernelspec": {
   "display_name": "Python 3 (ipykernel)",
   "language": "python",
   "name": "python3"
  },
  "language_info": {
   "codemirror_mode": {
    "name": "ipython",
    "version": 3
   },
   "file_extension": ".py",
   "mimetype": "text/x-python",
   "name": "python",
   "nbconvert_exporter": "python",
   "pygments_lexer": "ipython3",
   "version": "3.9.18"
  }
 },
 "nbformat": 4,
 "nbformat_minor": 5
}
