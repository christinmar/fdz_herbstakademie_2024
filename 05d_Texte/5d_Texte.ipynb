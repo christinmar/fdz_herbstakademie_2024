{
 "cells": [
  {
   "cell_type": "markdown",
   "id": "c1fa4ae6",
   "metadata": {},
   "source": [
    "# 5d Arbeiten mit Texten in Python"
   ]
  },
  {
   "cell_type": "markdown",
   "id": "99546ac8",
   "metadata": {},
   "source": [
    "<div class=\"alert alert-info\"> In dieser Lerneinheit beschäftigen wir uns ausführlich mit dem Bearbeiten von <b>Texten</b> in Python und spannen damit einen Bogen zum ersten Kapitel, in dem wir bereits einfache String Operationen kennengelernt haben. Ein sicherer Umgang mit String-Variablen ermöglicht es uns Text- oder Sentiment-Analysen durchzuführen. Das Kapitel ist aufgebaut wie folgt: \n",
    "    <ol>\n",
    "        <li> Umgang mit Zeichenketten in Python </li>\n",
    "        <li> Analyse von Texten </li>\n",
    "        <li> Beispiel: Analyse von Liedtexten </li>\n",
    "    </ol>\n",
    "Nach der Lerneinheit können Sie Befehle zur String Operation auswählen und durchführen. Sie können Begrifflichkeiten der Computerlinguistik nennen und erklären. Außerdem können Sie eigene Projekte zur Auswertung von Textdateien organisieren und umsetzen.</div>"
   ]
  },
  {
   "cell_type": "markdown",
   "id": "fcb61e73",
   "metadata": {},
   "source": [
    "Pakete, die zuvor im Anaconda Navigator installiert werden müssen: \n",
    "* nltk\n",
    "* matplotlib"
   ]
  },
  {
   "cell_type": "code",
   "execution_count": null,
   "id": "55f66bb0",
   "metadata": {},
   "outputs": [],
   "source": [
    "# Pakete laden\n",
    "import pandas as pd\n",
    "import numpy as np\n",
    "import matplotlib.pyplot as plt"
   ]
  },
  {
   "cell_type": "markdown",
   "id": "7081c23b",
   "metadata": {},
   "source": [
    "#### Recap: Textformation (vgl. Kapitel 1.5 Datentypen)"
   ]
  },
  {
   "cell_type": "markdown",
   "id": "3e8eb8e8",
   "metadata": {},
   "source": [
    "Textformation über *format* oder *f-String* möglich: "
   ]
  },
  {
   "cell_type": "code",
   "execution_count": null,
   "id": "7273c076",
   "metadata": {},
   "outputs": [],
   "source": [
    "a = \"Sonne\"\n",
    "b = 36\n",
    "print(\"Heute scheint die {} und es sind {}° Celsius.\".format(a, b))\n",
    "print(f\"Heute scheint die {a} und es sind {b}° Celsius.\")"
   ]
  },
  {
   "cell_type": "code",
   "execution_count": null,
   "id": "10e56703",
   "metadata": {},
   "outputs": [],
   "source": [
    "type(a)"
   ]
  },
  {
   "cell_type": "markdown",
   "id": "54083e02",
   "metadata": {},
   "source": [
    "## 1 Umgang mit Zeichenketten in Python"
   ]
  },
  {
   "cell_type": "markdown",
   "id": "2506fad6",
   "metadata": {},
   "source": [
    "| **a = \"Hello World\"**  | **Output**           |\n",
    "|:------------------------|:----------------------|\n",
    "| a.lower()              | # \"hello world\"      |\n",
    "| a.upper()              | # \"HELLO WORLD\"      |\n",
    "| a.startswith(\"H\")      | # True               |\n",
    "| a.endswith(\"j\")        | # False              |\n",
    "| a.isdigit()            |  # False             |\n",
    "| a.split(\" \")           | # [\"Hello\", \"World\"] |\n",
    "| \"-\".join(a.split(\" \")) | # \"Hello-World\"      |"
   ]
  },
  {
   "cell_type": "code",
   "execution_count": null,
   "id": "bc5c8226",
   "metadata": {},
   "outputs": [],
   "source": [
    "a = \"Mexiko Stadt\""
   ]
  },
  {
   "cell_type": "code",
   "execution_count": null,
   "id": "ffb2471b",
   "metadata": {},
   "outputs": [],
   "source": [
    "print(a.lower())"
   ]
  },
  {
   "cell_type": "code",
   "execution_count": null,
   "id": "3f2abd88",
   "metadata": {},
   "outputs": [],
   "source": [
    "print(a.upper())"
   ]
  },
  {
   "cell_type": "code",
   "execution_count": null,
   "id": "3e488c8e",
   "metadata": {},
   "outputs": [],
   "source": [
    "print(a.startswith(\"J\"))\n",
    "print(a.startswith(\"Me\"))"
   ]
  },
  {
   "cell_type": "code",
   "execution_count": null,
   "id": "13b75f40",
   "metadata": {},
   "outputs": [],
   "source": [
    "print(a.isdigit())"
   ]
  },
  {
   "cell_type": "code",
   "execution_count": null,
   "id": "a4b8cd8c",
   "metadata": {},
   "outputs": [],
   "source": [
    "print(a.split(\" \"))\n",
    "print(a.split(\"t\"))"
   ]
  },
  {
   "cell_type": "code",
   "execution_count": null,
   "id": "2ff7b8dd",
   "metadata": {},
   "outputs": [],
   "source": [
    "split1 = a.split(\"t\")\n",
    "print(\"t\".join(split1))"
   ]
  },
  {
   "cell_type": "markdown",
   "id": "4c239232",
   "metadata": {},
   "source": [
    "| **Methode**            | **Beschreibung**                             |\n",
    "|:-----------------------|:---------------------------------------------|\n",
    "| a.count()              | Anzahl der Zeichenketten, mit Bedingung      |\n",
    "| a.replace()            | Teile einer Zeichenkette ersetzen            |\n",
    "| a.lstrip()             | Whitespace o. Ä. zu Beginn entfernen         |\n",
    "| a.rstrip()             | Whitespace o. Ä. am Ende entfernen           |\n",
    "| a.strip()              | Whitespace zu Beginn und am Ende entfernen   |\n",
    "| a.startswith()         | Überprüfen, ob Beginn mit bestimmten Wert    |\n",
    "| a.splitline()          | Bei Zeilenumbruch teilen                     |\n",
    "| a.isnumeric()          | Überprüfen, ob numerische Werte enthalten    |\n",
    "| a.isalpha()            | Überprüfen, ob nur Zeichen enthalten sind    |\n",
    "| a.find()               | Substrings identifizieren                    |"
   ]
  },
  {
   "cell_type": "code",
   "execution_count": null,
   "id": "8fbf79ab",
   "metadata": {},
   "outputs": [],
   "source": [
    "print(a.replace(\"Stadt\", \"City\"))"
   ]
  },
  {
   "cell_type": "code",
   "execution_count": null,
   "id": "5de9d6a0",
   "metadata": {},
   "outputs": [],
   "source": [
    "a.count(\" \")"
   ]
  },
  {
   "cell_type": "code",
   "execution_count": null,
   "id": "d9e9f154",
   "metadata": {},
   "outputs": [],
   "source": [
    "a.count(\"t\")"
   ]
  },
  {
   "cell_type": "code",
   "execution_count": null,
   "id": "8f64522f",
   "metadata": {},
   "outputs": [],
   "source": [
    "text = \"        Hallo\"\n",
    "text2 = text.lstrip()\n",
    "print(text)\n",
    "print(text2)"
   ]
  },
  {
   "cell_type": "code",
   "execution_count": null,
   "id": "b2c8559b",
   "metadata": {},
   "outputs": [],
   "source": [
    "text = \"3€&!Hallo\"\n",
    "text2 = text.lstrip(\"3€&!\")\n",
    "print(text)\n",
    "print(text2)"
   ]
  },
  {
   "cell_type": "code",
   "execution_count": null,
   "id": "62d86a7f",
   "metadata": {},
   "outputs": [],
   "source": [
    "text = \"Hallo.3€&!\"\n",
    "text2 = text.rstrip(\"3€&!\")\n",
    "print(text)\n",
    "print(text2)"
   ]
  },
  {
   "cell_type": "code",
   "execution_count": null,
   "id": "e1aaf671",
   "metadata": {},
   "outputs": [],
   "source": [
    "text = \"        Hallo.            \"\n",
    "text2 = text.strip()\n",
    "print(text)\n",
    "print(text2)"
   ]
  },
  {
   "cell_type": "code",
   "execution_count": null,
   "id": "b8af9459",
   "metadata": {},
   "outputs": [],
   "source": [
    "text = \"AbC+Hallo.$%T\"\n",
    "text2 = text.strip(\"AbC+$%T\")\n",
    "print(text)\n",
    "print(text2)"
   ]
  },
  {
   "cell_type": "code",
   "execution_count": null,
   "id": "d00528a0",
   "metadata": {},
   "outputs": [],
   "source": [
    "a.isnumeric()"
   ]
  },
  {
   "cell_type": "code",
   "execution_count": null,
   "id": "a8a46192",
   "metadata": {},
   "outputs": [],
   "source": [
    "a.isalpha() # False, da ein Leerzeichen enthalten ist"
   ]
  },
  {
   "cell_type": "code",
   "execution_count": null,
   "id": "a3567061",
   "metadata": {},
   "outputs": [],
   "source": [
    "a.find(\"Mexiko\")"
   ]
  },
  {
   "cell_type": "code",
   "execution_count": null,
   "id": "0508275a",
   "metadata": {},
   "outputs": [],
   "source": [
    "a.find(\"Stadt\")"
   ]
  },
  {
   "cell_type": "code",
   "execution_count": null,
   "id": "2dd5c311",
   "metadata": {},
   "outputs": [],
   "source": [
    "a.find(\"City\")"
   ]
  },
  {
   "cell_type": "markdown",
   "id": "ffdca772",
   "metadata": {},
   "source": [
    "#### Texte über mehrere Zeilen"
   ]
  },
  {
   "cell_type": "code",
   "execution_count": null,
   "id": "3b73aad3",
   "metadata": {},
   "outputs": [],
   "source": [
    "text = \"\"\"Das ist ein Text, \n",
    "der über mehrere Zeilen\n",
    "geht.\"\"\"\n",
    "print(text)"
   ]
  },
  {
   "cell_type": "code",
   "execution_count": null,
   "id": "0741c076",
   "metadata": {},
   "outputs": [],
   "source": [
    "text = (\"Das ist ein Text,\\n\"\n",
    "       \"der über mehrere Zeilen\\n\"\n",
    "       \"geht.\")\n",
    "print(text)"
   ]
  },
  {
   "cell_type": "code",
   "execution_count": null,
   "id": "52364e0d",
   "metadata": {},
   "outputs": [],
   "source": [
    "text.splitlines() # Optional: True"
   ]
  },
  {
   "cell_type": "markdown",
   "id": "3439cb05",
   "metadata": {},
   "source": [
    "## 2 Analyse von Texten"
   ]
  },
  {
   "cell_type": "code",
   "execution_count": null,
   "id": "3d19eed2",
   "metadata": {},
   "outputs": [],
   "source": [
    "import nltk"
   ]
  },
  {
   "cell_type": "markdown",
   "id": "20153788",
   "metadata": {},
   "source": [
    "Für spätere Analysen ist es zunächst wichtig den eingelesenen Rohtext in ein einfach auszuwertendes Format zu überführen. Hierfür sind eine Reihe von Schritten notwendig. <br>\n",
    "Die Bibliothek **nltk** (Natural Language Toolkit) ist dabei die Standardbibliothek für Anwendungen der Computerlinguistik."
   ]
  },
  {
   "cell_type": "markdown",
   "id": "d3eb4258",
   "metadata": {},
   "source": [
    "### 2.1 Punctuation"
   ]
  },
  {
   "cell_type": "markdown",
   "id": "7375f5ef",
   "metadata": {},
   "source": [
    "Satzzeichen sind oft wenig relevant für eine Textanalyse, sodass wir diese ausschließen können:"
   ]
  },
  {
   "cell_type": "code",
   "execution_count": null,
   "id": "f49fe08c",
   "metadata": {},
   "outputs": [],
   "source": [
    "rohtext = \"Ein Token bezeichnet dabei ein Segment eines Textes.\""
   ]
  },
  {
   "cell_type": "code",
   "execution_count": null,
   "id": "a7484ac0",
   "metadata": {},
   "outputs": [],
   "source": [
    "import re\n",
    "help(re.sub)"
   ]
  },
  {
   "cell_type": "code",
   "execution_count": null,
   "id": "3a9e04ad",
   "metadata": {},
   "outputs": [],
   "source": [
    "text = re.sub(\"[^a-zA-Z0-9]\", \" \", rohtext)"
   ]
  },
  {
   "cell_type": "code",
   "execution_count": null,
   "id": "c1c3e2ad",
   "metadata": {},
   "outputs": [],
   "source": [
    "text"
   ]
  },
  {
   "cell_type": "markdown",
   "id": "800032cf",
   "metadata": {},
   "source": [
    "### 2.2 Tokenizing"
   ]
  },
  {
   "cell_type": "markdown",
   "id": "79034b89",
   "metadata": {},
   "source": [
    "Die Tokenisierung ist oft die Voraussetzung um einen Rohtext in ein für eine Analyse geeignetes Format zu überführen. Ein Token bezeichnet dabei ein Segment eines Textes in spezifische Einheiten wie Paragraphen, Sätze, Wörter oder Buchstaben."
   ]
  },
  {
   "cell_type": "code",
   "execution_count": null,
   "id": "cc1aac8f",
   "metadata": {},
   "outputs": [],
   "source": [
    "nltk.download('punkt')"
   ]
  },
  {
   "cell_type": "code",
   "execution_count": null,
   "id": "5cff4740",
   "metadata": {},
   "outputs": [],
   "source": [
    "print(nltk.sent_tokenize(text, language=\"german\"))"
   ]
  },
  {
   "cell_type": "code",
   "execution_count": null,
   "id": "59972407",
   "metadata": {},
   "outputs": [],
   "source": [
    "wort_token = nltk.word_tokenize(text, language=\"german\")\n",
    "print(wort_token)"
   ]
  },
  {
   "cell_type": "markdown",
   "id": "b9beaeee",
   "metadata": {},
   "source": [
    "### 2.3 Stemming"
   ]
  },
  {
   "cell_type": "markdown",
   "id": "fe6e3b1b",
   "metadata": {},
   "source": [
    "Wenn wir Texte durchsuchen möchten, kann es sinnvoll sein zusammengehörige Wörter zu gruppieren. Möchten wir beispielsweise nur Texte haben, in denen es um *Laptops* geht und suchen nach dem Begriff *Laptop*, werden wir keine Texte finden, in denen der Begriff *Laptops* vorkommt. <br>\n",
    "Die Methode *Stemming* hilft uns dabei, Wörter ohne Flexionsende darzustellen, z. B. \"Katzen\" zu \"Katze\"."
   ]
  },
  {
   "cell_type": "code",
   "execution_count": null,
   "id": "be5d0dfc",
   "metadata": {},
   "outputs": [],
   "source": [
    "nltk.PorterStemmer().stem(\"Laptops\")"
   ]
  },
  {
   "cell_type": "code",
   "execution_count": null,
   "id": "2fd5620f",
   "metadata": {},
   "outputs": [],
   "source": [
    "wort_stem = [nltk.PorterStemmer().stem(i) for i in wort_token]\n",
    "print(wort_stem)"
   ]
  },
  {
   "cell_type": "markdown",
   "id": "29a79f2d",
   "metadata": {},
   "source": [
    "### 2.4 Lemmatizing"
   ]
  },
  {
   "cell_type": "markdown",
   "id": "3a3c5d95",
   "metadata": {},
   "source": [
    "*Lemmatisieren* ist dem Stemming ähnlich. Hierbei wird die Form des Wortes auf den Wortstamm zurückgeführt, z. B. \"is\" zu \"be\""
   ]
  },
  {
   "cell_type": "code",
   "execution_count": null,
   "id": "bb4cbb8f",
   "metadata": {},
   "outputs": [],
   "source": [
    "nltk.download('wordnet')"
   ]
  },
  {
   "cell_type": "code",
   "execution_count": null,
   "id": "7d1f55b2",
   "metadata": {},
   "outputs": [],
   "source": [
    "nltk.WordNetLemmatizer().lemmatize(\"is\", \"v\")"
   ]
  },
  {
   "cell_type": "markdown",
   "id": "87b3b6f5",
   "metadata": {},
   "source": [
    "### 2.5 Vokabular"
   ]
  },
  {
   "cell_type": "markdown",
   "id": "07f21d7c",
   "metadata": {},
   "source": [
    "Die Heterogenität der Wörter eines Textes kann uns viele Informationen über den Text liefern. "
   ]
  },
  {
   "cell_type": "code",
   "execution_count": null,
   "id": "8fd01220",
   "metadata": {},
   "outputs": [],
   "source": [
    "vocab = set(wort_stem)\n",
    "print(vocab)"
   ]
  },
  {
   "cell_type": "code",
   "execution_count": null,
   "id": "1b8cfa92",
   "metadata": {},
   "outputs": [],
   "source": [
    "len(vocab) # Anzahl unterschiedlicher Wörter in unserem Satz"
   ]
  },
  {
   "cell_type": "markdown",
   "id": "200164fb",
   "metadata": {},
   "source": [
    "### 2.6 Stopwords"
   ]
  },
  {
   "cell_type": "markdown",
   "id": "1eb0852f",
   "metadata": {},
   "source": [
    "*Stoppwörter* bezeichnen Wörter, die sehr häufig in Texten vorkommen, aber für gewöhnlich wenig Relevanz für die Erfassung des Dokumentinhalst besitzen. Für Textanalysen werden Stoppwörter deshalb oft aus der Analyse ausgeschlossen."
   ]
  },
  {
   "cell_type": "code",
   "execution_count": null,
   "id": "97957236",
   "metadata": {},
   "outputs": [],
   "source": [
    "from nltk.corpus import stopwords"
   ]
  },
  {
   "cell_type": "code",
   "execution_count": null,
   "id": "8a03cc59",
   "metadata": {},
   "outputs": [],
   "source": [
    "nltk.download('stopwords')"
   ]
  },
  {
   "cell_type": "code",
   "execution_count": null,
   "id": "417016fd",
   "metadata": {},
   "outputs": [],
   "source": [
    "stopword = stopwords.words(\"german\")\n",
    "stopword"
   ]
  },
  {
   "cell_type": "code",
   "execution_count": null,
   "id": "dace3ca1",
   "metadata": {},
   "outputs": [],
   "source": [
    "wort_stop = [t for t in vocab if not t in stopword]\n",
    "wort_stop"
   ]
  },
  {
   "cell_type": "markdown",
   "id": "39252d0b",
   "metadata": {},
   "source": [
    "## 3 Beispiel: Analyse von Liedtexten"
   ]
  },
  {
   "cell_type": "code",
   "execution_count": null,
   "id": "47f9b25e",
   "metadata": {},
   "outputs": [],
   "source": [
    "# Daten laden\n",
    "df = pd.read_csv(\"..\\_Daten\\lyrics.csv\")"
   ]
  },
  {
   "cell_type": "markdown",
   "id": "8d459ce0",
   "metadata": {},
   "source": [
    "**Überblick verschaffen**"
   ]
  },
  {
   "cell_type": "code",
   "execution_count": null,
   "id": "abf42e96",
   "metadata": {},
   "outputs": [],
   "source": [
    "df.head()"
   ]
  },
  {
   "cell_type": "code",
   "execution_count": null,
   "id": "12d35afb",
   "metadata": {},
   "outputs": [],
   "source": [
    "# kleinerer Datensatz\n",
    "df = df.head(300)\n",
    "df"
   ]
  },
  {
   "cell_type": "code",
   "execution_count": null,
   "id": "a248e154",
   "metadata": {},
   "outputs": [],
   "source": [
    "# Ein Songtext\n",
    "df.lyrics[0] #\\n signalisiert Zeilenumbruch"
   ]
  },
  {
   "cell_type": "code",
   "execution_count": null,
   "id": "4de1a4ad",
   "metadata": {},
   "outputs": [],
   "source": [
    "# Bessere Darstellung mit print\n",
    "print(df.lyrics[0])"
   ]
  },
  {
   "cell_type": "markdown",
   "id": "d1cee0ba",
   "metadata": {},
   "source": [
    "**Punctuation**"
   ]
  },
  {
   "cell_type": "code",
   "execution_count": null,
   "id": "0f7acc21",
   "metadata": {},
   "outputs": [],
   "source": [
    "# Sonderzeichen durch Leerzeichen ersetzen\n",
    "df.lyrics = pd.Series([re.sub(\"[^a-zA-Z0-9]\", \" \", i) for i in df.lyrics])\n",
    "print(df.lyrics[0])"
   ]
  },
  {
   "cell_type": "code",
   "execution_count": null,
   "id": "91c56e07",
   "metadata": {},
   "outputs": [],
   "source": [
    "df.head()"
   ]
  },
  {
   "cell_type": "markdown",
   "id": "bff04ab4",
   "metadata": {},
   "source": [
    "**Tokenizing**"
   ]
  },
  {
   "cell_type": "code",
   "execution_count": null,
   "id": "d8d9d1be",
   "metadata": {},
   "outputs": [],
   "source": [
    "df.lyrics = [nltk.word_tokenize(i, language=\"german\") for i in df.lyrics] "
   ]
  },
  {
   "cell_type": "code",
   "execution_count": null,
   "id": "765af777",
   "metadata": {},
   "outputs": [],
   "source": [
    "df.head()"
   ]
  },
  {
   "cell_type": "markdown",
   "id": "6b5128c1",
   "metadata": {},
   "source": [
    "**Stemming**"
   ]
  },
  {
   "cell_type": "code",
   "execution_count": null,
   "id": "60259cdb",
   "metadata": {},
   "outputs": [],
   "source": [
    "for song in range(len(df)):\n",
    "    df.at[song, \"lyrics\"] = [nltk.PorterStemmer().stem(t) for t in df.at[song,\"lyrics\"]] # dauert auch etwas"
   ]
  },
  {
   "cell_type": "code",
   "execution_count": null,
   "id": "92453cd9",
   "metadata": {},
   "outputs": [],
   "source": [
    "df.head()"
   ]
  },
  {
   "cell_type": "markdown",
   "id": "24776d78",
   "metadata": {},
   "source": [
    "**Vocabular**"
   ]
  },
  {
   "cell_type": "code",
   "execution_count": null,
   "id": "faafb7ac",
   "metadata": {},
   "outputs": [],
   "source": [
    "vocab = [set(i) for i in df.lyrics]"
   ]
  },
  {
   "cell_type": "code",
   "execution_count": null,
   "id": "e2842a58",
   "metadata": {},
   "outputs": [],
   "source": [
    "vocab[0]"
   ]
  },
  {
   "cell_type": "markdown",
   "id": "c9c00bf8",
   "metadata": {},
   "source": [
    "**Stopwords**"
   ]
  },
  {
   "cell_type": "code",
   "execution_count": null,
   "id": "5cea6306",
   "metadata": {},
   "outputs": [],
   "source": [
    "for i in range(len(vocab)):\n",
    "    vocab[i] = [t for t in vocab[i] if not t in stopword]"
   ]
  },
  {
   "cell_type": "markdown",
   "id": "7aca10fb",
   "metadata": {},
   "source": [
    "**Einzelne Wörter**"
   ]
  },
  {
   "cell_type": "code",
   "execution_count": null,
   "id": "838cde86",
   "metadata": {},
   "outputs": [],
   "source": [
    "unique_counts = [len(v) for v in vocab]"
   ]
  },
  {
   "cell_type": "code",
   "execution_count": null,
   "id": "aeaf86b3",
   "metadata": {},
   "outputs": [],
   "source": [
    "df.at[:, \"unique_count\"] = unique_counts"
   ]
  },
  {
   "cell_type": "code",
   "execution_count": null,
   "id": "a21addc5",
   "metadata": {},
   "outputs": [],
   "source": [
    "df.head()"
   ]
  },
  {
   "cell_type": "markdown",
   "id": "d64f199b",
   "metadata": {},
   "source": [
    "**Songs nach Genre analysieren**"
   ]
  },
  {
   "cell_type": "code",
   "execution_count": null,
   "id": "5c42d373",
   "metadata": {},
   "outputs": [],
   "source": [
    "df_select = df[[\"genre\", \"unique_count\"]]"
   ]
  },
  {
   "cell_type": "code",
   "execution_count": null,
   "id": "5915f36f",
   "metadata": {},
   "outputs": [],
   "source": [
    "words_counts = df_select.groupby(\"genre\")"
   ]
  },
  {
   "cell_type": "code",
   "execution_count": null,
   "id": "c9f4abe0",
   "metadata": {},
   "outputs": [],
   "source": [
    "words_counts.get_group(\"Country\")"
   ]
  },
  {
   "cell_type": "code",
   "execution_count": null,
   "id": "a7385e63",
   "metadata": {},
   "outputs": [],
   "source": [
    "# Mittelwerte\n",
    "words_counts.mean()"
   ]
  },
  {
   "cell_type": "code",
   "execution_count": null,
   "id": "622c0ee0",
   "metadata": {},
   "outputs": [],
   "source": [
    "plt.figure(figsize=(15, 8))\n",
    "plt.bar(words_counts.mean().index, words_counts.mean().unique_count)\n",
    "plt.show()"
   ]
  },
  {
   "cell_type": "markdown",
   "id": "9ac5e551",
   "metadata": {},
   "source": [
    "<div class=\"alert alert-warning\"><h4> Aufgabe 1: Die Analyse von &bdquo;Faust. Eine Tragödie.&ldquo;\t"
   ]
  },
  {
   "cell_type": "markdown",
   "id": "e4aefc2e",
   "metadata": {},
   "source": [
    "Sie finden den Datensatz als Datei *Faust* im Git-Repo."
   ]
  },
  {
   "cell_type": "markdown",
   "id": "5820b18b",
   "metadata": {},
   "source": [
    "a) Öffnen Sie die Datei in einem Texteditor und verschaffen Sie sich einen Überblick\n",
    "über die Struktur des Texts."
   ]
  },
  {
   "cell_type": "markdown",
   "id": "5851b45f",
   "metadata": {},
   "source": [
    "b) Importieren Sie das Werk und speichern Sie es\n",
    "unter dem Namen `faust`. Welche Struktur hat das Objekt faust?"
   ]
  },
  {
   "cell_type": "markdown",
   "id": "7b0a2ff5",
   "metadata": {},
   "source": [
    "c) Entfernen Sie alle Satzzeichen aus Ihrem Text."
   ]
  },
  {
   "cell_type": "markdown",
   "id": "f31e8f86",
   "metadata": {},
   "source": [
    "d) Segmentieren Sie den Text in einzelne Wörter."
   ]
  },
  {
   "cell_type": "markdown",
   "id": "de203e65",
   "metadata": {},
   "source": [
    "e) Laden Sie die deutschen Stoppwörter."
   ]
  },
  {
   "cell_type": "markdown",
   "id": "0bebd0d1",
   "metadata": {},
   "source": [
    "f) Bereinigen Sie Ihren Vektor von diesen Stoppwörtern.<br>\n",
    "**Hinweis:** Denken Sie an die Groß- und Kleinschreibung."
   ]
  },
  {
   "cell_type": "markdown",
   "id": "3ff1b1dc",
   "metadata": {},
   "source": [
    "g) Wie hoch ist der Anteil der unterschiedlichen Wörter im gerade erstellten Vektor"
   ]
  }
 ],
 "metadata": {
  "kernelspec": {
   "display_name": "Python 3 (ipykernel)",
   "language": "python",
   "name": "python3"
  },
  "language_info": {
   "codemirror_mode": {
    "name": "ipython",
    "version": 3
   },
   "file_extension": ".py",
   "mimetype": "text/x-python",
   "name": "python",
   "nbconvert_exporter": "python",
   "pygments_lexer": "ipython3",
   "version": "3.9.18"
  }
 },
 "nbformat": 4,
 "nbformat_minor": 5
}
