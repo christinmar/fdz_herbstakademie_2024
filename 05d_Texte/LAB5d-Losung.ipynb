{
 "cells": [
  {
   "cell_type": "markdown",
   "id": "8f8497d2",
   "metadata": {},
   "source": [
    "<h1><center> 5d. Übung: Arbeiten mit Texten"
   ]
  },
  {
   "cell_type": "markdown",
   "id": "7cef3ca6",
   "metadata": {},
   "source": [
    "<div class=\"alert alert-warning\"><h4> Aufgabe 1: Die Analyse von &bdquo;Faust. Eine Tragödie.&ldquo;\t"
   ]
  },
  {
   "cell_type": "markdown",
   "id": "ad82e610",
   "metadata": {},
   "source": [
    "Sie finden den Datensatz als Datei *Faust* im Git-Repo."
   ]
  },
  {
   "cell_type": "markdown",
   "id": "5cad681b",
   "metadata": {},
   "source": [
    "a) Öffnen Sie die Datei in einem Texteditor und verschaffen Sie sich einen Überblick\n",
    "über die Struktur des Texts."
   ]
  },
  {
   "cell_type": "markdown",
   "id": "39c14833",
   "metadata": {},
   "source": [
    "b) Importieren Sie das Werk und speichern Sie es\n",
    "unter dem Namen `faust`. Welche Struktur hat das Objekt faust?"
   ]
  },
  {
   "cell_type": "code",
   "execution_count": null,
   "id": "e68d7f61",
   "metadata": {},
   "outputs": [],
   "source": [
    "f = open(\"..\\_Daten\\Faust.txt\", \"r\", encoding=\"utf8\")\n",
    "faust = f.read()\n",
    "f.close()"
   ]
  },
  {
   "cell_type": "code",
   "execution_count": null,
   "id": "01d8e750",
   "metadata": {},
   "outputs": [],
   "source": [
    "type(faust)"
   ]
  },
  {
   "cell_type": "code",
   "execution_count": null,
   "id": "60297ec3",
   "metadata": {},
   "outputs": [],
   "source": [
    "print(faust)"
   ]
  },
  {
   "cell_type": "markdown",
   "id": "f4a2bf55",
   "metadata": {},
   "source": [
    "c) Entfernen Sie alle Satzzeichen aus Ihrem Text."
   ]
  },
  {
   "cell_type": "code",
   "execution_count": null,
   "id": "d4bb77bd",
   "metadata": {},
   "outputs": [],
   "source": [
    "import re\n",
    "faust_punct = re.sub(\"[^a-zA-Z0-9üöäÜÖÄß]\", \" \", faust)"
   ]
  },
  {
   "cell_type": "code",
   "execution_count": null,
   "id": "cedef104",
   "metadata": {},
   "outputs": [],
   "source": [
    "faust_punct"
   ]
  },
  {
   "cell_type": "markdown",
   "id": "171bf74e",
   "metadata": {},
   "source": [
    "d) Segmentieren Sie den Text in einzelne Wörter."
   ]
  },
  {
   "cell_type": "code",
   "execution_count": null,
   "id": "2757de58",
   "metadata": {},
   "outputs": [],
   "source": [
    "from nltk.tokenize import word_tokenize\n",
    "words_faust = word_tokenize(faust_punct)"
   ]
  },
  {
   "cell_type": "code",
   "execution_count": null,
   "id": "1a8cbe73",
   "metadata": {},
   "outputs": [],
   "source": [
    "print(words_faust)"
   ]
  },
  {
   "cell_type": "markdown",
   "id": "c4bc9f09",
   "metadata": {},
   "source": [
    "e) Laden Sie die deutschen Stoppwörter."
   ]
  },
  {
   "cell_type": "code",
   "execution_count": null,
   "id": "92fa84e9",
   "metadata": {},
   "outputs": [],
   "source": [
    "from nltk.corpus import stopwords\n",
    "stopwords = stopwords.words(\"german\")"
   ]
  },
  {
   "cell_type": "code",
   "execution_count": null,
   "id": "cf39cfb1",
   "metadata": {},
   "outputs": [],
   "source": [
    "print(stopwords)"
   ]
  },
  {
   "cell_type": "markdown",
   "id": "bf14ec7f",
   "metadata": {},
   "source": [
    "f) Bereinigen Sie Ihren Vektor von diesen Stoppwörtern.<br>\n",
    "**Hinweis:** Denken Sie an die Groß- und Kleinschreibung."
   ]
  },
  {
   "cell_type": "code",
   "execution_count": null,
   "id": "993ed2ab",
   "metadata": {},
   "outputs": [],
   "source": [
    "words_faust = [words.lower() for words in words_faust]"
   ]
  },
  {
   "cell_type": "code",
   "execution_count": null,
   "id": "87089473",
   "metadata": {},
   "outputs": [],
   "source": [
    "words_faust = [word for word in words_faust if word not in stopwords]"
   ]
  },
  {
   "cell_type": "code",
   "execution_count": null,
   "id": "fb93b9b8",
   "metadata": {},
   "outputs": [],
   "source": [
    "print(words_faust)"
   ]
  },
  {
   "cell_type": "markdown",
   "id": "f7f34372",
   "metadata": {},
   "source": [
    "g) Wie hoch ist der Anteil der unterschiedlichen Wörter im gerade erstellten Vektor"
   ]
  },
  {
   "cell_type": "code",
   "execution_count": null,
   "id": "7e0b52a6",
   "metadata": {},
   "outputs": [],
   "source": [
    "len(set(words_faust))/len(words_faust)"
   ]
  }
 ],
 "metadata": {
  "kernelspec": {
   "display_name": "Python 3 (ipykernel)",
   "language": "python",
   "name": "python3"
  },
  "language_info": {
   "codemirror_mode": {
    "name": "ipython",
    "version": 3
   },
   "file_extension": ".py",
   "mimetype": "text/x-python",
   "name": "python",
   "nbconvert_exporter": "python",
   "pygments_lexer": "ipython3",
   "version": "3.9.18"
  }
 },
 "nbformat": 4,
 "nbformat_minor": 5
}
