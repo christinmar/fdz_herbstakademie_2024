{
 "cells": [
  {
   "cell_type": "markdown",
   "metadata": {},
   "source": [
    "<h1><center> 5a. Übung: Grafische Datenanalyse"
   ]
  },
  {
   "cell_type": "markdown",
   "metadata": {},
   "source": [
    "<div class=\"alert alert-warning\"><h4> Aufgabe 1: Total Profit"
   ]
  },
  {
   "cell_type": "markdown",
   "metadata": {},
   "source": [
    "a) Importieren Sie den Datensatz **company** aus dem Git-Repo."
   ]
  },
  {
   "cell_type": "code",
   "execution_count": null,
   "metadata": {},
   "outputs": [],
   "source": [
    "import pandas as pd\n",
    "df = pd.read_csv(\"../_Daten/company.csv\")\n",
    "df"
   ]
  },
  {
   "cell_type": "markdown",
   "metadata": {},
   "source": [
    "b) Erstellen Sie ein Liniendiagramm mit `total_profit` und `month_number`."
   ]
  },
  {
   "cell_type": "code",
   "execution_count": null,
   "metadata": {},
   "outputs": [],
   "source": [
    "import matplotlib.pyplot as plt\n",
    "import seaborn as sns"
   ]
  },
  {
   "cell_type": "code",
   "execution_count": null,
   "metadata": {},
   "outputs": [],
   "source": [
    "fig = plt.plot(df.month_number, df.total_profit)\n",
    "plt.show()"
   ]
  },
  {
   "cell_type": "markdown",
   "metadata": {},
   "source": [
    "c) Nehmen Sie folgende Änderungen an dem Liniendiagramm vor:\n",
    "* Linienfarbe = grün\n",
    "* Titel = *Profit per month*\n",
    "* X-Achsenbeschriftung: *Month*\n",
    "* y-Achsenbeschriftung: *Profit in US-Dollar*\n",
    "* Datenpunktsymbol: Dreieck\n",
    "* Linientyp: -.-.-.-.-.-"
   ]
  },
  {
   "cell_type": "code",
   "execution_count": null,
   "metadata": {},
   "outputs": [],
   "source": [
    "fig = plt.plot(df.month_number, df.total_profit, linestyle=\"-.\",\n",
    "              color=\"green\", marker=\"v\")\n",
    "plt.title(\"Profit per month\")\n",
    "plt.xlabel(\"Monat\")\n",
    "plt.ylabel(\"Profit in US-Dollar\")\n",
    "plt.show()"
   ]
  },
  {
   "cell_type": "markdown",
   "metadata": {},
   "source": [
    "d) Kennzeichnen Sie in der Grafik den Mittelwert von `total_profit` mithilfe einer horizontalen, roten Linie. Geben Sie in der Legende an, dass es sich bei der Linie um den Mittelwert handelt."
   ]
  },
  {
   "cell_type": "code",
   "execution_count": null,
   "metadata": {},
   "outputs": [],
   "source": [
    "import numpy as np\n",
    "fig = plt.plot(df.month_number, df.total_profit, linestyle=\"-.\",\n",
    "              color=\"green\", marker=\"v\", linewidth=0.5)\n",
    "plt.title(\"Profit per month\")\n",
    "plt.xlabel(\"Monat\")\n",
    "plt.ylabel(\"Profit in US-Dollar\")\n",
    "plt.axhline(np.mean(df.total_profit), color=\"red\", label=\"Mittelwert total_profit\")\n",
    "plt.legend()\n",
    "plt.show()"
   ]
  }
 ],
 "metadata": {
  "kernelspec": {
   "display_name": "Python 3 (ipykernel)",
   "language": "python",
   "name": "python3"
  },
  "language_info": {
   "codemirror_mode": {
    "name": "ipython",
    "version": 3
   },
   "file_extension": ".py",
   "mimetype": "text/x-python",
   "name": "python",
   "nbconvert_exporter": "python",
   "pygments_lexer": "ipython3",
   "version": "3.9.18"
  }
 },
 "nbformat": 4,
 "nbformat_minor": 2
}
