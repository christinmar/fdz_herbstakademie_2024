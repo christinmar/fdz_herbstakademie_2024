{
 "cells": [
  {
   "cell_type": "markdown",
   "id": "28edaa38",
   "metadata": {},
   "source": [
    "<h1><center> 5b. Übung: Univariate und bivariate Statistik "
   ]
  },
  {
   "cell_type": "markdown",
   "id": "5583a838",
   "metadata": {},
   "source": [
    "<div class=\"alert alert-warning\"><h4> Aufgabe 1: Lage und Streuung"
   ]
  },
  {
   "cell_type": "markdown",
   "id": "b29e4cdf",
   "metadata": {},
   "source": [
    "a) Laden Sie den `iris`-Datensatz als `df_iris` aus dem `seaborn`-Paket.<br>"
   ]
  },
  {
   "cell_type": "code",
   "execution_count": null,
   "id": "b2ba64b4",
   "metadata": {},
   "outputs": [],
   "source": [
    "import seaborn as sns\n",
    "df_iris=sns.load_dataset(\"iris\")"
   ]
  },
  {
   "cell_type": "code",
   "execution_count": null,
   "id": "afc621d6",
   "metadata": {},
   "outputs": [],
   "source": [
    "df_iris.head()"
   ]
  },
  {
   "cell_type": "markdown",
   "id": "c9f26f2e",
   "metadata": {},
   "source": [
    "b) Geben Sie für alle metrischen Variablen ein geeignetes Lokalisationsmaß aus.  "
   ]
  },
  {
   "cell_type": "code",
   "execution_count": null,
   "id": "86d68fc1",
   "metadata": {},
   "outputs": [],
   "source": [
    "import numpy as np\n",
    "import pandas as pd"
   ]
  },
  {
   "cell_type": "code",
   "execution_count": null,
   "id": "875850cf",
   "metadata": {},
   "outputs": [],
   "source": [
    "print(np.mean(df_iris[\"sepal_length\"]))\n",
    "print(np.mean(df_iris[\"sepal_width\"]))\n",
    "print(np.mean(df_iris[\"petal_length\"]))\n",
    "print(np.mean(df_iris[\"petal_width\"]))"
   ]
  },
  {
   "cell_type": "markdown",
   "id": "a4e200d3",
   "metadata": {},
   "source": [
    "c) Geben Sie für jede Variable des gesamten Datensatz das Maximum und Minimum aus."
   ]
  },
  {
   "cell_type": "code",
   "execution_count": null,
   "id": "9b3d7047",
   "metadata": {},
   "outputs": [],
   "source": [
    "df_iris.max()"
   ]
  },
  {
   "cell_type": "code",
   "execution_count": null,
   "id": "2cde47bc",
   "metadata": {},
   "outputs": [],
   "source": [
    "df_iris.min()"
   ]
  },
  {
   "cell_type": "markdown",
   "id": "02220252",
   "metadata": {},
   "source": [
    "e) Bestimmen Sie die relative Häufigkeitsverteilung der Variablen `species`. "
   ]
  },
  {
   "cell_type": "code",
   "execution_count": null,
   "id": "5f9414e1",
   "metadata": {},
   "outputs": [],
   "source": [
    "df_iris.species.unique()"
   ]
  },
  {
   "cell_type": "code",
   "execution_count": null,
   "id": "f3c78d04",
   "metadata": {},
   "outputs": [],
   "source": [
    "df_iris.species.value_counts()/len(df_iris)"
   ]
  },
  {
   "cell_type": "markdown",
   "id": "bab657bb",
   "metadata": {},
   "source": [
    "<div class=\"alert alert-warning\"><h4> Aufgabe 2: Pseudozufallszahlen"
   ]
  },
  {
   "cell_type": "markdown",
   "id": "b49a1c1f",
   "metadata": {},
   "source": [
    "a) Ziehen Sie eine Stichprobe der Größe *n* = 99 aus einer Normalverteilung mit $\\mu$ = 5 und $\\sigma^2$ = 4 (set.seed = 1)."
   ]
  },
  {
   "cell_type": "code",
   "execution_count": null,
   "id": "fb4d490c",
   "metadata": {},
   "outputs": [],
   "source": [
    "import math as m\n",
    "np.random.seed(1)\n",
    "np.random.normal(size=99, loc=5, scale=m.sqrt(4))"
   ]
  },
  {
   "cell_type": "markdown",
   "id": "460b0c5f",
   "metadata": {},
   "source": [
    "b) Nehmen Sie an $X \\sim Poi(\\lambda = 2)$. Geben Sie folgende Werte an: \n",
    "* Verteilungsfunktion $F(x)$ an der Stelle 1 an. \n",
    "* Wahrscheinlichkeitsfunktion $f(x)$ an der Stelle 1. "
   ]
  },
  {
   "cell_type": "code",
   "execution_count": null,
   "id": "b19bc757",
   "metadata": {},
   "outputs": [],
   "source": [
    "import scipy.stats as stats"
   ]
  },
  {
   "cell_type": "code",
   "execution_count": null,
   "id": "15f4b8a3",
   "metadata": {},
   "outputs": [],
   "source": [
    "stats.poisson.cdf(k = 1, mu = 2)"
   ]
  },
  {
   "cell_type": "code",
   "execution_count": null,
   "id": "8c9362c3",
   "metadata": {},
   "outputs": [],
   "source": [
    "stats.poisson.pmf(k = 1, mu = 2)"
   ]
  },
  {
   "cell_type": "markdown",
   "id": "9a9110e1",
   "metadata": {},
   "source": [
    "c) Nehmen Sie die Zufallsvariable $Y$ sei standardnormalverteilt. Geben Sie den Wert der Dichte- und der Verteilungsfunktion an der Stelle 0 an."
   ]
  },
  {
   "cell_type": "code",
   "execution_count": null,
   "id": "06209c42",
   "metadata": {},
   "outputs": [],
   "source": [
    "stats.norm.cdf(x = 0, loc = 0, scale = 1)"
   ]
  },
  {
   "cell_type": "code",
   "execution_count": null,
   "id": "be763dcd",
   "metadata": {},
   "outputs": [],
   "source": [
    "stats.norm.pdf(x = 0, loc = 0, scale = 1)"
   ]
  }
 ],
 "metadata": {
  "kernelspec": {
   "display_name": "Python 3 (ipykernel)",
   "language": "python",
   "name": "python3"
  },
  "language_info": {
   "codemirror_mode": {
    "name": "ipython",
    "version": 3
   },
   "file_extension": ".py",
   "mimetype": "text/x-python",
   "name": "python",
   "nbconvert_exporter": "python",
   "pygments_lexer": "ipython3",
   "version": "3.9.18"
  }
 },
 "nbformat": 4,
 "nbformat_minor": 5
}
