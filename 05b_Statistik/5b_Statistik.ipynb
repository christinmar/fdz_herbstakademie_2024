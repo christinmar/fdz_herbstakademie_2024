{
 "cells": [
  {
   "cell_type": "markdown",
   "id": "greenhouse-commander",
   "metadata": {
    "slideshow": {
     "slide_type": "fragment"
    }
   },
   "source": [
    "## 5b Univariate und bivariate Statistik"
   ]
  },
  {
   "cell_type": "markdown",
   "id": "alike-friday",
   "metadata": {
    "slideshow": {
     "slide_type": "fragment"
    }
   },
   "source": [
    "<div class=\"alert alert-info\"> In dieser Lerneinheit beschäftigen wir uns mit statistischen Berechnungen in Python. Hierfür sehen wir uns zunächst noch einmal an, wie ein Datensatz in Python aufgebaut ist. Im Anschluss daran, berechnen wir mithilfe von <b>scipy.stats</b> und <b>statistics</b> Lage-, Streuungs- und Korrelationsmaße. Außerdem sehen wir uns spezielle Verteilungen an und lernen, wie statistische Tests in Python umzusetzen sind. Aufgebaut ist die Lerneinheit wie folgt: \n",
    "    <ol>\n",
    "        <li>Häufigkeitsverteilung und empirische Verteilungsfunktion</li>\n",
    "        <li>Lage und Streuung</li>\n",
    "        <li>Zusammenhangsmaße</li>\n",
    "        <ol>\n",
    "            <li>Zwei nominale Variablen</li>\n",
    "            <li>Zwei ordinale Variablen</li>\n",
    "            <li>Zwei metrische Variablen</li>\n",
    "        </ol>\n",
    "        <li>Spezielle Verteilungen</li>\n",
    "        <li>Statistische Tests</li>\n",
    "    </ol>\n",
    "\n",
    "Nach dieser Lerneinheit können Sie sich unterschiedliche Lage- und Streuungsmaße ausgeben lassen.Zusammenhangsmaße in Python berechnen und deren Ergebnis interpretieren. Sie können (Pseudo-)Zufallszahlen generieren. Sie können statistische Tests auswählen und anwenden und deren Ergebnisse in verbalisierter Form interpretieren.</div>"
   ]
  },
  {
   "cell_type": "markdown",
   "id": "eece0738",
   "metadata": {},
   "source": [
    "Pakete, die noch installiert werden müssen: \n",
    "* scipy\n",
    "* matplotlib\n",
    "* scikit-learn"
   ]
  },
  {
   "cell_type": "markdown",
   "id": "developing-computer",
   "metadata": {
    "slideshow": {
     "slide_type": "slide"
    }
   },
   "source": [
    "#### Pakete laden"
   ]
  },
  {
   "cell_type": "code",
   "execution_count": null,
   "id": "clinical-sunday",
   "metadata": {
    "slideshow": {
     "slide_type": "fragment"
    }
   },
   "outputs": [],
   "source": [
    "import csv\n",
    "\n",
    "import pandas as pd\n",
    "import numpy as np\n",
    "import scipy.stats as stats\n",
    "import statistics"
   ]
  },
  {
   "cell_type": "code",
   "execution_count": null,
   "id": "intelligent-potter",
   "metadata": {
    "slideshow": {
     "slide_type": "fragment"
    }
   },
   "outputs": [],
   "source": [
    "df = pd.read_csv(\"..\\_Daten\\Datensatz_Herzinfarkt.csv\", sep=\",\")\n",
    "df.head() "
   ]
  },
  {
   "cell_type": "code",
   "execution_count": null,
   "id": "be599513",
   "metadata": {},
   "outputs": [],
   "source": [
    "print(df.Geschlecht.unique())\n",
    "print(df.Schmerztyp.unique())\n",
    "print(df.Blutzucker.unique())\n",
    "print(df.Herzinfarkt.unique())\n",
    "print(df.Schmerzintensität.unique())"
   ]
  },
  {
   "cell_type": "code",
   "execution_count": null,
   "id": "invalid-tracy",
   "metadata": {},
   "outputs": [],
   "source": [
    "df.isnull().sum() # Keine Missings"
   ]
  },
  {
   "cell_type": "code",
   "execution_count": null,
   "id": "99c2da62",
   "metadata": {},
   "outputs": [],
   "source": [
    "df.dtypes"
   ]
  },
  {
   "cell_type": "code",
   "execution_count": null,
   "id": "06e8d467",
   "metadata": {},
   "outputs": [],
   "source": [
    "# Schmerzintensität als ordinales Merkmal\n",
    "cat = [\"Keine Schmerzen\", \"Kaum Schmerzen\", \"Mittel\", \"Starke Schmerzen\", \"Sehr starke Schmerzen\"]\n",
    "df[\"Schmerzintensität\"] = pd.Categorical(df[\"Schmerzintensität\"], categories=cat, ordered=True)"
   ]
  },
  {
   "cell_type": "code",
   "execution_count": null,
   "id": "58a256f4",
   "metadata": {},
   "outputs": [],
   "source": [
    "# Blutzucker als nominales Merkmal\n",
    "df[\"Blutzucker\"] = df[\"Blutzucker\"].astype(object)"
   ]
  },
  {
   "cell_type": "code",
   "execution_count": null,
   "id": "260f50fd",
   "metadata": {},
   "outputs": [],
   "source": [
    "df.dtypes"
   ]
  },
  {
   "cell_type": "markdown",
   "id": "b5ffe251",
   "metadata": {},
   "source": [
    "## 1 Häufigkeitsverteilung und empirische Verteilungsfunktion"
   ]
  },
  {
   "cell_type": "markdown",
   "id": "833cc1b2",
   "metadata": {},
   "source": [
    "**Nominale Merkmale**"
   ]
  },
  {
   "cell_type": "code",
   "execution_count": null,
   "id": "5f910cf7",
   "metadata": {},
   "outputs": [],
   "source": [
    "df[\"Schmerztyp\"].value_counts() # absolute Häufigkeiten"
   ]
  },
  {
   "cell_type": "code",
   "execution_count": null,
   "id": "a31707e2",
   "metadata": {},
   "outputs": [],
   "source": [
    "df[\"Schmerztyp\"].value_counts(sort = False)"
   ]
  },
  {
   "cell_type": "code",
   "execution_count": null,
   "id": "834cd2a3",
   "metadata": {},
   "outputs": [],
   "source": [
    "df[\"Schmerztyp\"].value_counts()/len(df) # relative Häufigkeiten"
   ]
  },
  {
   "cell_type": "code",
   "execution_count": null,
   "id": "be1522e1",
   "metadata": {},
   "outputs": [],
   "source": [
    "pd.crosstab(df[\"Herzinfarkt\"], df[\"Schmerztyp\"]) # Kontingenztabelle"
   ]
  },
  {
   "cell_type": "code",
   "execution_count": null,
   "id": "ae726a67",
   "metadata": {},
   "outputs": [],
   "source": [
    "pd.crosstab(df[\"Herzinfarkt\"], df[\"Schmerztyp\"], margins = True) # Kontingenztabelle"
   ]
  },
  {
   "cell_type": "markdown",
   "id": "49fb02b6",
   "metadata": {},
   "source": [
    "**Ordinale Merkmale**"
   ]
  },
  {
   "cell_type": "code",
   "execution_count": null,
   "id": "d1896f70",
   "metadata": {},
   "outputs": [],
   "source": [
    "df.Schmerzintensität.value_counts(sort = False) # sort = Datenwerte nach Häufigkeit sortieren"
   ]
  },
  {
   "cell_type": "code",
   "execution_count": null,
   "id": "34d4d210",
   "metadata": {},
   "outputs": [],
   "source": [
    "df[\"Schmerzintensität\"].value_counts(sort = False)/len(df)"
   ]
  },
  {
   "cell_type": "code",
   "execution_count": null,
   "id": "cd0cc321",
   "metadata": {},
   "outputs": [],
   "source": [
    "np.cumsum(df[\"Schmerzintensität\"].value_counts(sort = False)/len(df))"
   ]
  },
  {
   "cell_type": "markdown",
   "id": "dutch-request",
   "metadata": {
    "slideshow": {
     "slide_type": "slide"
    }
   },
   "source": [
    "## 2 Lage und Streuung"
   ]
  },
  {
   "cell_type": "markdown",
   "id": "drawn-research",
   "metadata": {},
   "source": [
    "#### Mittelwert"
   ]
  },
  {
   "cell_type": "code",
   "execution_count": null,
   "id": "f21d3218",
   "metadata": {},
   "outputs": [],
   "source": [
    "# Option 1: Pandas\n",
    "df.mean(numeric_only=True)"
   ]
  },
  {
   "cell_type": "code",
   "execution_count": null,
   "id": "figured-clear",
   "metadata": {},
   "outputs": [],
   "source": [
    "# Option 2: NumPy\n",
    "np.mean(df[\"Alter\"])"
   ]
  },
  {
   "cell_type": "markdown",
   "id": "constant-criterion",
   "metadata": {},
   "source": [
    "#### Median"
   ]
  },
  {
   "cell_type": "code",
   "execution_count": null,
   "id": "adjusted-grain",
   "metadata": {},
   "outputs": [],
   "source": [
    "# Option 1: Pandas\n",
    "df.median(numeric_only=True)"
   ]
  },
  {
   "cell_type": "code",
   "execution_count": null,
   "id": "occupational-screen",
   "metadata": {},
   "outputs": [],
   "source": [
    "# Option 2: NumPy\n",
    "np.median(df[\"Alter\"])"
   ]
  },
  {
   "cell_type": "markdown",
   "id": "polish-wednesday",
   "metadata": {},
   "source": [
    "#### Maximum und Minimum"
   ]
  },
  {
   "cell_type": "code",
   "execution_count": null,
   "id": "polar-sessions",
   "metadata": {
    "slideshow": {
     "slide_type": "fragment"
    }
   },
   "outputs": [],
   "source": [
    "df.max(numeric_only=True)"
   ]
  },
  {
   "cell_type": "code",
   "execution_count": null,
   "id": "illegal-trinidad",
   "metadata": {},
   "outputs": [],
   "source": [
    "df.min(numeric_only=True)"
   ]
  },
  {
   "cell_type": "markdown",
   "id": "bottom-rebate",
   "metadata": {},
   "source": [
    "#### Quantile"
   ]
  },
  {
   "cell_type": "code",
   "execution_count": null,
   "id": "internal-lightweight",
   "metadata": {},
   "outputs": [],
   "source": [
    "# Option 1: Scipy\n",
    "stats.scoreatpercentile(df[\"Alter\"], per=50)"
   ]
  },
  {
   "cell_type": "code",
   "execution_count": null,
   "id": "f7d27d0f",
   "metadata": {},
   "outputs": [],
   "source": [
    "stats.scoreatpercentile(df[\"Alter\"], (25, 50, 75))"
   ]
  },
  {
   "cell_type": "code",
   "execution_count": null,
   "id": "compact-monitoring",
   "metadata": {},
   "outputs": [],
   "source": [
    "# Option 2: NumPy\n",
    "np.quantile(df[\"Alter\"], .5)"
   ]
  },
  {
   "cell_type": "code",
   "execution_count": null,
   "id": "ed09a05d",
   "metadata": {},
   "outputs": [],
   "source": [
    "np.quantile(df[\"Alter\"], (.25, .5, .75))"
   ]
  },
  {
   "cell_type": "markdown",
   "id": "handled-wallace",
   "metadata": {},
   "source": [
    "#### Varianz und Stichprobenvarianz"
   ]
  },
  {
   "cell_type": "code",
   "execution_count": null,
   "id": "electric-prison",
   "metadata": {},
   "outputs": [],
   "source": [
    "# Option 1: Pandas\n",
    "df.var(numeric_only=True) # Stichprobenvarianz"
   ]
  },
  {
   "cell_type": "code",
   "execution_count": null,
   "id": "minimal-irish",
   "metadata": {},
   "outputs": [],
   "source": [
    "# Option 2: Statistics\n",
    "print(\"Stichprobenvarianz: {}\".format(statistics.variance(df[\"Alter\"]))) # Stichprobenvarianz\n",
    "print(\"Varianz: {}\".format(statistics.pvariance(df[\"Alter\"]))) # Varianz"
   ]
  },
  {
   "cell_type": "code",
   "execution_count": null,
   "id": "every-teacher",
   "metadata": {},
   "outputs": [],
   "source": [
    "# Option 3: NumPy\n",
    "print(\"Stichprobenvarianz: {}\".format(np.var(df[\"Alter\"], ddof=1))) # Stichprobenvarianz\n",
    "print(\"Varianz: {}\".format(np.var(df[\"Alter\"]))) # Varianz"
   ]
  },
  {
   "cell_type": "markdown",
   "id": "significant-jacksonville",
   "metadata": {},
   "source": [
    "#### (Empirische) Standardabweichung"
   ]
  },
  {
   "cell_type": "code",
   "execution_count": null,
   "id": "sustainable-sharp",
   "metadata": {},
   "outputs": [],
   "source": [
    "# Pandas\n",
    "df.std(numeric_only=True) # Emp. Standardabweichung"
   ]
  },
  {
   "cell_type": "code",
   "execution_count": null,
   "id": "broke-commander",
   "metadata": {},
   "outputs": [],
   "source": [
    "# Option 2: Statistics\n",
    "print(\"Emp. Standardabweichung: {}\".format(statistics.stdev(df[\"Alter\"]))) # Emp. Standardabweichung\n",
    "print(\"Standardabweichung: {}\".format(statistics.pstdev(df[\"Alter\"]))) # Standardabweichung"
   ]
  },
  {
   "cell_type": "code",
   "execution_count": null,
   "id": "visible-swift",
   "metadata": {},
   "outputs": [],
   "source": [
    "# Option 3:NumPy\n",
    "print(\"Emp. Standardabweichung: {}\".format(np.std(df[\"Alter\"], ddof=1))) # Emp. Standardabweichung\n",
    "print(\"Standardabweichung: {}\".format(np.std(df[\"Alter\"]))) # Standardabweichung"
   ]
  },
  {
   "cell_type": "markdown",
   "id": "6170ecee",
   "metadata": {},
   "source": [
    "<div class=\"alert alert-warning\"><h4> Aufgabe 1: Lage und Streuung"
   ]
  },
  {
   "cell_type": "markdown",
   "id": "ba638235",
   "metadata": {},
   "source": [
    "a) Laden Sie den `iris`-Datensatz als `df_iris` aus dem `seaborn`-Paket.<br>"
   ]
  },
  {
   "cell_type": "markdown",
   "id": "f7872405",
   "metadata": {},
   "source": [
    "b) Geben Sie für alle metrischen Variablen ein geeignetes Lokalisationsmaß aus.  "
   ]
  },
  {
   "cell_type": "markdown",
   "id": "fcb48e52",
   "metadata": {},
   "source": [
    "c) Geben Sie für jede Variable des gesamten Datensatz das Maximum und Minimum aus."
   ]
  },
  {
   "cell_type": "markdown",
   "id": "f0e20226",
   "metadata": {},
   "source": [
    "e) Bestimmen Sie die relative Häufigkeitsverteilung der Variablen `species`. "
   ]
  },
  {
   "cell_type": "markdown",
   "id": "abroad-cameroon",
   "metadata": {},
   "source": [
    "## 3 Zusammenhangsmaße"
   ]
  },
  {
   "cell_type": "markdown",
   "id": "cf595e09",
   "metadata": {},
   "source": [
    "### 3.1 Zwei nominale Variablen"
   ]
  },
  {
   "cell_type": "markdown",
   "id": "0de5fb46",
   "metadata": {},
   "source": [
    "Cramérs V: $\\sqrt(\\frac{\\chi^2}{nm})$ mit\n",
    "* $\\chi^2$ als Teststatistik des $\\chi^2$-Tests,\n",
    "* $n$ die Stichprobengröße und\n",
    "* $m$ das Minimum von **Anzahl an Spalten-1** und **Anzahl an Zeilen -1**"
   ]
  },
  {
   "cell_type": "code",
   "execution_count": null,
   "id": "ffbb345a",
   "metadata": {},
   "outputs": [],
   "source": [
    "ct = pd.crosstab(df[\"Herzinfarkt\"], df[\"Schmerztyp\"]) # Kontingenztabelle\n",
    "ct"
   ]
  },
  {
   "cell_type": "code",
   "execution_count": null,
   "id": "63c53638",
   "metadata": {},
   "outputs": [],
   "source": [
    "help(stats.chi2_contingency)"
   ]
  },
  {
   "cell_type": "code",
   "execution_count": null,
   "id": "564ea5ec",
   "metadata": {},
   "outputs": [],
   "source": [
    "stats.chi2_contingency(ct)"
   ]
  },
  {
   "cell_type": "code",
   "execution_count": null,
   "id": "1f864d54",
   "metadata": {},
   "outputs": [],
   "source": [
    "X2 = stats.chi2_contingency(ct)[0]"
   ]
  },
  {
   "cell_type": "code",
   "execution_count": null,
   "id": "58c90596",
   "metadata": {},
   "outputs": [],
   "source": [
    "n = len(df)"
   ]
  },
  {
   "cell_type": "code",
   "execution_count": null,
   "id": "342a1262",
   "metadata": {},
   "outputs": [],
   "source": [
    "m = min(ct.shape)-1"
   ]
  },
  {
   "cell_type": "code",
   "execution_count": null,
   "id": "7f5307fc",
   "metadata": {},
   "outputs": [],
   "source": [
    "ct.shape"
   ]
  },
  {
   "cell_type": "code",
   "execution_count": null,
   "id": "df558173",
   "metadata": {},
   "outputs": [],
   "source": [
    "min(ct.shape)"
   ]
  },
  {
   "cell_type": "code",
   "execution_count": null,
   "id": "69d5c9c0",
   "metadata": {},
   "outputs": [],
   "source": [
    "np.sqrt(X2/(n*m))"
   ]
  },
  {
   "cell_type": "markdown",
   "id": "graphic-sending",
   "metadata": {},
   "source": [
    "### 3.2 Zwei ordinale Variablen"
   ]
  },
  {
   "cell_type": "markdown",
   "id": "0effc337",
   "metadata": {},
   "source": [
    "* Kendall'sche Tau \n",
    "* Spearman'scher Rangkorrelationskoeffizient"
   ]
  },
  {
   "cell_type": "code",
   "execution_count": null,
   "id": "375906dc",
   "metadata": {},
   "outputs": [],
   "source": [
    "# Neues ordinales Merkmal - Kapitel 6.4 Spezielle Verteilungen\n",
    "import random\n",
    "random.seed(123)\n",
    "rand = random.choices([1, 2, 3], k=len(df))\n",
    "print(rand)"
   ]
  },
  {
   "cell_type": "code",
   "execution_count": null,
   "id": "c18d4901",
   "metadata": {},
   "outputs": [],
   "source": [
    "help(stats.kendalltau)"
   ]
  },
  {
   "cell_type": "code",
   "execution_count": null,
   "id": "a08a7a60",
   "metadata": {},
   "outputs": [],
   "source": [
    "# Kendall'sche Tau\n",
    "stats.kendalltau(rand, df.Schmerzintensität)"
   ]
  },
  {
   "cell_type": "code",
   "execution_count": null,
   "id": "602c4f84",
   "metadata": {},
   "outputs": [],
   "source": [
    "corr, p = stats.kendalltau(rand, df.Schmerzintensität)\n",
    "print(corr, p)"
   ]
  },
  {
   "cell_type": "code",
   "execution_count": null,
   "id": "fa4c5dae",
   "metadata": {},
   "outputs": [],
   "source": [
    "# Spearman'scher Rangkorrelationskoeffizient\n",
    "stats.spearmanr(rand, df.Schmerzintensität)"
   ]
  },
  {
   "cell_type": "markdown",
   "id": "f59ba388",
   "metadata": {},
   "source": [
    "### 3.3 Zwei metrische Variablen"
   ]
  },
  {
   "cell_type": "markdown",
   "id": "a1df34a7",
   "metadata": {},
   "source": [
    "* Kovarianz\n",
    "* Bravais-Pearson-Korrelation\n",
    "* Lineare Regression"
   ]
  },
  {
   "cell_type": "code",
   "execution_count": null,
   "id": "artistic-triangle",
   "metadata": {},
   "outputs": [],
   "source": [
    "# Visualisierung - mehr dazu in Lerneinheit 6 Graphische Darstellung\n",
    "import matplotlib.pyplot as plt\n",
    "plt.style.use('ggplot')\n",
    "plt.scatter(df.iloc[:,3], df.iloc[:,4], )\n",
    "plt.xlabel(df.columns[3])\n",
    "plt.ylabel(df.columns[4])\n",
    "plt.show()"
   ]
  },
  {
   "cell_type": "markdown",
   "id": "a845b870",
   "metadata": {},
   "source": [
    "**Kovarianz**"
   ]
  },
  {
   "cell_type": "code",
   "execution_count": null,
   "id": "found-junior",
   "metadata": {},
   "outputs": [],
   "source": [
    "df.iloc[:,4].cov(df.iloc[:,3])"
   ]
  },
  {
   "cell_type": "markdown",
   "id": "modern-aruba",
   "metadata": {},
   "source": [
    "**Bravais-Pearson-Korrelation**"
   ]
  },
  {
   "cell_type": "code",
   "execution_count": null,
   "id": "gorgeous-alexander",
   "metadata": {},
   "outputs": [],
   "source": [
    "# Option 1: NumPy\n",
    "r1 = np.corrcoef(df.iloc[:,4], df.iloc[:,3])\n",
    "print(r1)\n",
    "print(\"=========================\") # Nur zur besseren Übersichtlichkeit\n",
    "print(np.round(r1[0, 1],3))"
   ]
  },
  {
   "cell_type": "code",
   "execution_count": null,
   "id": "stone-invention",
   "metadata": {},
   "outputs": [],
   "source": [
    "# Option 2: SciPy\n",
    "r2, p2 = stats.pearsonr(df.iloc[:,4], df.iloc[:,3]) # Korrelationskoeffizient und p-Wert\n",
    "print(r2, p2)"
   ]
  },
  {
   "cell_type": "markdown",
   "id": "8c80f024",
   "metadata": {},
   "source": [
    "**Lineare Regression**"
   ]
  },
  {
   "cell_type": "code",
   "execution_count": null,
   "id": "0669a14a",
   "metadata": {},
   "outputs": [],
   "source": [
    "# scipy\n",
    "stats.linregress(df.iloc[:,4], df.iloc[:,3])"
   ]
  },
  {
   "cell_type": "code",
   "execution_count": null,
   "id": "64460f04",
   "metadata": {},
   "outputs": [],
   "source": [
    "# sklearn\n",
    "from sklearn.linear_model import LinearRegression\n",
    "model = LinearRegression()\n",
    "\n",
    "x = np.array(df.iloc[:,4]).reshape(-1,1)\n",
    "y = np.array(df.iloc[:,3])\n",
    "model.fit(x, y)"
   ]
  },
  {
   "cell_type": "code",
   "execution_count": null,
   "id": "99ed3d1e",
   "metadata": {},
   "outputs": [],
   "source": [
    "print(\"Intercept:\", model.intercept_)\n",
    "print(\"Steigung:\", model.coef_)\n",
    "print(\"R²:\", model.score(x, y))"
   ]
  },
  {
   "cell_type": "markdown",
   "id": "helpful-meeting",
   "metadata": {},
   "source": [
    "## 4 Spezielle Verteilungen"
   ]
  },
  {
   "cell_type": "markdown",
   "id": "46337b18",
   "metadata": {},
   "source": [
    "#### (Pseudo-)Zufallszahlen mit NumPy"
   ]
  },
  {
   "cell_type": "markdown",
   "id": "commercial-escape",
   "metadata": {},
   "source": [
    "Mithilfe des `random`-Moduls von NumPy lassen sich einfach und schnell Pseudozufallszahlen generieren. Durch das Setzen eines *Seeds* lassen sich die gleichen Zufallszahlen erneut generieren, sodass die Berechnungen nachvollziehbar sind. Die Befehle sind dabei wie folgt aufgebaut: <br>\n",
    "np.random.**verteilung**()"
   ]
  },
  {
   "cell_type": "markdown",
   "id": "4150f7f5",
   "metadata": {},
   "source": [
    "| Argument np.random._    | Wert                | Beschreibung                            |\n",
    "|:------------|:--------------------------------|:-----------------------------------------|\n",
    "| _binomial()  |  n, p                          | Binomialverteilung *B(n, p)*             |\n",
    "| _hypergeometric()   | ngood, nbad, nsample    | Hypergeometrische Verteilung *Hyp(N, M, n)* |\n",
    "| _poisson()       |                     lam    | Poissonverteilung *P($\\lambda$)*               |\n",
    "| _normal()   |      loc, scale                 | Normalverteilung $N(\\mu, \\sigma^2)$ |\n",
    "| _uniform()    | low, high                     | Gleichverteilung *U[a, b]*                    |\n",
    "| _exponential()   | scale                      | Exponentialverteilung $Exp(\\lambda)$ |\n",
    "|_t()              |   df                       | *t*-Verteilung $t(n)$ |\n",
    "|_chisquare()      |  df                        | $\\chi^2$-Verteilung $\\chi^2(n)$ |\n",
    "|_f()             |   dfnum, dfden              | *F*-Verteilung $F(m, n)$"
   ]
  },
  {
   "cell_type": "markdown",
   "id": "alone-springfield",
   "metadata": {},
   "source": [
    "#### Beispiel: Diskret"
   ]
  },
  {
   "cell_type": "code",
   "execution_count": null,
   "id": "inclusive-conference",
   "metadata": {},
   "outputs": [],
   "source": [
    "# Binomialverteilung: B(n, p)\n",
    "np.random.binomial(n=5, p=0.25, size=10)"
   ]
  },
  {
   "cell_type": "code",
   "execution_count": null,
   "id": "8c4fb368",
   "metadata": {},
   "outputs": [],
   "source": [
    "# Seed\n",
    "np.random.seed(345)\n",
    "np.random.binomial(n=1, p=0.5, size=10)"
   ]
  },
  {
   "cell_type": "code",
   "execution_count": null,
   "id": "486f5b18",
   "metadata": {},
   "outputs": [],
   "source": [
    "# Poisson\n",
    "np.random.poisson(lam=3, size=10)"
   ]
  },
  {
   "cell_type": "markdown",
   "id": "motivated-clinton",
   "metadata": {},
   "source": [
    "#### Stetig"
   ]
  },
  {
   "cell_type": "code",
   "execution_count": null,
   "id": "frozen-strip",
   "metadata": {},
   "outputs": [],
   "source": [
    "# Standardnormalverteilung\n",
    "np.random.normal(size=10)"
   ]
  },
  {
   "cell_type": "code",
   "execution_count": null,
   "id": "about-major",
   "metadata": {},
   "outputs": [],
   "source": [
    "# Normalverteilung: N(µ, σ^2)\n",
    "np.random.normal(loc=100, scale=30, size=10)"
   ]
  },
  {
   "cell_type": "markdown",
   "id": "4a09c0bb",
   "metadata": {},
   "source": [
    "#### SciPy"
   ]
  },
  {
   "cell_type": "markdown",
   "id": "f733de6d",
   "metadata": {},
   "source": [
    "| Funktion scipy.stats._.%|Argumente          |Beschreibung                             |\n",
    "|:------------------------|:------------------|:----------------------------------------|\n",
    "| %rvs()                  |size, random_state |(Pseudo-)Zufallsvariablen                |\n",
    "| %pmf()                  | k                 |Wahrscheinlichkeitsfunktion              |\n",
    "| %pdf()                  | x                 |Dichtefunktion                          |\n",
    "| %cdf()                  | x / k             |Verteilungsfunktion                      |\n",
    "\n",
    "| Funktion scipy.stats._.%| Argumente                | Beschreibung                             |\n",
    "|:------------------------|:-------------------------|:-----------------------------------------|\n",
    "| _binom                  | n, p                     | Binomialverteilung $B(n, p)$             |\n",
    "| _hypergeom              | M, n, N                  | Hypergeometrische Vtlg. $Hyp(N, M, n)$   |\n",
    "| _poisson                | mu = $\\lambda$           | Poissonverteilung $P(\\lambda)$           |\n",
    "| _norm                   |loc=$\\mu$, scale=$\\sigma$ | Normalverteilung $N(\\mu, \\sigma^2)$      |\n",
    "| _uniform                |loc = $a$, scale=$b$      | Gleichverteilung $U[a, b]$               |\n",
    "| _expon                  |scale=$1/\\lambda$         | Exponentialverteilung $Exp(\\lambda)$     |\n",
    "| _t                      |df                        | *t*-Verteilung $t(df)$                   |\n",
    "| _f                      |dfn = m, dfd = n          | *F*-Verteilung $F(m, n)$                 |\n",
    "| _chi2                   |df = n                    | $\\chi^2$-Verteilung $\\chi^2(n)$          |"
   ]
  },
  {
   "cell_type": "code",
   "execution_count": null,
   "id": "92cdcdc9",
   "metadata": {
    "slideshow": {
     "slide_type": "subslide"
    }
   },
   "outputs": [],
   "source": [
    "# Beispiel 1: Binomialverteilung (mehr dazu in Kapitel 7!)\n",
    "data = stats.binom.rvs(n = 10, p = 0.25, size = 30, random_state = 1234)\n",
    "plt.hist(data, bins=5, density = True, label = \"PMF\")\n",
    "plt.hist(data, bins=5, density = True, cumulative = True, label =\"CDF\", histtype = \"step\")\n",
    "plt.xlabel(\"X\")\n",
    "plt.ylabel(\"Probability\")\n",
    "plt.xticks(np.arange(0,6))\n",
    "plt.title(\"PMF and CDF: Bin(n = 10, p = 0.25)\")\n",
    "plt.legend(loc = \"upper left\")\n",
    "plt.show()"
   ]
  },
  {
   "cell_type": "code",
   "execution_count": null,
   "id": "d78bd101",
   "metadata": {},
   "outputs": [],
   "source": [
    "stats.binom.cdf(k = 3, n = 10, p = 0.25)"
   ]
  },
  {
   "cell_type": "code",
   "execution_count": null,
   "id": "33353429",
   "metadata": {},
   "outputs": [],
   "source": [
    "stats.binom.pmf(k = 3, n = 10, p = 0.25)"
   ]
  },
  {
   "cell_type": "code",
   "execution_count": null,
   "id": "5e31dd49",
   "metadata": {},
   "outputs": [],
   "source": [
    "stats.binom.rvs(n = 10, p = 0.25, size = 5, random_state=1234)"
   ]
  },
  {
   "cell_type": "code",
   "execution_count": null,
   "id": "29f2bdbe",
   "metadata": {},
   "outputs": [],
   "source": [
    "# Beispiel 2: Normalverteilung\n",
    "data_norm = stats.norm.rvs(loc = 0, scale = 1, size = 50, random_state = 123)\n",
    "data_sorted = np.sort(data_norm)\n",
    "x = stats.norm.pdf(data_sorted)\n",
    "y = stats.norm.cdf(data_sorted)\n",
    "\n",
    "plt.plot(data_sorted, x, label = \"pdf\")\n",
    "plt.plot(data_sorted, y, label = \"cdf\")\n",
    "plt.legend()\n",
    "plt.title(\"PDF and CDF: N(0,1)\")\n",
    "plt.xlim([-3, 3])\n",
    "plt.show()"
   ]
  },
  {
   "cell_type": "code",
   "execution_count": null,
   "id": "bdf14933",
   "metadata": {},
   "outputs": [],
   "source": [
    "stats.norm.cdf(x = 0, loc = 0, scale = 1)"
   ]
  },
  {
   "cell_type": "code",
   "execution_count": null,
   "id": "41cfd2dc",
   "metadata": {},
   "outputs": [],
   "source": [
    "stats.norm.pdf(x = 0, loc = 0, scale = 1)"
   ]
  },
  {
   "cell_type": "code",
   "execution_count": null,
   "id": "6ecba33c",
   "metadata": {},
   "outputs": [],
   "source": [
    "stats.norm.rvs(loc = 0, scale = 1, size = 5, random_state=5678)"
   ]
  },
  {
   "cell_type": "markdown",
   "id": "exciting-greek",
   "metadata": {},
   "source": [
    "## 5 Statistische Tests"
   ]
  },
  {
   "cell_type": "markdown",
   "id": "a02d0d56",
   "metadata": {},
   "source": [
    "Statistische Tests sind Verfahren zur Überprüfung von Annahmen (Hypothesen) über die unbekannte Verteilung oder unbekannte Parameterwerte von Zufallsvariablen in der Grundgesamtheit unter Verwendung der Ergebnisse von Zufallsstichproben.<br>\n",
    "**Hypothesenpaar:**\n",
    "* H<sub>0</sub>: Nullhypothese - die statistische Formulierung der zu prüfenden Annahme\n",
    "* H<sub>1</sub>: Alternativhypothese - die der H<sub>0</sub> entgegengestellte Hypothese\n",
    "\n",
    "**Teststatistik**: Stichprobenfunktion der Stichprobenvariablen mit bekannter (approx.) Verteilung <br>\n",
    "**Testentscheidung**: Die H<sub>0</sub> wird verworfen, wenn ein signifikanter Widerspruch aufgrund des Stichprobenergebnisses besteht:\n",
    "* Ablehnungbereich: H<sub>0</sub> wird abgelehnt, falls der Wert der Teststatistik in den Ablehnungsbereich zur H<sub>0</sub> fällt.\n",
    "* *p*-Wert: Wert des Signifikanzniveaus, für den der Wert der Teststatistik auf den Rand des Ablehnungsbereichs fällt; Wahrscheinlichkeit, mit der sich unter Gültigkeit der H<sub>0</sub> der aus der Stichprobe resultierende Wert der Teststatistik oder ein in Richtung der H<sub>1</sub> noch extremerer Wert ergibt.\n",
    "\n",
    "**Achtung**: H<sub>0</sub> wird abgeleht, falls *p*-Wert < $\\alpha$<br>"
   ]
  },
  {
   "cell_type": "markdown",
   "id": "28213180",
   "metadata": {},
   "source": [
    "| Funktion       | Beschreibung                                     |\n",
    "|:---------------|:-------------------------------------------------|\n",
    "| t.test()       | *t*-Test (1- und 2-STP.) zum Mittelwertsvergleich|\n",
    "| levene()       | Levene-Test auf Varianzhomogenität               |\n",
    "| shapiro.test() | Shapiro-Wilk Test auf Normalverteilung           |\n",
    "| chisq.test()   | Anpassungs- bzw. Unabhängigkeitstest             |\n",
    "| cor.test()     | Korrelationstest                                 |"
   ]
  },
  {
   "cell_type": "markdown",
   "id": "ea419735",
   "metadata": {},
   "source": [
    "#### 1- und 2-Stichproben *t*-Test"
   ]
  },
  {
   "cell_type": "markdown",
   "id": "b4251b87",
   "metadata": {},
   "source": [
    "Der Einstichproben *t*-Test prüft anhand des Mittelwertes einer Stichprobe, ob sich der Mittelwert einer Grundgesamtheit von einem vorgegeben Sollwert unterscheidet. <br>\n",
    "Es können drei verschiedene Hypothesenpaare formuliert werden: \n",
    "1. H<sub>0</sub>: $\\mu$ = $\\mu$<sub>0</sub> vs. H<sub>1</sub>: $\\mu$ ≠ $\\mu$<sub>0</sub> (zweiseitig)\n",
    "2. H<sub>0</sub>: $\\mu$ ≤ $\\mu$<sub>0</sub> vs. H<sub>1</sub>: $\\mu$ > $\\mu$<sub>0</sub> (rechtsseitig)\n",
    "3. H<sub>0</sub>: $\\mu$ ≥ $\\mu$<sub>0</sub> vs. H<sub>1</sub>: $\\mu$ < $\\mu$<sub>0</sub> (linksseitig)"
   ]
  },
  {
   "cell_type": "markdown",
   "id": "84538769",
   "metadata": {},
   "source": [
    "#### Einstichproben *t*-Test\n",
    "scipy.stats.ttest_1samp(a, popmean, nan_policy=\"omit\", alternative=\"two-sided\")\n",
    "* **a**: Beobachtungen der Stichprobe\n",
    "* **popmean**: Erwarteter Wert der Nullhypothese (float)\n",
    "* **nan_policy**: Umgang mit fehlenden Werten: *propagate* (default: Gibt Nan zurück), *raise* (Fehlermeldung) oder *omit* (Ignorieren)\n",
    "* **alternative**: Alternativhypothese: *two-sided* (default), *greater* oder *less*"
   ]
  },
  {
   "cell_type": "code",
   "execution_count": null,
   "id": "6e781b00",
   "metadata": {},
   "outputs": [],
   "source": [
    "# H_0: Blutdruck = 140\n",
    "stats.ttest_1samp(df[\"Blutdruck\"], 140, alternative=\"two-sided\")\n",
    "# da pvalue < 0.05 --> H0 ablehnen"
   ]
  },
  {
   "cell_type": "code",
   "execution_count": null,
   "id": "a7aa25af",
   "metadata": {},
   "outputs": [],
   "source": [
    "# H_0: Blutdruck <= 140\n",
    "stats.ttest_1samp(df[\"Blutdruck\"], 140, alternative=\"greater\")\n",
    "# da pvalue > 0.05 --> H0 nicht ablehnen"
   ]
  },
  {
   "cell_type": "code",
   "execution_count": null,
   "id": "9a4d3472",
   "metadata": {},
   "outputs": [],
   "source": [
    "# H_0: Blutdruck >= 140\n",
    "stats.ttest_1samp(df[\"Blutdruck\"], 140, alternative=\"less\")\n",
    "# da pvalue < 0.05 --> H0 ablehnen"
   ]
  },
  {
   "cell_type": "markdown",
   "id": "a8fed6fd",
   "metadata": {},
   "source": [
    "#### Zweistichproben *t*-Test\n",
    "scipy.stats.ttest_ind(a, b, equal_var=True, nan_policy=\"omit\", alternative=\"two-sided\")\n",
    "* **a** und **b**: Beobachtungen der zwei unabhängigen Stichproben\n",
    "* **equal_var**: Wenn *True* (default), dann Annahme identischer Varianzen. Wenn *False*, dann Welch's *t*-Test"
   ]
  },
  {
   "cell_type": "code",
   "execution_count": null,
   "id": "50c5335f",
   "metadata": {},
   "outputs": [],
   "source": [
    "# 2 Gruppen: Herzinfarkt ja oder nein\n",
    "df_group = df.groupby(df.Herzinfarkt)"
   ]
  },
  {
   "cell_type": "code",
   "execution_count": null,
   "id": "f79b4e22",
   "metadata": {},
   "outputs": [],
   "source": [
    "# H_0: kein Unterschied zwischen den Gruppen\n",
    "stats.ttest_ind(df_group.get_group(\"Herzinfarkt\")[\"Cholesterin\"], df_group.get_group(\"Kein Herzinfarkt\")[\"Cholesterin\"])\n",
    "# da pvalue > 0.05 --> H0 nicht ablehnen"
   ]
  },
  {
   "cell_type": "markdown",
   "id": "3ea7f8e3",
   "metadata": {},
   "source": [
    "#### Test auf Normalverteilung"
   ]
  },
  {
   "cell_type": "markdown",
   "id": "a63987bd",
   "metadata": {},
   "source": [
    "Überprüft die Hypothese, dass die zugrunde liegende Grundgesamtheit einer Stichprobe normalverteilt ist: \n",
    "* $H_0: F = F_0$ mit $F_0$ als Normalverteilung\n",
    "* $H_1: F \\neq F_0$ <br>"
   ]
  },
  {
   "cell_type": "code",
   "execution_count": null,
   "id": "6ada0db0",
   "metadata": {},
   "outputs": [],
   "source": [
    "# H_0: Blutdruck normalverteilt\n",
    "stats.shapiro(df.Blutdruck)\n",
    "# pvalue > 0.05 --> H0 nicht ablehnen"
   ]
  },
  {
   "cell_type": "markdown",
   "id": "3b556301",
   "metadata": {},
   "source": [
    "#### Test auf Varianzhomogenität"
   ]
  },
  {
   "cell_type": "markdown",
   "id": "cde24c9d",
   "metadata": {},
   "source": [
    "Überprüft die Nullhypothese, dass alle Gruppenvarianzen gleich sind:\n",
    "* $H_0: \\sigma^2_1 = \\sigma^2_2 = ... = \\sigma^2_k$\n",
    "* $H_1: \\sigma^2_i \\neq \\sigma^2_j$ für mindestens ein Gruppenpaar $i, j$ mit $i \\neq j$"
   ]
  },
  {
   "cell_type": "code",
   "execution_count": null,
   "id": "15be49c5",
   "metadata": {},
   "outputs": [],
   "source": [
    "# H_0: Varianzen zwischen allen Gruppen gleich\n",
    "stats.levene(df_group.get_group(\"Herzinfarkt\")[\"Cholesterin\"], df_group.get_group(\"Kein Herzinfarkt\")[\"Cholesterin\"])\n",
    "# p > 0.05 --> H0 nicht ablehnen"
   ]
  },
  {
   "cell_type": "markdown",
   "id": "556dc0b1",
   "metadata": {},
   "source": [
    "#### Chi-Quadrat Anpassungstest"
   ]
  },
  {
   "cell_type": "markdown",
   "id": "70dc1edd",
   "metadata": {},
   "source": [
    "Überprüft die Hypothese, dass die zugrunde liegende Grundgesamtheit einer Stichprobe einer bestimmten Verteilungsklasse folgt: \n",
    "* $H_0: F = F_0$ mit $F_0$ als hypothetische Verteilungsfunktion\n",
    "* $H_1: F \\neq F_0$ <br>"
   ]
  },
  {
   "cell_type": "code",
   "execution_count": null,
   "id": "15b28d53",
   "metadata": {},
   "outputs": [],
   "source": [
    "# Schmerztyp gleichverteilt: 4 Schmerztypen\n",
    "df_counts = df.Schmerztyp.value_counts()\n",
    "erwartet = [len(df)/4, len(df)/4, len(df)/4, len(df)/4]\n",
    "\n",
    "stats.chisquare(f_obs = df_counts, f_exp=erwartet)\n",
    "# p < 0.05 --> H0 ablehnen"
   ]
  },
  {
   "cell_type": "markdown",
   "id": "b65adc36",
   "metadata": {},
   "source": [
    "<div class=\"alert alert-warning\"><h4> Aufgabe 2: Pseudozufallszahlen"
   ]
  },
  {
   "cell_type": "markdown",
   "id": "fbf4e0c4",
   "metadata": {},
   "source": [
    "a) Ziehen Sie eine Stichprobe der Größe *n* = 99 aus einer Normalverteilung mit $\\mu$ = 5 und $\\sigma^2$ = 4 (set.seed = 1)."
   ]
  },
  {
   "cell_type": "markdown",
   "id": "0be0bcfb",
   "metadata": {},
   "source": [
    "b) Nehmen Sie an $X \\sim Poi(\\lambda = 2)$. Geben Sie folgende Werte an: \n",
    "* Verteilungsfunktion $F(x)$ an der Stelle 1 an. \n",
    "* Wahrscheinlichkeitsfunktion $f(x)$ an der Stelle 1. "
   ]
  },
  {
   "cell_type": "markdown",
   "id": "596895e5",
   "metadata": {},
   "source": [
    "c) Nehmen Sie die Zufallsvariable $Y$ sei standardnormalverteilt. Geben Sie den Wert der Dichte- und der Verteilungsfunktion an der Stelle 0 an."
   ]
  }
 ],
 "metadata": {
  "kernelspec": {
   "display_name": "Python 3 (ipykernel)",
   "language": "python",
   "name": "python3"
  },
  "language_info": {
   "codemirror_mode": {
    "name": "ipython",
    "version": 3
   },
   "file_extension": ".py",
   "mimetype": "text/x-python",
   "name": "python",
   "nbconvert_exporter": "python",
   "pygments_lexer": "ipython3",
   "version": "3.9.18"
  }
 },
 "nbformat": 4,
 "nbformat_minor": 5
}
